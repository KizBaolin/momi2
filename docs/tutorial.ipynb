{
 "cells": [
  {
   "cell_type": "markdown",
   "metadata": {
    "ein.tags": "worksheet-0",
    "slideshow": {
     "slide_type": "-"
    }
   },
   "source": [
    "# Tutorial"
   ]
  },
  {
   "cell_type": "markdown",
   "metadata": {
    "ein.tags": "worksheet-0",
    "slideshow": {
     "slide_type": "-"
    }
   },
   "source": [
    "This is a tutorial for the `momi` package. You can run the ipython\n",
    "notebook that created this tutorial at `docs/tutorial.ipynb`.\n",
    "\n",
    "To get started, import the `momi` package: "
   ]
  },
  {
   "cell_type": "code",
   "execution_count": 1,
   "metadata": {
    "autoscroll": false,
    "collapsed": false,
    "ein.tags": "worksheet-0",
    "slideshow": {
     "slide_type": "-"
    }
   },
   "outputs": [],
   "source": [
    "import momi"
   ]
  },
  {
   "cell_type": "markdown",
   "metadata": {
    "ein.tags": "worksheet-0",
    "slideshow": {
     "slide_type": "-"
    }
   },
   "source": [
    "Some `momi` operations can take awhile complete, so it is useful to turn\n",
    "on status monitoring messages to check that everything is running\n",
    "normally. Here, we output logging messages to the file `tutorial.log`.\n",
    "See the [logging](https://docs.python.org/3/library/logging.html)\n",
    "module for more details. "
   ]
  },
  {
   "cell_type": "code",
   "execution_count": 2,
   "metadata": {
    "autoscroll": false,
    "collapsed": false,
    "ein.tags": "worksheet-0",
    "slideshow": {
     "slide_type": "-"
    }
   },
   "outputs": [],
   "source": [
    "import logging\n",
    "logging.basicConfig(level=logging.INFO, \n",
    "                    filename=\"tutorial.log\")"
   ]
  },
  {
   "cell_type": "markdown",
   "metadata": {
    "ein.tags": "worksheet-0",
    "slideshow": {
     "slide_type": "-"
    }
   },
   "source": [
    "## Constructing a demographic history "
   ]
  },
  {
   "cell_type": "markdown",
   "metadata": {
    "ein.tags": "worksheet-0",
    "slideshow": {
     "slide_type": "-"
    }
   },
   "source": [
    "Use [DemographicModel](api.rst#momi.DemographicModel) to construct a demographic history.\n",
    "Below, we set the diploid effective size `N_e=1.2e4`, the generation time\n",
    "`gen_time=29` years per generation, and mutation rate `muts_per_gen=1.25e-8`\n",
    "per base per generation. "
   ]
  },
  {
   "cell_type": "code",
   "execution_count": 3,
   "metadata": {
    "autoscroll": false,
    "collapsed": false,
    "ein.tags": "worksheet-0",
    "slideshow": {
     "slide_type": "-"
    }
   },
   "outputs": [],
   "source": [
    "model = momi.DemographicModel(N_e=1.2e4, gen_time=29,\n",
    "                              muts_per_gen=1.25e-8)"
   ]
  },
  {
   "cell_type": "markdown",
   "metadata": {
    "ein.tags": "worksheet-0",
    "slideshow": {
     "slide_type": "-"
    }
   },
   "source": [
    "Use [DemographicModel.add_leaf](api.rst#momi.DemographicModel.add_leaf)\n",
    "to add sampled populations.\n",
    "Below we add 3 populations: YRI, CHB, and NEA.\n",
    "The archaic NEA population is sampled `t=5e4` years ago,\n",
    "while the CHB population is initialized to have size `N=1e5`\n",
    "and growth rate `g=5e-4` per year (YRI and NEA start at the default size `1.2e4`). "
   ]
  },
  {
   "cell_type": "code",
   "execution_count": 4,
   "metadata": {
    "autoscroll": false,
    "collapsed": false,
    "ein.tags": "worksheet-0",
    "slideshow": {
     "slide_type": "-"
    }
   },
   "outputs": [],
   "source": [
    "# add YRI leaf at t=0 and default_N\n",
    "model.add_leaf(\"YRI\")\n",
    "# add  CHB leaf at t=0, N=1e5, growing at rate 5e-4 per unit time (year)\n",
    "model.add_leaf(\"CHB\", N=1e5, g=5e-4)\n",
    "# add NEA leaf at 50kya\n",
    "model.add_leaf(\"NEA\", t=5e4)"
   ]
  },
  {
   "cell_type": "markdown",
   "metadata": {
    "ein.tags": "worksheet-0",
    "slideshow": {
     "slide_type": "-"
    }
   },
   "source": [
    "Demographic events are added to the model by the methods [DemographicModel.set_size](api.rst#momi.DemographicModel.set_size)\n",
    "and [DemographicModel.move_lineages](api.rst#momi.DemographicModel.move_lineages). `DemographicModel.set_size` is used to change population size\n",
    "and growth rate, while `DemographicModel.move_lineages` is used for population split\n",
    "and admixture events."
   ]
  },
  {
   "cell_type": "code",
   "execution_count": 5,
   "metadata": {
    "autoscroll": false,
    "collapsed": false,
    "ein.tags": "worksheet-0",
    "slideshow": {
     "slide_type": "-"
    }
   },
   "outputs": [],
   "source": [
    "# stop CHB growth at 10kya\n",
    "model.set_size(\"CHB\", g=0, t=1e4)\n",
    "\n",
    "# at 45kya CHB receive a 3% pulse from GhostNea\n",
    "model.move_lineages(\"CHB\", \"GhostNea\", t=4.5e4, p=.03)\n",
    "# at 55kya GhostNea joins onto NEA\n",
    "model.move_lineages(\"GhostNea\", \"NEA\", t=5.5e4)\n",
    "\n",
    "# at 80 kya CHB goes thru bottleneck\n",
    "model.set_size(\"CHB\", N=100, t=8e4)\n",
    "# at 85 kya CHB joins onto YRI\n",
    "model.move_lineages(\"CHB\", \"YRI\", t=8.5e4)\n",
    "\n",
    "# at 500 kya YRI joins onto NEA\n",
    "model.move_lineages(\"YRI\", \"NEA\", t=5e5)"
   ]
  },
  {
   "cell_type": "markdown",
   "metadata": {
    "ein.tags": "worksheet-0",
    "slideshow": {
     "slide_type": "-"
    }
   },
   "source": [
    "Note that events can involve other populations aside from the 3 sampled\n",
    "populations YRI, CHB, and NEA. Unsampled populations are also known as\n",
    "\"ghost populations\". In this example, CHB receives a small amount of\n",
    "admixture from a population \"GhostNea\", which splits off from NEA at an\n",
    "earlier date. "
   ]
  },
  {
   "cell_type": "markdown",
   "metadata": {
    "ein.tags": "worksheet-0",
    "slideshow": {
     "slide_type": "-"
    }
   },
   "source": [
    "## Plotting a demography "
   ]
  },
  {
   "cell_type": "markdown",
   "metadata": {
    "ein.tags": "worksheet-0",
    "slideshow": {
     "slide_type": "-"
    }
   },
   "source": [
    "`momi` relies on [matplotlib](https://matplotlib.org/) for plotting.\n",
    "In a notebook, first call `%matplotlib inline`\n",
    "to enable matplotlib, then you can\n",
    "use [DemographyPlot](api.rst#momi.DemographyPlot) to create a plot of the demographic model."
   ]
  },
  {
   "cell_type": "code",
   "execution_count": 6,
   "metadata": {
    "autoscroll": false,
    "collapsed": false,
    "ein.tags": "worksheet-0",
    "slideshow": {
     "slide_type": "-"
    }
   },
   "outputs": [
    {
     "data": {
      "image/png": "[encoded data removed]",
      "text/plain": [
       "<matplotlib.figure.Figure at 0x7f8f82157fd0>"
      ]
     },
     "metadata": {},
     "output_type": "display_data"
    }
   ],
   "source": [
    "%matplotlib inline\n",
    "\n",
    "yticks = [1e4, 2.5e4, 5e4, 7.5e4, 1e5, 2.5e5, 5e5, 7.5e5]\n",
    "\n",
    "fig = momi.DemographyPlot(\n",
    "    model, [\"YRI\", \"CHB\", \"GhostNea\", \"NEA\"],\n",
    "    figsize=(6,8),\n",
    "    major_yticks=yticks,\n",
    "    linthreshy=1e5, pulse_color_bounds=(0,.25))"
   ]
  },
  {
   "cell_type": "markdown",
   "metadata": {
    "ein.tags": "worksheet-0",
    "slideshow": {
     "slide_type": "-"
    }
   },
   "source": [
    "Note the user needs to specify the order of all populations (including\n",
    "ghost populations) along the x-axis.\n",
    "\n",
    "The argument `linthreshy` is useful for visualizing demographic events\n",
    "at different scales. In our example, the split time of NEA is far above\n",
    "the other events. Times below `linthreshy` are plotted on a linear\n",
    "scale, while times above it are plotted on a log scale.\n",
    "\n"
   ]
  },
  {
   "cell_type": "markdown",
   "metadata": {
    "ein.tags": "worksheet-0",
    "slideshow": {
     "slide_type": "-"
    }
   },
   "source": [
    "## Reading and simulating data "
   ]
  },
  {
   "cell_type": "markdown",
   "metadata": {
    "ein.tags": "worksheet-0",
    "slideshow": {
     "slide_type": "-"
    }
   },
   "source": [
    "In this section we demonstrate how to read in data from a VCF file.\n",
    "We start by simulating a dataset so that we can read it in later. "
   ]
  },
  {
   "cell_type": "markdown",
   "metadata": {
    "ein.tags": "worksheet-0",
    "slideshow": {
     "slide_type": "-"
    }
   },
   "source": [
    "### Simulating data "
   ]
  },
  {
   "cell_type": "markdown",
   "metadata": {
    "ein.tags": "worksheet-0",
    "slideshow": {
     "slide_type": "-"
    }
   },
   "source": [
    "Use [DemographicModel.simulate_vcf](api.rst#momi.DemographicModel.simulate_vcf)\n",
    "to simulate data (using [msprime](https://msprime.readthedocs.io/)) and save the resulting dataset\n",
    "to a VCF file.\n",
    "\n",
    "Below we simulate a dataset of diploid individuals,\n",
    "with 20 \"chromosomes\" of length 50Kb, with a recombination\n",
    "rate of 1.25e-8. "
   ]
  },
  {
   "cell_type": "code",
   "execution_count": 7,
   "metadata": {
    "autoscroll": false,
    "collapsed": false,
    "ein.tags": "worksheet-0",
    "slideshow": {
     "slide_type": "-"
    }
   },
   "outputs": [],
   "source": [
    "recoms_per_gen = 1.25e-8\n",
    "bases_per_locus = int(5e5)\n",
    "n_loci = 20\n",
    "ploidy = 2\n",
    "\n",
    "# n_alleles per population (n_individuals = n_alleles / ploidy)\n",
    "sampled_n_dict = {\"NEA\":2, \"YRI\":4, \"CHB\":4}\n",
    "\n",
    "# create data directory if it doesn't exist\n",
    "!mkdir -p tutorial_datasets/\n",
    "\n",
    "# simulate 20 \"chromosomes\", saving each in a separate vcf file\n",
    "for chrom in range(1, n_loci+1):\n",
    "      model.simulate_vcf(\n",
    "            f\"tutorial_datasets/{chrom}\",\n",
    "            recoms_per_gen=recoms_per_gen,\n",
    "            length=bases_per_locus,\n",
    "            chrom_name=f\"chr{chrom}\",\n",
    "            ploidy=ploidy,\n",
    "            random_seed=1234+chrom,\n",
    "            sampled_n_dict=sampled_n_dict,\n",
    "            force=True)"
   ]
  },
  {
   "cell_type": "markdown",
   "metadata": {
    "ein.tags": "worksheet-0",
    "slideshow": {
     "slide_type": "-"
    }
   },
   "source": [
    "We saved the datasets in `tutorial_datasets/$chrom.vcf.gz`. Accompanying tabix and bed files are also created."
   ]
  },
  {
   "cell_type": "code",
   "execution_count": 8,
   "metadata": {
    "autoscroll": false,
    "collapsed": false,
    "ein.tags": "worksheet-0",
    "slideshow": {
     "slide_type": "-"
    }
   },
   "outputs": [
    {
     "name": "stdout",
     "output_type": "stream",
     "text": [
      "10.bed\t       14.bed\t      18.bed\t     2.bed\t   6.bed\r\n",
      "10.vcf.gz      14.vcf.gz      18.vcf.gz      2.vcf.gz\t   6.vcf.gz\r\n",
      "10.vcf.gz.tbi  14.vcf.gz.tbi  18.vcf.gz.tbi  2.vcf.gz.tbi  6.vcf.gz.tbi\r\n",
      "11.bed\t       15.bed\t      19.bed\t     3.bed\t   7.bed\r\n",
      "11.vcf.gz      15.vcf.gz      19.vcf.gz      3.vcf.gz\t   7.vcf.gz\r\n",
      "11.vcf.gz.tbi  15.vcf.gz.tbi  19.vcf.gz.tbi  3.vcf.gz.tbi  7.vcf.gz.tbi\r\n",
      "12.bed\t       16.bed\t      1.bed\t     4.bed\t   8.bed\r\n",
      "12.vcf.gz      16.vcf.gz      1.vcf.gz\t     4.vcf.gz\t   8.vcf.gz\r\n",
      "12.vcf.gz.tbi  16.vcf.gz.tbi  1.vcf.gz.tbi   4.vcf.gz.tbi  8.vcf.gz.tbi\r\n",
      "13.bed\t       17.bed\t      20.bed\t     5.bed\t   9.bed\r\n",
      "13.vcf.gz      17.vcf.gz      20.vcf.gz      5.vcf.gz\t   9.vcf.gz\r\n",
      "13.vcf.gz.tbi  17.vcf.gz.tbi  20.vcf.gz.tbi  5.vcf.gz.tbi  9.vcf.gz.tbi\r\n"
     ]
    }
   ],
   "source": [
    "!ls tutorial_datasets/"
   ]
  },
  {
   "cell_type": "markdown",
   "metadata": {
    "ein.tags": "worksheet-0",
    "slideshow": {
     "slide_type": "-"
    }
   },
   "source": [
    "### Read in data from vcf "
   ]
  },
  {
   "cell_type": "markdown",
   "metadata": {
    "ein.tags": "worksheet-0",
    "slideshow": {
     "slide_type": "-"
    }
   },
   "source": [
    "Now we read in the datasets we just simulated.\n",
    "\n",
    "The first step is to create a mapping from individuals to populations.\n",
    "We save this mapping to a text file whose first column\n",
    "is for individuals and second column is for populations."
   ]
  },
  {
   "cell_type": "code",
   "execution_count": 9,
   "metadata": {
    "autoscroll": false,
    "collapsed": false,
    "ein.tags": "worksheet-0",
    "slideshow": {
     "slide_type": "-"
    }
   },
   "outputs": [
    {
     "name": "stdout",
     "output_type": "stream",
     "text": [
      "NEA_0\tNEA\r\n",
      "YRI_0\tYRI\r\n",
      "YRI_1\tYRI\r\n",
      "CHB_0\tCHB\r\n",
      "CHB_1\tCHB\r\n"
     ]
    }
   ],
   "source": [
    "# a dict mapping samples to populations\n",
    "ind2pop = {}\n",
    "for pop, n in sampled_n_dict.items():\n",
    "    for i in range(int(n / ploidy)):\n",
    "        # in the vcf, samples are named like YRI_0, YRI_1, CHB_0, etc\n",
    "        ind2pop[\"{}_{}\".format(pop, i)] = pop\n",
    "\n",
    "with open(\"tutorial_datasets/ind2pop.txt\", \"w\") as f:\n",
    "    for i, p in ind2pop.items():\n",
    "        print(i, p, sep=\"\\t\", file=f)\n",
    "\n",
    "!cat tutorial_datasets/ind2pop.txt"
   ]
  },
  {
   "cell_type": "markdown",
   "metadata": {
    "ein.tags": "worksheet-0",
    "slideshow": {
     "slide_type": "-"
    }
   },
   "source": [
    "#### Compute allele counts"
   ]
  },
  {
   "cell_type": "markdown",
   "metadata": {
    "ein.tags": "worksheet-0",
    "slideshow": {
     "slide_type": "-"
    }
   },
   "source": [
    "The next step is to compute the allele counts for each VCF separately.\n",
    "To do this, use the shell command `python -m momi.read_vcf $VCF $IND2POP $OUTFILE --bed $BED`: "
   ]
  },
  {
   "cell_type": "code",
   "execution_count": 11,
   "metadata": {
    "autoscroll": false,
    "collapsed": false,
    "ein.tags": "worksheet-0",
    "slideshow": {
     "slide_type": "-"
    }
   },
   "outputs": [],
   "source": [
    "%%sh\n",
    "for chrom in `seq 1 20`;\n",
    "do\n",
    "    python -m momi.read_vcf \\\n",
    "           tutorial_datasets/$chrom.vcf.gz tutorial_datasets/ind2pop.txt \\\n",
    "           tutorial_datasets/$chrom.snpAlleleCounts.gz \\\n",
    "           --bed tutorial_datasets/$chrom.bed\n",
    "done"
   ]
  },
  {
   "cell_type": "markdown",
   "metadata": {
    "ein.tags": "worksheet-0",
    "slideshow": {
     "slide_type": "-"
    }
   },
   "source": [
    "The `--bed` flag specifies the BED mask file and also determines the size of the data in bases.\n",
    "Do NOT use the same BED mask across multiple VCF files -- otherwise regions will be double-counted when\n",
    "computing the length of the data!\n",
    "\n",
    "By default ancestral alleles are read from the INFO AA field\n",
    "(SNPs missing this field are skipped) but this behavior can be\n",
    "changed by setting the flags `--no_aa` or `--outgroup`.\n",
    "\n",
    "Use the `--help` flag to see more command line options,\n",
    "and see also the documentation for [SnpAlleleCounts.read_vcf](api.rst#momi.SnpAlleleCounts.read_vcf),\n",
    "which provides the same functionality within Python."
   ]
  },
  {
   "cell_type": "markdown",
   "metadata": {
    "ein.tags": "worksheet-0",
    "slideshow": {
     "slide_type": "-"
    }
   },
   "source": [
    "#### Extract combined SFS"
   ]
  },
  {
   "cell_type": "markdown",
   "metadata": {
    "ein.tags": "worksheet-0",
    "slideshow": {
     "slide_type": "-"
    }
   },
   "source": [
    "Use `python -m momi.extract_sfs $OUTFILE $NBLOCKS $COUNTS...` from the command line to combine the SFS across multiple files, and split the SFS into a number of equally sized blocks for jackknifing and bootstrapping. "
   ]
  },
  {
   "cell_type": "code",
   "execution_count": 12,
   "metadata": {
    "autoscroll": false,
    "collapsed": false,
    "ein.tags": "worksheet-0",
    "slideshow": {
     "slide_type": "-"
    }
   },
   "outputs": [],
   "source": [
    "%%sh\n",
    "python -m momi.extract_sfs tutorial_datasets/sfs.gz 100 tutorial_datasets/*.snpAlleleCounts.gz"
   ]
  },
  {
   "cell_type": "markdown",
   "metadata": {
    "ein.tags": "worksheet-0",
    "slideshow": {
     "slide_type": "-"
    }
   },
   "source": [
    "Use the `--help` flag to see the command line options,\n",
    "and see also the documentation for [SnpAlleleCounts.extract_sfs](api.rst#momi.SnpAlleleCounts.extract_sfs)\n",
    "which provides the same functionality within Python. "
   ]
  },
  {
   "cell_type": "markdown",
   "metadata": {
    "ein.tags": "worksheet-0",
    "slideshow": {
     "slide_type": "-"
    }
   },
   "source": [
    "#### Read SFS into Python"
   ]
  },
  {
   "cell_type": "markdown",
   "metadata": {
    "ein.tags": "worksheet-0",
    "slideshow": {
     "slide_type": "-"
    }
   },
   "source": [
    "Finally, read the SFS file into Python with [Sfs.load](api.rst#momi.Sfs.load): "
   ]
  },
  {
   "cell_type": "code",
   "execution_count": 13,
   "metadata": {
    "autoscroll": false,
    "collapsed": false,
    "ein.tags": "worksheet-0",
    "slideshow": {
     "slide_type": "-"
    }
   },
   "outputs": [],
   "source": [
    "sfs = momi.Sfs.load(\"tutorial_datasets/sfs.gz\")"
   ]
  },
  {
   "cell_type": "markdown",
   "metadata": {
    "ein.tags": "worksheet-0",
    "slideshow": {
     "slide_type": "-"
    }
   },
   "source": [
    "## Inference "
   ]
  },
  {
   "cell_type": "markdown",
   "metadata": {
    "ein.tags": "worksheet-0",
    "slideshow": {
     "slide_type": "-"
    }
   },
   "source": [
    "In this section we will infer a demography for the data we simulated.\n",
    "We will start by fitting a sub-demography on CHB and YRI, and then\n",
    "iteratively build on this model, by adding the NEA population and also\n",
    "additional parameters and events. "
   ]
  },
  {
   "cell_type": "markdown",
   "metadata": {
    "ein.tags": "worksheet-0",
    "slideshow": {
     "slide_type": "-"
    }
   },
   "source": [
    "### An initial model for YRI and CHB "
   ]
  },
  {
   "cell_type": "markdown",
   "metadata": {
    "ein.tags": "worksheet-0",
    "slideshow": {
     "slide_type": "-"
    }
   },
   "source": [
    "We will start by fitting a simplifed model without admixture.\n",
    "Use `DemographicModel()` to initialize it as before:"
   ]
  },
  {
   "cell_type": "code",
   "execution_count": 24,
   "metadata": {
    "autoscroll": false,
    "collapsed": false,
    "ein.tags": "worksheet-0",
    "scrolled": true,
    "slideshow": {
     "slide_type": "-"
    }
   },
   "outputs": [],
   "source": [
    "no_pulse_model = momi.DemographicModel(\n",
    "    N_e=1.2e4, gen_time=29, muts_per_gen=1.25e-8)"
   ]
  },
  {
   "cell_type": "markdown",
   "metadata": {
    "ein.tags": "worksheet-0",
    "slideshow": {
     "slide_type": "-"
    }
   },
   "source": [
    "Note that `muts_per_gen` is optional, and can be omitted if unknown, but specifying it provides extra power to the model.\n",
    "\n",
    "Use [DemographicModel.set_data](api.rst#momi.DemographicModel.set_data)\n",
    "to add data to the model for inference:"
   ]
  },
  {
   "cell_type": "code",
   "execution_count": 25,
   "metadata": {
    "autoscroll": false,
    "collapsed": false,
    "ein.tags": "worksheet-0",
    "slideshow": {
     "slide_type": "-"
    }
   },
   "outputs": [],
   "source": [
    "no_pulse_model.set_data(sfs)"
   ]
  },
  {
   "cell_type": "markdown",
   "metadata": {
    "ein.tags": "worksheet-0",
    "slideshow": {
     "slide_type": "-"
    }
   },
   "source": [
    "To add parameters to the model, use\n",
    "[DemographicModel.add_size_param](api.rst#momi.DemographicModel.add_size_param),\n",
    "[DemographicModel.add_time_param](api.rst#momi.DemographicModel.add_time_param),\n",
    "[DemographicModel.add_growth_param](api.rst#momi.DemographicModel.add_growth_param),\n",
    "and\n",
    "[DemographicModel.add_pulse_param](api.rst#momi.DemographicModel.add_pulse_param).\n",
    "\n",
    "Below we define parameters for the CHB size, the CHB growth rate,\n",
    "and the CHB-YRI split time: "
   ]
  },
  {
   "cell_type": "code",
   "execution_count": 26,
   "metadata": {
    "autoscroll": false,
    "collapsed": false,
    "ein.tags": "worksheet-0",
    "slideshow": {
     "slide_type": "-"
    }
   },
   "outputs": [],
   "source": [
    "# random initial value\n",
    "no_pulse_model.add_size_param(\"n_chb\") \n",
    "# initial value 0; user-specified lower,upper bounds\n",
    "no_pulse_model.add_growth_param(\"g_chb\", 0, lower=-1e-3, upper=1e-3)\n",
    "# random initial value; user-specified lower bound\n",
    "no_pulse_model.add_time_param(\"t_chb_yri\", lower=1e4) "
   ]
  },
  {
   "cell_type": "markdown",
   "metadata": {
    "ein.tags": "worksheet-0",
    "slideshow": {
     "slide_type": "-"
    }
   },
   "source": [
    "Demographic events can be added similarly as before. \n",
    "Parameters are specified by name (string), \n",
    "while constants are specified as numbers (float)."
   ]
  },
  {
   "cell_type": "code",
   "execution_count": 27,
   "metadata": {
    "autoscroll": false,
    "collapsed": false,
    "ein.tags": "worksheet-0",
    "slideshow": {
     "slide_type": "-"
    }
   },
   "outputs": [],
   "source": [
    "no_pulse_model.add_leaf(\"CHB\", N=\"n_chb\", g=\"g_chb\")\n",
    "no_pulse_model.add_leaf(\"YRI\")\n",
    "no_pulse_model.set_size(\"CHB\", t=1e4, g=0)\n",
    "no_pulse_model.move_lineages(\"CHB\", \"YRI\", t=\"t_chb_yri\")"
   ]
  },
  {
   "cell_type": "markdown",
   "metadata": {
    "ein.tags": "worksheet-0",
    "slideshow": {
     "slide_type": "-"
    }
   },
   "source": [
    "Use [DemographicModel.optimize](api.rst#momi.DemographicModel.optimize) to search for the MLE.\n",
    "It is a thin wrapper around [scipy.optimize.minimize](https://docs.scipy.org/doc/scipy/reference/generated/scipy.optimize.minimize.html) and accepts similar arguments. "
   ]
  },
  {
   "cell_type": "code",
   "execution_count": 28,
   "metadata": {
    "autoscroll": false,
    "collapsed": false,
    "ein.tags": "worksheet-0",
    "slideshow": {
     "slide_type": "-"
    }
   },
   "outputs": [
    {
     "data": {
      "text/plain": [
       "            fun: 0.0015907982485317484\n            jac: array([ 5.21534740e-07, -2.36850279e-03,  9.00314751e-10])\n  kl_divergence: 0.0015907982485317484\n log_likelihood: -33247.6142288936\n        message: 'Converged (|f_n-f_(n-1)| ~= 0)'\n           nfev: 66\n            nit: 27\n     parameters: ParamsDict({'n_chb': 19052410.901539385, 'g_chb': 0.001, 't_chb_yri': 117708.93916111067})\n         status: 1\n        success: True\n              x: array([1.67627042e+01, 1.00000000e-03, 1.07708939e+05])"
      ]
     },
     "execution_count": 28,
     "metadata": {},
     "output_type": "execute_result"
    }
   ],
   "source": [
    "no_pulse_model.optimize(method=\"TNC\") "
   ]
  },
  {
   "cell_type": "markdown",
   "metadata": {
    "ein.tags": "worksheet-0",
    "slideshow": {
     "slide_type": "-"
    }
   },
   "source": [
    "The default optimization method is `method=\"TNC\"` (truncated Newton conjugate).\n",
    "This is very accurate but can be slow for large models; for large models,\n",
    "`method=\"L-BFGS-B\"` is a good choice.\n",
    "\n",
    "We can print the inferred parameter values with [DemographicModel.get_params](api.rst#momi.DemographicModel.get_params): "
   ]
  },
  {
   "cell_type": "code",
   "execution_count": 29,
   "metadata": {
    "autoscroll": false,
    "collapsed": false,
    "ein.tags": "worksheet-0",
    "slideshow": {
     "slide_type": "-"
    }
   },
   "outputs": [
    {
     "data": {
      "text/plain": [
       "ParamsDict([('n_chb', 19052410.901539385),\n            ('g_chb', 0.001),\n            ('t_chb_yri', 117708.93916111067)])"
      ]
     },
     "execution_count": 29,
     "metadata": {},
     "output_type": "execute_result"
    }
   ],
   "source": [
    "no_pulse_model.get_params()"
   ]
  },
  {
   "cell_type": "markdown",
   "metadata": {
    "ein.tags": "worksheet-0",
    "slideshow": {
     "slide_type": "-"
    }
   },
   "source": [
    "and we can plot the inferred demography as before:"
   ]
  },
  {
   "cell_type": "code",
   "execution_count": 30,
   "metadata": {
    "autoscroll": false,
    "collapsed": false,
    "ein.tags": "worksheet-0",
    "slideshow": {
     "slide_type": "-"
    }
   },
   "outputs": [
    {
     "data": {
      "image/png": "[encoded data removed]",
      "text/plain": [
       "<matplotlib.figure.Figure at 0x7f8f7f0089b0>"
      ]
     },
     "metadata": {},
     "output_type": "display_data"
    }
   ],
   "source": [
    "# plot the model\n",
    "fig = momi.DemographyPlot(no_pulse_model, [\"YRI\", \"CHB\"],\n",
    "                          figsize=(6,8), linthreshy=1e5,\n",
    "                          major_yticks=yticks,\n",
    "                          pulse_color_bounds=(0,.25))"
   ]
  },
  {
   "cell_type": "markdown",
   "metadata": {
    "ein.tags": "worksheet-0",
    "slideshow": {
     "slide_type": "-"
    }
   },
   "source": [
    "### Adding NEA to the existing model "
   ]
  },
  {
   "cell_type": "markdown",
   "metadata": {
    "ein.tags": "worksheet-0",
    "slideshow": {
     "slide_type": "-"
    }
   },
   "source": [
    "Now we add in the NEA population, along with a parameter for its split time\n",
    "`t_anc`. We use the keyword `lower_constraints` to require that `t_anc > t_chb_yri`. "
   ]
  },
  {
   "cell_type": "code",
   "execution_count": 31,
   "metadata": {
    "autoscroll": false,
    "collapsed": false,
    "ein.tags": "worksheet-0",
    "slideshow": {
     "slide_type": "-"
    }
   },
   "outputs": [],
   "source": [
    "no_pulse_model.add_leaf(\"NEA\", t=5e4)\n",
    "no_pulse_model.add_time_param(\"t_anc\", lower=5e4, lower_constraints=[\"t_chb_yri\"])\n",
    "no_pulse_model.move_lineages(\"YRI\", \"NEA\", t=\"t_anc\")"
   ]
  },
  {
   "cell_type": "markdown",
   "metadata": {
    "ein.tags": "worksheet-0",
    "slideshow": {
     "slide_type": "-"
    }
   },
   "source": [
    "We search for the new MLE and plot the inferred demography: "
   ]
  },
  {
   "cell_type": "code",
   "execution_count": 32,
   "metadata": {
    "autoscroll": false,
    "collapsed": false,
    "ein.tags": "worksheet-0",
    "slideshow": {
     "slide_type": "-"
    }
   },
   "outputs": [
    {
     "data": {
      "image/png": "[encoded data removed]",
      "text/plain": [
       "<matplotlib.figure.Figure at 0x7f8f7fe5ed68>"
      ]
     },
     "metadata": {},
     "output_type": "display_data"
    }
   ],
   "source": [
    "no_pulse_model.optimize()\n",
    "\n",
    "fig = momi.DemographyPlot(\n",
    "    no_pulse_model, [\"YRI\", \"CHB\", \"NEA\"],\n",
    "    figsize=(6,8), linthreshy=1e5,\n",
    "    major_yticks=yticks) "
   ]
  },
  {
   "cell_type": "markdown",
   "metadata": {
    "ein.tags": "worksheet-0",
    "slideshow": {
     "slide_type": "-"
    }
   },
   "source": [
    "### Build a new model adding NEA->CHB "
   ]
  },
  {
   "cell_type": "markdown",
   "metadata": {
    "ein.tags": "worksheet-0",
    "slideshow": {
     "slide_type": "-"
    }
   },
   "source": [
    "Now we create a new `DemographicModel`,\n",
    "by copying the previous model and adding a NEA->CHB\n",
    "migration arrow. "
   ]
  },
  {
   "cell_type": "code",
   "execution_count": 34,
   "metadata": {
    "autoscroll": false,
    "collapsed": false,
    "ein.tags": "worksheet-0",
    "slideshow": {
     "slide_type": "-"
    }
   },
   "outputs": [],
   "source": [
    "add_pulse_model = no_pulse_model.copy()\n",
    "add_pulse_model.add_pulse_param(\"p_pulse\", upper=.25)\n",
    "add_pulse_model.add_time_param(\n",
    "    \"t_pulse\", upper_constraints=[\"t_chb_yri\"])\n",
    "\n",
    "add_pulse_model.move_lineages(\n",
    "    \"CHB\", \"GhostNea\", t=\"t_pulse\", p=\"p_pulse\")\n",
    "\n",
    "add_pulse_model.add_time_param(\n",
    "    \"t_ghost\", lower=5e4,\n",
    "    lower_constraints=[\"t_pulse\"], upper_constraints=[\"t_anc\"])\n",
    "add_pulse_model.move_lineages(\n",
    "    \"GhostNea\", \"NEA\", t=\"t_ghost\")"
   ]
  },
  {
   "cell_type": "markdown",
   "metadata": {
    "ein.tags": "worksheet-0",
    "slideshow": {
     "slide_type": "-"
    }
   },
   "source": [
    "It turns out this model has local optima, so we demonstrate how to\n",
    "fit a few independent runs with different starting parameters.\n",
    "\n",
    "Use [DemographicModel.set_params](api.rst#DemographicModel.set_params)\n",
    "to set new parameter values\n",
    "to start the search from. If a parameter is not specified and\n",
    "`randomize=True`, a new value will be randomly sampled for it."
   ]
  },
  {
   "cell_type": "code",
   "execution_count": 35,
   "metadata": {
    "autoscroll": false,
    "collapsed": false,
    "ein.tags": "worksheet-0",
    "slideshow": {
     "slide_type": "-"
    }
   },
   "outputs": [
    {
     "name": "stdout",
     "output_type": "stream",
     "text": [
      "Starting run 1 out of 3...\n"
     ]
    },
    {
     "name": "stdout",
     "output_type": "stream",
     "text": [
      "Starting run 2 out of 3...\n"
     ]
    },
    {
     "name": "stdout",
     "output_type": "stream",
     "text": [
      "Starting run 3 out of 3...\n"
     ]
    }
   ],
   "source": [
    "results = []\n",
    "n_runs = 3\n",
    "for i in range(n_runs):\n",
    "    print(f\"Starting run {i+1} out of {n_runs}...\")\n",
    "    add_pulse_model.set_params(\n",
    "        # parameters inherited from no_pulse_model are set to their previous values\n",
    "        no_pulse_model.get_params(),\n",
    "        # other parmaeters are set to random initial values\n",
    "        randomize=True)\n",
    "\n",
    "    results.append(add_pulse_model.optimize())\n",
    "\n",
    "# sort results according to log likelihood, pick the best one\n",
    "best_result = sorted(results, key=lambda r: r.log_likelihood)[0]\n",
    "\n",
    "add_pulse_model.set_params(best_result.parameters)"
   ]
  },
  {
   "cell_type": "code",
   "execution_count": 36,
   "metadata": {
    "autoscroll": false,
    "collapsed": false,
    "ein.tags": "worksheet-0",
    "slideshow": {
     "slide_type": "-"
    }
   },
   "outputs": [
    {
     "data": {
      "text/plain": [
       "<matplotlib.legend.Legend at 0x7f8f7efcffd0>"
      ]
     },
     "execution_count": 36,
     "metadata": {},
     "output_type": "execute_result"
    },
    {
     "data": {
      "image/png": "[encoded data removed]",
      "text/plain": [
       "<matplotlib.figure.Figure at 0x7f8f7efcf5f8>"
      ]
     },
     "metadata": {},
     "output_type": "display_data"
    }
   ],
   "source": [
    "# plot the model\n",
    "fig = momi.DemographyPlot(\n",
    "    add_pulse_model, [\"YRI\", \"CHB\", \"GhostNea\", \"NEA\"],\n",
    "    linthreshy=1e5, figsize=(6,8),\n",
    "    major_yticks=yticks)\n",
    "# put legend in upper left corner\n",
    "fig.draw_N_legend(loc=\"upper left\") "
   ]
  },
  {
   "cell_type": "markdown",
   "metadata": {
    "ein.tags": "worksheet-0",
    "slideshow": {
     "slide_type": "-"
    }
   },
   "source": [
    "## Statistics of the SFS"
   ]
  },
  {
   "cell_type": "markdown",
   "metadata": {
    "ein.tags": "worksheet-0",
    "slideshow": {
     "slide_type": "-"
    }
   },
   "source": [
    "Here we discuss how to compute statistics of the SFS,\n",
    "for evaluating the goodness-of-fit of our models,\n",
    "and for estimating the mutation rate."
   ]
  },
  {
   "cell_type": "markdown",
   "metadata": {
    "ein.tags": "worksheet-0",
    "slideshow": {
     "slide_type": "-"
    }
   },
   "source": [
    "### Goodness-of-fit"
   ]
  },
  {
   "cell_type": "markdown",
   "metadata": {
    "ein.tags": "worksheet-0",
    "slideshow": {
     "slide_type": "-"
    }
   },
   "source": [
    "Use [SfsModelFitStats](api.rst#momi.SfsModelFitStats)\n",
    "to see how well various\n",
    "statistics of the SFS fit a model, via the block-jackknife.\n",
    "\n",
    "Below we create an `SfsModelFitStats` to evaluate\n",
    "the goodness-of-fit of the `no_pulse_model`."
   ]
  },
  {
   "cell_type": "code",
   "execution_count": 37,
   "metadata": {
    "autoscroll": false,
    "collapsed": false,
    "ein.tags": "worksheet-0",
    "slideshow": {
     "slide_type": "-"
    }
   },
   "outputs": [],
   "source": [
    "no_pulse_fit_stats = momi.SfsModelFitStats(no_pulse_model)"
   ]
  },
  {
   "cell_type": "markdown",
   "metadata": {
    "ein.tags": "worksheet-0",
    "slideshow": {
     "slide_type": "-"
    }
   },
   "source": [
    "One important statistic is the f4 or\n",
    "\"ABBA-BABA\" statistic for detecting introgression\n",
    "([Patterson et al 2012](api.rst#http://www.genetics.org/content/192/3/1065)).\n",
    "\n",
    "In the absence of admixture f4(YRI, CHB, NEA, AncestralAllele)\n",
    "should be 0, but for our dataset it will be negative due to the\n",
    "NEA->CHB admixture.\n",
    "\n",
    "Use [SfsModelFitStats.f4](api.rst#momi.SfsModelFitStats.f4)\n",
    "to compute f4 stats. For the no-pulse model, we see that\n",
    "`f4(YRI, CHB, NEA, AncestralAllele)` residual has significant Z-score:"
   ]
  },
  {
   "cell_type": "code",
   "execution_count": 38,
   "metadata": {
    "autoscroll": false,
    "collapsed": false,
    "ein.tags": "worksheet-0",
    "slideshow": {
     "slide_type": "-"
    }
   },
   "outputs": [
    {
     "name": "stdout",
     "output_type": "stream",
     "text": [
      "Computing f4(YRI, CHB, NEA, AncestralAllele)\n",
      "Expected = 3.469446951953614e-18\n",
      "Observed = -0.005514202210247513\n",
      "SD = 0.002658556730985845\n",
      "Z(Expected-Observed) = -2.074133738046185\n"
     ]
    }
   ],
   "source": [
    "print(\"Computing f4(YRI, CHB, NEA, AncestralAllele)\")\n",
    "f4 = no_pulse_fit_stats.f4(\"YRI\", \"CHB\", \"NEA\", None)\n",
    "\n",
    "print(\"Expected = {}\".format(f4.expected))\n",
    "print(\"Observed = {}\".format(f4.observed))\n",
    "print(\"SD = {}\".format(f4.sd))\n",
    "print(\"Z(Expected-Observed) = {}\".format(f4.z_score))"
   ]
  },
  {
   "cell_type": "markdown",
   "metadata": {
    "ein.tags": "worksheet-0",
    "slideshow": {
     "slide_type": "-"
    }
   },
   "source": [
    "By contrast the model with admixture fits this statistic well:"
   ]
  },
  {
   "cell_type": "code",
   "execution_count": 44,
   "metadata": {
    "autoscroll": false,
    "collapsed": false,
    "ein.tags": "worksheet-0",
    "slideshow": {
     "slide_type": "-"
    }
   },
   "outputs": [
    {
     "name": "stdout",
     "output_type": "stream",
     "text": [
      "Residual Z-score for add_pulse_model: 0.06892666102987609\n"
     ]
    }
   ],
   "source": [
    "print(\"Residual Z-score for add_pulse_model:\",\n",
    "      momi.SfsModelFitStats(add_pulse_model).f4(\n",
    "          \"YRI\", \"CHB\", \"NEA\", None).z_score)"
   ]
  },
  {
   "cell_type": "markdown",
   "metadata": {
    "ein.tags": "worksheet-0",
    "slideshow": {
     "slide_type": "-"
    }
   },
   "source": [
    "The related `f2` and `f3` statistics are also available via\n",
    "[SfsModelFitStats.f2](api.rst#momi.SfsModelFitStats.f2) and\n",
    "[SfsModelFitStats.f3](api.rst#momi.SfsModelFitStats.f3).\n",
    "\n",
    "Another method for evaluating model fit is\n",
    "[SfsModelFitStats.all_pair_ibs](api.rst#momi.SfsModelFitStats.all_pair_ibs),\n",
    "which computes the probability that \n",
    "two random alleles are the same, for every pair of populations: "
   ]
  },
  {
   "cell_type": "code",
   "execution_count": 43,
   "metadata": {
    "autoscroll": false,
    "collapsed": false,
    "ein.tags": "worksheet-0",
    "slideshow": {
     "slide_type": "-"
    }
   },
   "outputs": [
    {
     "data": {
      "text/plain": [
       "  Pop1 Pop2  Expected  Observed         Z\n0  CHB  NEA  0.545900  0.552939  1.046101\n1  YRI  YRI  0.715824  0.719586  0.800720\n2  NEA  NEA  0.715824  0.710339 -0.634543\n3  NEA  YRI  0.545900  0.542869 -0.627075\n4  CHB  CHB  0.944489  0.946806  0.359395\n5  CHB  YRI  0.672062  0.674068  0.334422"
      ]
     },
     "execution_count": 43,
     "metadata": {},
     "output_type": "execute_result"
    },
    {
     "data": {
      "image/png": "[encoded data removed]",
      "text/plain": [
       "<matplotlib.figure.Figure at 0x7f8f7ccd22b0>"
      ]
     },
     "metadata": {},
     "output_type": "display_data"
    }
   ],
   "source": [
    "no_pulse_fit_stats.all_pairs_ibs()"
   ]
  },
  {
   "cell_type": "markdown",
   "metadata": {
    "ein.tags": "worksheet-0",
    "slideshow": {
     "slide_type": "-"
    }
   },
   "source": [
    "Finally, the method\n",
    "[SfsModelFitStats.tensor_prod](api.rst#momi.SfsModelFitStats)\n",
    "can be used to\n",
    "compute very general statistics of the\n",
    "SFS (specifically, linear combinations of tensor-products of the SFS).\n",
    "See the documentation for more details."
   ]
  },
  {
   "cell_type": "markdown",
   "metadata": {
    "ein.tags": "worksheet-0",
    "slideshow": {
     "slide_type": "-"
    }
   },
   "source": [
    "#### Limitations of `SfsModelFitStats`"
   ]
  },
  {
   "cell_type": "markdown",
   "metadata": {
    "ein.tags": "worksheet-0",
    "slideshow": {
     "slide_type": "-"
    }
   },
   "source": [
    "Note the `SfsModelFitStats` class above has some limitations.\n",
    "First, it computes goodness-of-fit for the SFS without any missing data;\n",
    "all entries with missing samples are removed. For datasets\n",
    "with many individuals and pervasive missingness, this can result\n",
    "in most or all of the data being removed.\n",
    "\n",
    "In such cases you can specify to use the SFS restricted\n",
    "to a smaller number of samples; then all SNPs with at least\n",
    "that many of non-missing individuals will be used.\n",
    "For example, "
   ]
  },
  {
   "cell_type": "code",
   "execution_count": 45,
   "metadata": {
    "autoscroll": false,
    "collapsed": false,
    "ein.tags": "worksheet-0",
    "slideshow": {
     "slide_type": "-"
    }
   },
   "outputs": [],
   "source": [
    "no_pulse_fit_stats = momi.SfsModelFitStats(\n",
    "    no_pulse_model, {\"YRI\": 2, \"CHB\": 2, \"NEA\": 2})"
   ]
  },
  {
   "cell_type": "markdown",
   "metadata": {
    "ein.tags": "worksheet-0",
    "slideshow": {
     "slide_type": "-"
    }
   },
   "source": [
    "will compute statistics for the SFS \n",
    "restricted to 2 samples per population.\n",
    "\n",
    "The second limitation of `SfsModelFitStats` is that it\n",
    "ignores the mutation rate -- it only fits the SFS normalized\n",
    "to be a probability distribution.\n",
    "However, see the next subsection on how to evaluate\n",
    "the total number of mutations in the data. "
   ]
  },
  {
   "cell_type": "markdown",
   "metadata": {
    "ein.tags": "worksheet-0",
    "slideshow": {
     "slide_type": "-"
    }
   },
   "source": [
    "### Estimating mutation rate"
   ]
  },
  {
   "cell_type": "markdown",
   "metadata": {
    "ein.tags": "worksheet-0",
    "slideshow": {
     "slide_type": "-"
    }
   },
   "source": [
    "To evaluate the total number of mutations in the data,\n",
    "e.g. to fit the mutation rate, use the method\n",
    "[DemographicModel.fit_within_pop_diversity](api.rst#DemographicModel.fit_within_pop_diversity),\n",
    "which computes the within-population nucleotide\n",
    "diversity, i.e. the heterozygosity of a random\n",
    "individual from that population: "
   ]
  },
  {
   "cell_type": "code",
   "execution_count": 46,
   "metadata": {
    "autoscroll": false,
    "collapsed": false,
    "ein.tags": "worksheet-0",
    "slideshow": {
     "slide_type": "-"
    }
   },
   "outputs": [
    {
     "data": {
      "text/plain": [
       "   Pop    EstMutRate   JackknifeSD  JackknifeZscore\n0  CHB  1.242315e-08  1.505759e-09        -0.051037\n1  YRI  1.279271e-08  2.145191e-10         1.364486\n2  NEA  1.321458e-08  3.943437e-10         1.812083"
      ]
     },
     "execution_count": 46,
     "metadata": {},
     "output_type": "execute_result"
    }
   ],
   "source": [
    "no_pulse_model.fit_within_pop_diversity()"
   ]
  },
  {
   "cell_type": "markdown",
   "metadata": {
    "ein.tags": "worksheet-0",
    "slideshow": {
     "slide_type": "-"
    }
   },
   "source": [
    "This method returns a dataframe giving estimates for the mutation rate.\n",
    "Note that there is an estimate for each population -- these estimates\n",
    "are non-independent estimates for the same value, just computed\n",
    "in different ways (by computing the expected to observed heterozygosity\n",
    "for each population separately). These estimates\n",
    "account for missingness in the data; it is fine to use it\n",
    "on datasets with large amounts of missingness.\n",
    "\n",
    "Since we initialized our model with `muts_per_gen=1.25e-8`,\n",
    "the method also returns a Z-value for the residuals of the estimated\n",
    "mutation rates."
   ]
  },
  {
   "cell_type": "markdown",
   "metadata": {
    "ein.tags": "worksheet-0",
    "slideshow": {
     "slide_type": "-"
    }
   },
   "source": [
    "## Bootstrap confidence intervals "
   ]
  },
  {
   "cell_type": "markdown",
   "metadata": {
    "ein.tags": "worksheet-0",
    "slideshow": {
     "slide_type": "-"
    }
   },
   "source": [
    "Use [Sfs.resample](api.rst#momi.Sfs.resample) to create bootstrap\n",
    "datasets by resampling blocks of the SFS.\n",
    "\n",
    "To generate confidence intervals, we can refit the model\n",
    "on the bootstrap datasets and examine the quantiles of the re-inferred\n",
    "parameters.\n",
    "Below we do this for a very small number of bootstraps and a simplified\n",
    "fitting procedure. In practice you would want to generate hundreds of bootstraps on a cluster computer. "
   ]
  },
  {
   "cell_type": "code",
   "execution_count": 31,
   "metadata": {
    "autoscroll": false,
    "collapsed": false,
    "ein.tags": "worksheet-0",
    "slideshow": {
     "slide_type": "-"
    }
   },
   "outputs": [
    {
     "name": "stdout",
     "output_type": "stream",
     "text": [
      "Fitting 1-th bootstrap out of 5\n",
      "Fitting 2-th bootstrap out of 5\n",
      "Fitting 3-th bootstrap out of 5\n",
      "Fitting 4-th bootstrap out of 5\n",
      "Fitting 5-th bootstrap out of 5\n"
     ]
    }
   ],
   "source": [
    "n_bootstraps = 5\n",
    "# make copies of the original models to avoid changing them\n",
    "no_pulse_copy = no_pulse_model.copy()\n",
    "add_pulse_copy = add_pulse_model.copy()\n",
    "\n",
    "bootstrap_results = []\n",
    "for i in range(n_bootstraps):\n",
    "    print(f\"Fitting {i+1}-th bootstrap out of {n_bootstraps}\")\n",
    "\n",
    "    # resample the data\n",
    "    resampled_sfs = sfs.resample()\n",
    "    # tell models to use the new dataset\n",
    "    no_pulse_copy.set_data(resampled_sfs)\n",
    "    add_pulse_copy.set_data(resampled_sfs)\n",
    "\n",
    "    # choose new random parameters for submodel, optimize\n",
    "    no_pulse_copy.set_params(randomize=True)\n",
    "    no_pulse_copy.optimize()\n",
    "    # initialize parameters from submodel, randomizing the new parameters\n",
    "    add_pulse_copy.set_params(no_pulse_copy.get_params(),\n",
    "                              randomize=True)\n",
    "    add_pulse_copy.optimize()\n",
    "\n",
    "    bootstrap_results.append(add_pulse_copy.get_params())"
   ]
  },
  {
   "cell_type": "markdown",
   "metadata": {
    "ein.tags": "worksheet-0",
    "slideshow": {
     "slide_type": "-"
    }
   },
   "source": [
    "We can visualize the bootstrap results by overlaying them onto a single plot."
   ]
  },
  {
   "cell_type": "code",
   "execution_count": 32,
   "metadata": {
    "autoscroll": false,
    "collapsed": false,
    "ein.tags": "worksheet-0",
    "slideshow": {
     "slide_type": "-"
    }
   },
   "outputs": [
    {
     "name": "stderr",
     "output_type": "stream",
     "text": [
      "/home/jack/.local/share/virtualenvs/momi2-gAXri9wX/lib/python3.6/site-packages/autograd/tracer.py:48: RuntimeWarning: divide by zero encountered in log\n",
      "  return f_raw(*args, **kwargs)\n"
     ]
    },
    {
     "data": {
      "text/plain": [
       "<matplotlib.legend.Legend at 0x7fa73fe1b4a8>"
      ]
     },
     "execution_count": 32,
     "metadata": {},
     "output_type": "execute_result"
    },
    {
     "data": {
      "image/png": "[encoded data removed]",
      "text/plain": [
       "<matplotlib.figure.Figure at 0x7fa73fe1b438>"
      ]
     },
     "metadata": {},
     "output_type": "display_data"
    }
   ],
   "source": [
    "# make canvas, but delay plotting the demography (draw=False)\n",
    "fig = momi.DemographyPlot(\n",
    "    add_pulse_model, [\"YRI\", \"CHB\", \"GhostNea\", \"NEA\"],\n",
    "    linthreshy=1e5, figsize=(6,8),\n",
    "    major_yticks=yticks,\n",
    "    draw=False)\n",
    "\n",
    "# plot bootstraps onto the canvas in transparency\n",
    "for params in bootstrap_results:\n",
    "    fig.add_bootstrap(\n",
    "        params,\n",
    "        # alpha=0: totally transparent. alpha=1: totally opaque\n",
    "        alpha=1/n_bootstraps)\n",
    "\n",
    "# now draw the inferred demography on top of the bootstraps\n",
    "fig.draw()\n",
    "fig.draw_N_legend(loc=\"upper left\") "
   ]
  },
  {
   "cell_type": "markdown",
   "metadata": {
    "ein.tags": "worksheet-0",
    "slideshow": {
     "slide_type": "-"
    }
   },
   "source": [
    "## Other features"
   ]
  },
  {
   "cell_type": "markdown",
   "metadata": {
    "ein.tags": "worksheet-0",
    "slideshow": {
     "slide_type": "-"
    }
   },
   "source": [
    "### Stochastic gradient descent "
   ]
  },
  {
   "cell_type": "markdown",
   "metadata": {
    "ein.tags": "worksheet-0",
    "slideshow": {
     "slide_type": "-"
    }
   },
   "source": [
    "For large models, it can be useful to perform stochastic optimization:\n",
    "instead of computing the full likelihood at every step,\n",
    "we use a random subset of SNPs at each step to estimate\n",
    "the likelihood gradient. This is especially useful for\n",
    "rapidly searching for a reasonable starting point, from which\n",
    "full optimization can be performed.\n",
    "\n",
    "[DemographicModel.stochastic_optimize](api.rst#DemographicModel.stochastic_optimize)\n",
    "implements stochastic optimization with the [ADAM](https://arxiv.org/pdf/1412.6980.pdf) algorithm.\n",
    "Setting `svrg=n` makes the optimizer use the full likelihood\n",
    "every n steps which can lead to better convergence (see\n",
    "[SVRG](https://papers.nips.cc/paper/4937-accelerating-stochastic-gradient-descent-using-predictive-variance-reduction.pdf)).\n",
    "\n",
    "The cell below performs 10 steps of stochastic optimization,\n",
    "using 1000 random SNPs per step, and computing the full likelihood\n",
    "every 3 iterations. "
   ]
  },
  {
   "cell_type": "code",
   "execution_count": 33,
   "metadata": {
    "autoscroll": false,
    "collapsed": false,
    "ein.tags": "worksheet-0",
    "slideshow": {
     "slide_type": "-"
    }
   },
   "outputs": [
    {
     "data": {
      "text/plain": [
       "     fun: 3.7041955239775\n",
       "     jac: array([ 2.36757200e-06, -2.36226019e-03, -1.52532277e-07, -1.46418290e-07,\n",
       "        2.54764010e-02,  2.13347745e-05, -1.59764475e-08])\n",
       " message: 'Maximum number of iterations reached'\n",
       "     nit: 9\n",
       " success: False\n",
       "       x: array([ 1.65400741e+01, -1.00000000e-03,  8.34093634e+04,  3.69329275e+05,\n",
       "       -3.76259014e+00, -1.00550759e+00, -1.22952525e+01])"
      ]
     },
     "execution_count": 33,
     "metadata": {},
     "output_type": "execute_result"
    }
   ],
   "source": [
    "add_pulse_copy.stochastic_optimize(\n",
    "    snps_per_minibatch=1000, num_iters=10, svrg_epoch=3)"
   ]
  }
 ],
 "metadata": {
  "kernelspec": {
   "display_name": "Python 3",
   "name": "python3"
  },
  "language_info": {
   "codemirror_mode": {
    "name": "ipython",
    "version": 3
   },
   "file_extension": ".py",
   "mimetype": "text/x-python",
   "name": "python",
   "nbconvert_exporter": "python",
   "pygments_lexer": "ipython3",
   "version": "3.6.4"
  },
  "name": "tutorial.ipynb",
  "org": null
 },
 "nbformat": 4,
 "nbformat_minor": 1
}
