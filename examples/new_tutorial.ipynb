{
 "cells": [
  {
   "cell_type": "code",
   "execution_count": 1,
   "metadata": {
    "autoscroll": false,
    "collapsed": false,
    "ein.tags": "worksheet-0",
    "slideshow": {
     "slide_type": "-"
    }
   },
   "outputs": [
    {
     "name": "stdout",
     "output_type": "stream",
     "text": [
      "data\t\t\t    new_tutorial.ipynb\ttutorial_data.txt  tutorial.log\r\n",
      "example_demographies.ipynb  new_tutorial.log\ttutorial.ipynb\r\n"
     ]
    }
   ],
   "source": [
    "!ls"
   ]
  },
  {
   "cell_type": "code",
   "execution_count": 2,
   "metadata": {
    "autoscroll": false,
    "collapsed": false,
    "ein.tags": "worksheet-0",
    "slideshow": {
     "slide_type": "-"
    }
   },
   "outputs": [],
   "source": [
    "import momi\n",
    "import autograd.numpy as np\n",
    "\n",
    "import matplotlib.pyplot as plt\n",
    "%matplotlib inline\n",
    "\n",
    "import logging\n",
    "logging.basicConfig(level=logging.INFO, filename=\"new_tutorial.log\")"
   ]
  },
  {
   "cell_type": "code",
   "execution_count": 3,
   "metadata": {
    "autoscroll": false,
    "collapsed": false,
    "ein.tags": "worksheet-0",
    "slideshow": {
     "slide_type": "-"
    }
   },
   "outputs": [],
   "source": [
    "# empty model with N_e=1.2e4, 29 time units (years) per generation\n",
    "model = momi.demographic_model(default_N=1.2e4, gen_time=29)\n",
    "# add YRI leaf at t=0 and default_N\n",
    "model.add_leaf(\"YRI\")\n",
    "# add  CHB leaf at t=0, N=1e5, growing at rate 1e-3 per unit time (year)\n",
    "model.add_leaf(\"CHB\", N=1e5, g=5e-4)\n",
    "# add NEA leaf at 50kya\n",
    "model.add_leaf(\"NEA\", t=5e4)\n",
    "\n",
    "# stop CHB growth at 10kya\n",
    "model.set_size(\"CHB\", g=0, t=1e4)\n",
    "\n",
    "# at 45kya CHB receive a 3% pulse from GhostNea\n",
    "model.move_lineages(\"CHB\", \"GhostNea\", t=4.5e4, p=.03)\n",
    "# at 55kya GhostNea joins onto NEA\n",
    "model.move_lineages(\"GhostNea\", \"NEA\", t=5.5e4)\n",
    "\n",
    "# at 80 kya CHB goes thru bottleneck\n",
    "model.set_size(\"CHB\", N=100, t=8e4)\n",
    "# at 85 kya CHB joins onto YRI\n",
    "model.move_lineages(\"CHB\", \"YRI\", t=8.5e4)\n",
    "\n",
    "# at 500 kya YRI joins onto NEA\n",
    "model.move_lineages(\"YRI\", \"NEA\", t=5e5)"
   ]
  },
  {
   "cell_type": "code",
   "execution_count": 4,
   "metadata": {
    "autoscroll": false,
    "collapsed": false,
    "ein.tags": "worksheet-0",
    "slideshow": {
     "slide_type": "-"
    }
   },
   "outputs": [
    {
     "data": {
      "text/plain": [
       "[<matplotlib.axis.YTick at 0x7f8361a29780>,\n <matplotlib.axis.YTick at 0x7f8361a19d30>,\n <matplotlib.axis.YTick at 0x7f8361a42898>,\n <matplotlib.axis.YTick at 0x7f836194f2e8>,\n <matplotlib.axis.YTick at 0x7f836194f940>,\n <matplotlib.axis.YTick at 0x7f836194ff98>,\n <matplotlib.axis.YTick at 0x7f8361955630>]"
      ]
     },
     "execution_count": 4,
     "metadata": {},
     "output_type": "execute_result"
    },
    {
     "data": {
      "image/png": "[encoded data removed]",
      "text/plain": [
       "<matplotlib.figure.Figure at 0x7f8363a69908>"
      ]
     },
     "metadata": {},
     "output_type": "display_data"
    }
   ],
   "source": [
    "# plot the model\n",
    "plt.figure(figsize=(6,8))\n",
    "model.draw([\"YRI\", \"CHB\", \"GhostNea\", \"NEA\"], # specfiy pop order along the x-axis\n",
    "            linthreshy=1e5) # linear scale up to 1e5, then logarithmic\n",
    "plt.gca().set_yticks([1e4, 2.5e4, 5e4, 7.5e4, 1e5, 2.5e5, 5e5])"
   ]
  },
  {
   "cell_type": "code",
   "execution_count": 5,
   "metadata": {
    "autoscroll": false,
    "collapsed": false,
    "ein.tags": "worksheet-0",
    "slideshow": {
     "slide_type": "-"
    }
   },
   "outputs": [],
   "source": [
    "import gzip\n",
    "import os\n",
    "\n",
    "per_base_mut_rate = 1.25e-8\n",
    "per_base_recom_rate = 1.25e-8\n",
    "bases_per_locus = int(5e5)\n",
    "n_loci = 20\n",
    "ploidy = 2\n",
    "\n",
    "# number of alleles to sample per population\n",
    "sampled_n_dict = {\"NEA\":2, \"YRI\":4, \"CHB\":4}\n",
    "\n",
    "# create data directory if it doesn't exist\n",
    "os.makedirs(\"data\", exist_ok=True) "
   ]
  },
  {
   "cell_type": "code",
   "execution_count": 6,
   "metadata": {
    "autoscroll": false,
    "collapsed": false,
    "ein.tags": "worksheet-0",
    "slideshow": {
     "slide_type": "-"
    }
   },
   "outputs": [],
   "source": [
    "# simulate 20 \"chromosomes\", saving each in a separate gzipped vcf file\n",
    "for chrom in range(n_loci):\n",
    "    with gzip.open(\"data/{}.vcf.gz\".format(chrom), \"wt\") as outfile:\n",
    "        model.simulate_vcf(\n",
    "            outfile,\n",
    "            mutation_rate=per_base_mut_rate,\n",
    "            recombination_rate=per_base_recom_rate,\n",
    "            length=bases_per_locus,\n",
    "            chrom_names=[\"chr{}\".format(chrom)],\n",
    "            ploidy=ploidy,\n",
    "            random_seed=1234+chrom,\n",
    "            sampled_n_dict=sampled_n_dict) "
   ]
  },
  {
   "cell_type": "code",
   "execution_count": 7,
   "metadata": {
    "autoscroll": false,
    "collapsed": false,
    "ein.tags": "worksheet-0",
    "slideshow": {
     "slide_type": "-"
    }
   },
   "outputs": [],
   "source": [
    "## read in data from vcf\n",
    "\n",
    "## first create a dict mapping samples to populations\n",
    "ind2pop = {}\n",
    "for pop, n in sampled_n_dict.items():\n",
    "    for i in range(int(n / ploidy)):\n",
    "        ## in the simulated vcfs, the samples are named like YRI_0, YRI_1, CHB_0, etc\n",
    "        ind2pop[\"{}_{}\".format(pop, i)] = pop\n",
    "\n",
    "# uses REF as the ancestral allele\n",
    "ancestral_alleles = False\n",
    "## Other options:\n",
    "## True: use the \"AA\" INFO field as the anc allele (skipping SNPs without this field)\n",
    "## population name: use this population as the outgroup for polarizing\n",
    "\n",
    "# Read in each vcf in a for loop\n",
    "data = []\n",
    "for chrom in range(n_loci):\n",
    "    with gzip.open(\"data/{}.vcf.gz\".format(chrom), \"rt\") as f:\n",
    "        data.append(momi.SnpAlleleCounts.read_vcf(f, ind2pop,\n",
    "                                                  ancestral_alleles))\n",
    "\n",
    "# concatenate the 20 loci into a single dataset\n",
    "data = momi.SnpAlleleCounts.concatenate(data)\n"
   ]
  },
  {
   "cell_type": "code",
   "execution_count": 8,
   "metadata": {
    "autoscroll": false,
    "collapsed": false,
    "ein.tags": "worksheet-0",
    "slideshow": {
     "slide_type": "-"
    }
   },
   "outputs": [],
   "source": [
    "## dump the momi-style data to a json file\n",
    "with gzip.open(\"data/momi_data.json.gz\", \"wt\") as f:\n",
    "    data.dump(f)\n",
    "\n",
    "## load the data back from the json file\n",
    "with gzip.open(\"data/momi_data.json.gz\", \"rt\") as f:\n",
    "    data2 = momi.SnpAlleleCounts.load(f)\n",
    "\n",
    "assert data == data2"
   ]
  },
  {
   "cell_type": "code",
   "execution_count": 9,
   "metadata": {
    "autoscroll": false,
    "collapsed": false,
    "ein.tags": "worksheet-0",
    "slideshow": {
     "slide_type": "-"
    }
   },
   "outputs": [],
   "source": [
    "## INFERENCE\n",
    "\n",
    "## create a new model\n",
    "model2 = momi.demographic_model(default_N=1.2e4, gen_time=29)\n",
    "\n",
    "## set the data\n",
    "model2.set_data(data,\n",
    "                # use multinomial model, unfolded SFS\n",
    "               muts_per_gen=None, folded=False,\n",
    "                # splits data into 100 equally sized blocks\n",
    "                # used to compute standard deviation of f4 and other stats\n",
    "                # via block jackknife\n",
    "               n_blocks_jackknife=100)"
   ]
  },
  {
   "cell_type": "code",
   "execution_count": 10,
   "metadata": {
    "autoscroll": false,
    "collapsed": false,
    "ein.tags": "worksheet-0",
    "slideshow": {
     "slide_type": "-"
    }
   },
   "outputs": [],
   "source": [
    "## start by fitting CHB and YRI\n",
    "\n",
    "## define parameters of the model\n",
    "#model2.add_size_param(\"n_chb\", 1.2e4)\n",
    "#model2.add_growth_param(\"g_chb\", 0, lower=-1e-3, upper=1e-3)\n",
    "#model2.add_time_param(\"t_chb_yri\", 1e5, lower=1e4)\n",
    "model2.add_size_param(\"n_chb\")\n",
    "model2.add_growth_param(\"g_chb\", 0, lower=-1e-3, upper=1e-3)\n",
    "model2.add_time_param(\"t_chb_yri\", lower=1e4)\n",
    "\n",
    "## add demographic events\n",
    "model2.add_leaf(\"CHB\", N=\"n_chb\", g=\"g_chb\")\n",
    "model2.add_leaf(\"YRI\")\n",
    "model2.set_size(\"CHB\", t=1e4, g=0)\n",
    "model2.move_lineages(\"CHB\", \"YRI\", t=\"t_chb_yri\")"
   ]
  },
  {
   "cell_type": "code",
   "execution_count": 11,
   "metadata": {
    "autoscroll": false,
    "collapsed": false,
    "ein.tags": "worksheet-0",
    "slideshow": {
     "slide_type": "-"
    }
   },
   "outputs": [
    {
     "data": {
      "text/plain": [
       "        fun: 0.0012540142733825483\n        jac: array([ 5.33840110e-06, -5.37212799e-02, -3.99904377e-10])\n    message: 'Converged (|f_n-f_(n-1)| ~= 0)'\n       nfev: 70\n        nit: 28\n parameters: n_chb        791162.850962\ng_chb             0.000684\nt_chb_yri    113806.450752\ndtype: float64\n     status: 1\n    success: True\n          x: array([1.35812591e+01, 6.84173779e-04, 1.03806451e+05])"
      ]
     },
     "execution_count": 11,
     "metadata": {},
     "output_type": "execute_result"
    }
   ],
   "source": [
    "#model2.optimize(method=\"L-BFGS-B\")\n",
    "model2.optimize(method=\"TNC\")"
   ]
  },
  {
   "cell_type": "code",
   "execution_count": 12,
   "metadata": {
    "autoscroll": false,
    "collapsed": false,
    "ein.tags": "worksheet-0",
    "slideshow": {
     "slide_type": "-"
    }
   },
   "outputs": [
    {
     "name": "stdout",
     "output_type": "stream",
     "text": [
      "ParamsDict({'n_chb': 791162.8509620479, 'g_chb': 0.0006841737793547304, 't_chb_yri': 113806.45075156342})\n"
     ]
    }
   ],
   "source": [
    "print(model2.get_params())"
   ]
  },
  {
   "cell_type": "code",
   "execution_count": 13,
   "metadata": {
    "autoscroll": false,
    "collapsed": false,
    "ein.tags": "worksheet-0",
    "slideshow": {
     "slide_type": "-"
    }
   },
   "outputs": [
    {
     "name": "stderr",
     "output_type": "stream",
     "text": [
      "/home/jack/Source/private/momi_projects/momi2/momi/demo_plotter.py:35: RuntimeWarning: invalid value encountered in double_scalars\n",
      "  -self.curr_g * (nxt_t - self.curr_t))\n"
     ]
    },
    {
     "data": {
      "text/plain": [
       "[<matplotlib.axis.YTick at 0x7f83614c7cf8>,\n <matplotlib.axis.YTick at 0x7f835f9d9080>,\n <matplotlib.axis.YTick at 0x7f835f9d9128>,\n <matplotlib.axis.YTick at 0x7f835fb6d898>,\n <matplotlib.axis.YTick at 0x7f8361617b38>]"
      ]
     },
     "execution_count": 13,
     "metadata": {},
     "output_type": "execute_result"
    },
    {
     "data": {
      "image/png": "[encoded data removed]",
      "text/plain": [
       "<matplotlib.figure.Figure at 0x7f835f9c96d8>"
      ]
     },
     "metadata": {},
     "output_type": "display_data"
    }
   ],
   "source": [
    "# plot the model\n",
    "plt.figure(figsize=(4,4))\n",
    "model2.draw([\"YRI\", \"CHB\"], linthreshy=1e5)\n",
    "plt.gca().set_yticks([1e4, 2.5e4, 5e4, 7.5e4, 1e5])"
   ]
  },
  {
   "cell_type": "code",
   "execution_count": 14,
   "metadata": {
    "autoscroll": false,
    "collapsed": false,
    "ein.tags": "worksheet-0",
    "slideshow": {
     "slide_type": "-"
    }
   },
   "outputs": [],
   "source": [
    "## add NEA to the model\n",
    "\n",
    "model2.add_leaf(\"NEA\", t=5e4)\n",
    "\n",
    "#model2.add_time_param(\"t_anc\", 5e5,\n",
    "#                      lower_constraints=[\"t_chb_yri\"])\n",
    "model2.add_time_param(\"t_anc\", lower_constraints=[\"t_chb_yri\"])\n",
    "\n",
    "model2.move_lineages(\"YRI\", \"NEA\", t=\"t_anc\")"
   ]
  },
  {
   "cell_type": "code",
   "execution_count": 15,
   "metadata": {
    "autoscroll": false,
    "collapsed": false,
    "ein.tags": "worksheet-0",
    "slideshow": {
     "slide_type": "-"
    }
   },
   "outputs": [
    {
     "data": {
      "text/plain": [
       "        fun: 0.012457109792086047\n        jac: array([-2.29030518e-09,  2.09691339e-03, -2.13599569e-11, -2.69148635e-11])\n    message: 'Converged (|f_n-f_(n-1)| ~= 0)'\n       nfev: 64\n        nit: 17\n parameters: n_chb          1850.417663\ng_chb             0.000073\nt_chb_yri    109590.347823\nt_anc        443018.434951\ndtype: float64\n     status: 1\n    success: True\n          x: array([7.52316666e+00, 7.29237724e-05, 9.95903478e+04, 3.33428087e+05])"
      ]
     },
     "execution_count": 15,
     "metadata": {},
     "output_type": "execute_result"
    }
   ],
   "source": [
    "model2.optimize()"
   ]
  },
  {
   "cell_type": "code",
   "execution_count": 16,
   "metadata": {
    "autoscroll": false,
    "collapsed": false,
    "ein.tags": "worksheet-0",
    "slideshow": {
     "slide_type": "-"
    }
   },
   "outputs": [
    {
     "name": "stderr",
     "output_type": "stream",
     "text": [
      "/home/jack/Source/private/momi_projects/momi2/momi/demo_plotter.py:35: RuntimeWarning: invalid value encountered in double_scalars\n",
      "  -self.curr_g * (nxt_t - self.curr_t))\n"
     ]
    },
    {
     "data": {
      "text/plain": [
       "[<matplotlib.axis.YTick at 0x7f83617048d0>,\n <matplotlib.axis.YTick at 0x7f83617a69e8>,\n <matplotlib.axis.YTick at 0x7f8361704b00>,\n <matplotlib.axis.YTick at 0x7f835fa737f0>,\n <matplotlib.axis.YTick at 0x7f835fb18f28>,\n <matplotlib.axis.YTick at 0x7f835fb18ac8>,\n <matplotlib.axis.YTick at 0x7f83615b33c8>]"
      ]
     },
     "execution_count": 16,
     "metadata": {},
     "output_type": "execute_result"
    },
    {
     "data": {
      "image/png": "[encoded data removed]",
      "text/plain": [
       "<matplotlib.figure.Figure at 0x7f835fba4ba8>"
      ]
     },
     "metadata": {},
     "output_type": "display_data"
    }
   ],
   "source": [
    "# plot the model\n",
    "plt.figure(figsize=(6,8))\n",
    "model2.draw([\"YRI\", \"CHB\", \"NEA\"], linthreshy=1e5)\n",
    "plt.gca().set_yticks([1e4, 2.5e4, 5e4, 7.5e4, 1e5, 2.5e5, 5e5])"
   ]
  },
  {
   "cell_type": "code",
   "execution_count": 17,
   "metadata": {
    "autoscroll": false,
    "collapsed": false,
    "ein.tags": "worksheet-0",
    "slideshow": {
     "slide_type": "-"
    }
   },
   "outputs": [
    {
     "name": "stdout",
     "output_type": "stream",
     "text": [
      "ModelFitArray(expected=0.0, observed=-0.005661024702653249, sd=0.0028238767826156788, z_score=-2.00469961632306)\n"
     ]
    }
   ],
   "source": [
    "# model diagnostics\n",
    "fstats = model2.fstats()\n",
    "# f4(YRI, CHB, NEA, AncestralAllele) < 0 because of unmodeled Neanderthal admixture\n",
    "# z_score is not significant because we only have a small dataset here\n",
    "print(fstats.f4(\"YRI\", \"CHB\", \"NEA\", None))\n",
    "\n",
    "# also some functionality to check other statistics\n",
    "# e.g. f2, f3, distance between every pair of populations\n",
    "# (TODO: easily plot residuals of all pairwise distances)"
   ]
  },
  {
   "cell_type": "code",
   "execution_count": 18,
   "metadata": {
    "autoscroll": false,
    "collapsed": false,
    "ein.tags": "worksheet-0",
    "slideshow": {
     "slide_type": "-"
    }
   },
   "outputs": [
    {
     "name": "stderr",
     "output_type": "stream",
     "text": [
      "/home/jack/.local/share/virtualenvs/momi2-gAXri9wX/lib/python3.6/site-packages/autograd/tracer.py:48: RuntimeWarning: divide by zero encountered in log\n",
      "  return f_raw(*args, **kwargs)\n"
     ]
    }
   ],
   "source": [
    "## create a new model with added NEA->CHB pulse\n",
    "\n",
    "add_pulse_model = model2.copy()\n",
    "\n",
    "#add_pulse_model.add_pulse_param(\"p_pulse\", .1)\n",
    "#add_pulse_model.add_time_param(\"t_pulse\", 5e4, upper_constraints=[\"t_chb_yri\"])\n",
    "add_pulse_model.add_pulse_param(\"p_pulse\", upper=.25)\n",
    "add_pulse_model.add_time_param(\"t_pulse\", upper_constraints=[\"t_chb_yri\"])\n",
    "\n",
    "add_pulse_model.move_lineages(\"CHB\", \"GhostNea\", t=\"t_pulse\", p=\"p_pulse\")\n",
    "\n",
    "#add_pulse_model.add_time_param(\"t_ghost\", 1e5, lower=5e4, lower_constraints=[\"t_pulse\"], upper_constraints=[\"t_anc\"])\n",
    "add_pulse_model.add_time_param(\"t_ghost\", lower=5e4, lower_constraints=[\"t_pulse\"], upper_constraints=[\"t_anc\"])\n",
    "add_pulse_model.move_lineages(\"GhostNea\", \"NEA\", t=\"t_ghost\")"
   ]
  },
  {
   "cell_type": "code",
   "execution_count": 19,
   "metadata": {
    "autoscroll": false,
    "collapsed": false,
    "ein.tags": "worksheet-0",
    "scrolled": true,
    "slideshow": {
     "slide_type": "-"
    }
   },
   "outputs": [
    {
     "data": {
      "text/plain": [
       "     fun: 13.402102236510599\n     jac: array([-8.33748997e-03,  4.03689059e+01,  9.46112303e-08, -3.44216314e-08,\n        4.18884976e-03,  2.19543095e-06,  1.68518702e-04])\n message: 'Maximum number of iterations reached'\n     nit: 9\n success: False\n       x: array([ 7.40106270e+00, -1.00000000e-03,  9.95903623e+04,  3.33428802e+05,\n       -2.21178475e+00,  3.57539707e+00,  8.02654471e-01])"
      ]
     },
     "execution_count": 19,
     "metadata": {},
     "output_type": "execute_result"
    }
   ],
   "source": [
    "# stochastic gradient descent (ADAM+SVRG)\n",
    "add_pulse_model.stochastic_optimize(snps_per_minibatch=1000, num_iters=10, svrg_epoch=3)"
   ]
  },
  {
   "cell_type": "code",
   "execution_count": 22,
   "metadata": {
    "autoscroll": false,
    "collapsed": false,
    "ein.tags": "worksheet-0",
    "scrolled": true,
    "slideshow": {
     "slide_type": "-"
    }
   },
   "outputs": [
    {
     "data": {
      "text/plain": [
       "        fun: 0.004325085399627828\n        jac: array([-3.11116348e-06, -9.73263972e-03,  2.41506618e-11, -3.42856119e-12,\n       -2.22568442e-07,  2.20918104e-07,  6.71458457e-16])\n    message: 'Converged (|f_n-f_(n-1)| ~= 0)'\n       nfev: 91\n        nit: 20\n parameters: n_chb        1.120833e+07\ng_chb        9.999733e-04\nt_chb_yri    8.839634e+04\nt_anc        4.689767e+05\np_pulse      6.743218e-02\nt_pulse      3.707945e+04\nt_ghost      5.000000e+04\ndtype: float64\n     status: 1\n    success: True\n          x: array([ 1.62321682e+01,  9.99973255e-04,  7.83963368e+04,  3.80580353e+05,\n       -2.62681948e+00, -3.24956762e-01, -2.80517486e+01])"
      ]
     },
     "execution_count": 22,
     "metadata": {},
     "output_type": "execute_result"
    }
   ],
   "source": [
    "# full gradient descent\n",
    "add_pulse_model.optimize(method=\"TNC\")"
   ]
  },
  {
   "cell_type": "code",
   "execution_count": 23,
   "metadata": {
    "autoscroll": false,
    "collapsed": false,
    "ein.tags": "worksheet-0",
    "slideshow": {
     "slide_type": "-"
    }
   },
   "outputs": [
    {
     "name": "stderr",
     "output_type": "stream",
     "text": [
      "/home/jack/Source/private/momi_projects/momi2/momi/demo_plotter.py:35: RuntimeWarning: invalid value encountered in double_scalars\n",
      "  -self.curr_g * (nxt_t - self.curr_t))\n"
     ]
    },
    {
     "data": {
      "text/plain": [
       "[<matplotlib.axis.YTick at 0x7f8361860d30>,\n <matplotlib.axis.YTick at 0x7f835f2e5240>,\n <matplotlib.axis.YTick at 0x7f835f83b390>,\n <matplotlib.axis.YTick at 0x7f835fb115c0>,\n <matplotlib.axis.YTick at 0x7f835f7fc588>,\n <matplotlib.axis.YTick at 0x7f835f6d7320>,\n <matplotlib.axis.YTick at 0x7f835f9c9e10>]"
      ]
     },
     "execution_count": 23,
     "metadata": {},
     "output_type": "execute_result"
    },
    {
     "data": {
      "image/png": "[encoded data removed]",
      "text/plain": [
       "<matplotlib.figure.Figure at 0x7f835f83b4e0>"
      ]
     },
     "metadata": {},
     "output_type": "display_data"
    }
   ],
   "source": [
    "# plot the model\n",
    "plt.figure(figsize=(6,8))\n",
    "add_pulse_model.draw([\"YRI\", \"CHB\", \"GhostNea\", \"NEA\"], linthreshy=1e5)\n",
    "plt.gca().set_yticks([1e4, 2.5e4, 5e4, 7.5e4, 1e5, 2.5e5, 5e5])"
   ]
  },
  {
   "cell_type": "code",
   "execution_count": 24,
   "metadata": {
    "autoscroll": false,
    "collapsed": false,
    "ein.tags": "worksheet-0",
    "slideshow": {
     "slide_type": "-"
    }
   },
   "outputs": [
    {
     "name": "stdout",
     "output_type": "stream",
     "text": [
      "Automatic pdb calling has been turned ON\n"
     ]
    }
   ],
   "source": [
    "%pdb"
   ]
  },
  {
   "cell_type": "code",
   "execution_count": 25,
   "metadata": {
    "autoscroll": false,
    "collapsed": false,
    "ein.tags": "worksheet-0",
    "scrolled": true,
    "slideshow": {
     "slide_type": "-"
    }
   },
   "outputs": [
    {
     "name": "stdout",
     "output_type": "stream",
     "text": [
      "0\n"
     ]
    },
    {
     "name": "stdout",
     "output_type": "stream",
     "text": [
      "1\n"
     ]
    },
    {
     "name": "stdout",
     "output_type": "stream",
     "text": [
      "2\n"
     ]
    },
    {
     "name": "stdout",
     "output_type": "stream",
     "text": [
      "3\n"
     ]
    },
    {
     "name": "stdout",
     "output_type": "stream",
     "text": [
      "4\n"
     ]
    },
    {
     "name": "stdout",
     "output_type": "stream",
     "text": [
      "5\n"
     ]
    },
    {
     "name": "stdout",
     "output_type": "stream",
     "text": [
      "6\n"
     ]
    },
    {
     "name": "stdout",
     "output_type": "stream",
     "text": [
      "7\n"
     ]
    },
    {
     "name": "stdout",
     "output_type": "stream",
     "text": [
      "8\n"
     ]
    },
    {
     "name": "stdout",
     "output_type": "stream",
     "text": [
      "9\n"
     ]
    },
    {
     "name": "stdout",
     "output_type": "stream",
     "text": [
      "10\n"
     ]
    },
    {
     "name": "stdout",
     "output_type": "stream",
     "text": [
      "11\n"
     ]
    },
    {
     "name": "stdout",
     "output_type": "stream",
     "text": [
      "12\n"
     ]
    },
    {
     "name": "stdout",
     "output_type": "stream",
     "text": [
      "13\n"
     ]
    },
    {
     "name": "stdout",
     "output_type": "stream",
     "text": [
      "14\n"
     ]
    },
    {
     "name": "stdout",
     "output_type": "stream",
     "text": [
      "15\n"
     ]
    },
    {
     "name": "stdout",
     "output_type": "stream",
     "text": [
      "16\n"
     ]
    },
    {
     "name": "stdout",
     "output_type": "stream",
     "text": [
      "17\n"
     ]
    },
    {
     "name": "stdout",
     "output_type": "stream",
     "text": [
      "18\n"
     ]
    },
    {
     "name": "stdout",
     "output_type": "stream",
     "text": [
      "19\n"
     ]
    }
   ],
   "source": [
    "## generate nonparametric bootstrap datasets\n",
    "\n",
    "n_bootstraps = 20\n",
    "bootstrap_mles = []\n",
    "\n",
    "# split dataset into 100 equally sized blocks to resample\n",
    "chunked_data = data.chunk_data(100)\n",
    "\n",
    "bootstrap_model = add_pulse_model.copy()\n",
    "for bootstrap_it in range(n_bootstraps):\n",
    "    print(bootstrap_it)\n",
    "    # bootstrap resample blocks\n",
    "    bootstrap_data = chunked_data.resample_chunks()\n",
    "    \n",
    "    bootstrap_model.set_data(bootstrap_data)\n",
    "    bootstrap_model.set_random_parameters()\n",
    "\n",
    "    # TODO: optimize each submodel separately\n",
    "    # (pass a set_submodel parameter to set_random_parameters())\n",
    "    bootstrap_model.optimize()\n",
    "    bootstrap_mles.append(bootstrap_model.get_x())"
   ]
  },
  {
   "cell_type": "code",
   "execution_count": 26,
   "metadata": {
    "autoscroll": false,
    "collapsed": false,
    "ein.tags": "worksheet-0",
    "slideshow": {
     "slide_type": "-"
    }
   },
   "outputs": [
    {
     "name": "stderr",
     "output_type": "stream",
     "text": [
      "/home/jack/Source/private/momi_projects/momi2/momi/demo_plotter.py:35: RuntimeWarning: invalid value encountered in double_scalars\n",
      "  -self.curr_g * (nxt_t - self.curr_t))\n"
     ]
    },
    {
     "data": {
      "text/plain": [
       "[<matplotlib.axis.YTick at 0x7f835ca7f240>,\n <matplotlib.axis.YTick at 0x7f835e545eb8>,\n <matplotlib.axis.YTick at 0x7f835e360358>,\n <matplotlib.axis.YTick at 0x7f835b8aa320>,\n <matplotlib.axis.YTick at 0x7f835b8aa978>,\n <matplotlib.axis.YTick at 0x7f835b8aafd0>,\n <matplotlib.axis.YTick at 0x7f835b8b2668>]"
      ]
     },
     "execution_count": 26,
     "metadata": {},
     "output_type": "execute_result"
    },
    {
     "data": {
      "image/png": "[encoded data removed]",
      "text/plain": [
       "<matplotlib.figure.Figure at 0x7f835f8a6a58>"
      ]
     },
     "metadata": {},
     "output_type": "display_data"
    }
   ],
   "source": [
    "plt.figure(figsize=(8,10))\n",
    "add_pulse_model.draw_with_bootstraps(bootstrap_mles,\n",
    "                                     [\"YRI\", \"CHB\", \"GhostNea\", \"NEA\"], \n",
    "                                     linthreshy=1e5, p_min=0, p_max=1)\n",
    "plt.gca().set_yticks([1e4, 2.5e4, 5e4, 7.5e4, 1e5, 2.5e5, 5e5])"
   ]
  },
  {
   "cell_type": "code",
   "execution_count": null,
   "metadata": {
    "autoscroll": false,
    "collapsed": false,
    "ein.tags": "worksheet-0",
    "slideshow": {
     "slide_type": "-"
    }
   },
   "outputs": [
    {
     "name": "stderr",
     "output_type": "stream",
     "text": [
      "/home/jack/pythonpath/momi/demo_plotter.py:35: RuntimeWarning: invalid value encountered in double_scalars\n",
      "  -self.curr_g * (nxt_t - self.curr_t))\n"
     ]
    },
    {
     "data": {
      "text/plain": [
       "[<matplotlib.axis.YTick at 0x7f82e1a6e3c8>,\n",
       " <matplotlib.axis.YTick at 0x7f82e1a58c88>,\n",
       " <matplotlib.axis.YTick at 0x7f82e1a7b518>,\n",
       " <matplotlib.axis.YTick at 0x7f82e1a859b0>,\n",
       " <matplotlib.axis.YTick at 0x7f82e1aa53c8>,\n",
       " <matplotlib.axis.YTick at 0x7f82e1aa5da0>,\n",
       " <matplotlib.axis.YTick at 0x7f82e1aa37b8>]"
      ]
     },
     "execution_count": 23,
     "metadata": {},
     "output_type": "execute_result"
    },
    {
     "data": {
      "image/png": "[encoded data removed]",
      "text/plain": [
       "<matplotlib.figure.Figure at 0x7f82e1a82940>"
      ]
     },
     "metadata": {},
     "output_type": "display_data"
    }
   ],
   "source": [
    "plt.figure(figsize=(8,10))\n",
    "add_pulse_model.draw_with_bootstraps(bootstrap_mles,\n",
    "                                     [\"YRI\", \"CHB\", \"GhostNea\", \"NEA\"], \n",
    "                                     linthreshy=1e5, p_min=0, p_max=1)\n",
    "plt.gca().set_yticks([1e4, 2.5e4, 5e4, 7.5e4, 1e5, 2.5e5, 5e5])"
   ]
  }
 ],
 "metadata": {
  "kernelspec": {
   "display_name": "momi2-gAXri9wX",
   "name": "momi2-gaxri9wx"
  },
  "language_info": {
   "codemirror_mode": {
    "name": "ipython",
    "version": 3
   },
   "file_extension": ".py",
   "mimetype": "text/x-python",
   "name": "python",
   "nbconvert_exporter": "python",
   "pygments_lexer": "ipython3",
   "version": "3.6.3"
  },
  "name": "new_tutorial.ipynb"
 },
 "nbformat": 4,
 "nbformat_minor": 2
}
