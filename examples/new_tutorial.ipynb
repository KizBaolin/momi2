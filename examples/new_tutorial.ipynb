{
 "cells": [
  {
   "cell_type": "code",
   "execution_count": 1,
   "metadata": {
    "autoscroll": false,
    "collapsed": false,
    "ein.tags": "worksheet-0",
    "slideshow": {
     "slide_type": "-"
    }
   },
   "outputs": [
    {
     "name": "stdout",
     "output_type": "stream",
     "text": [
      "data\t\t\t    new_tutorial.ipynb\ttutorial_data.txt  tutorial.log\r\n",
      "example_demographies.ipynb  new_tutorial.log\ttutorial.ipynb\r\n"
     ]
    }
   ],
   "source": [
    "!ls"
   ]
  },
  {
   "cell_type": "code",
   "execution_count": 2,
   "metadata": {
    "autoscroll": false,
    "collapsed": false,
    "ein.tags": "worksheet-0",
    "slideshow": {
     "slide_type": "-"
    }
   },
   "outputs": [],
   "source": [
    "import momi\n",
    "import autograd.numpy as np\n",
    "\n",
    "import matplotlib.pyplot as plt\n",
    "%matplotlib inline\n",
    "\n",
    "import logging\n",
    "logging.basicConfig(level=logging.INFO, filename=\"new_tutorial.log\")"
   ]
  },
  {
   "cell_type": "code",
   "execution_count": 3,
   "metadata": {
    "autoscroll": false,
    "collapsed": false,
    "ein.tags": "worksheet-0",
    "slideshow": {
     "slide_type": "-"
    }
   },
   "outputs": [],
   "source": [
    "# empty model with N_e=1.2e4, 29 time units (years) per generation\n",
    "model = momi.demographic_model(default_N=1.2e4, gen_time=29)\n",
    "# add YRI leaf at t=0 and default_N\n",
    "model.add_leaf(\"YRI\")\n",
    "# add  CHB leaf at t=0, N=1e5, growing at rate 1e-3 per unit time (year)\n",
    "model.add_leaf(\"CHB\", N=1e5, g=5e-4)\n",
    "# add NEA leaf at 50kya\n",
    "model.add_leaf(\"NEA\", t=5e4)\n",
    "\n",
    "# stop CHB growth at 10kya\n",
    "model.set_size(\"CHB\", g=0, t=1e4)\n",
    "\n",
    "# at 45kya CHB receive a 3% pulse from GhostNea\n",
    "model.move_lineages(\"CHB\", \"GhostNea\", t=4.5e4, p=.03)\n",
    "# at 55kya GhostNea joins onto NEA\n",
    "model.move_lineages(\"GhostNea\", \"NEA\", t=5.5e4)\n",
    "\n",
    "# at 80 kya CHB goes thru bottleneck\n",
    "model.set_size(\"CHB\", N=100, t=8e4)\n",
    "# at 85 kya CHB joins onto YRI\n",
    "model.move_lineages(\"CHB\", \"YRI\", t=8.5e4)\n",
    "\n",
    "# at 500 kya YRI joins onto NEA\n",
    "model.move_lineages(\"YRI\", \"NEA\", t=5e5)"
   ]
  },
  {
   "cell_type": "code",
   "execution_count": 4,
   "metadata": {
    "autoscroll": false,
    "collapsed": false,
    "ein.tags": "worksheet-0",
    "slideshow": {
     "slide_type": "-"
    }
   },
   "outputs": [
    {
     "data": {
      "text/plain": [
       "[<matplotlib.axis.YTick at 0x7f92a200ba58>,\n <matplotlib.axis.YTick at 0x7f92a1ff8470>,\n <matplotlib.axis.YTick at 0x7f92a201d4a8>,\n <matplotlib.axis.YTick at 0x7f92a1f9df60>,\n <matplotlib.axis.YTick at 0x7f92a1fa95f8>,\n <matplotlib.axis.YTick at 0x7f92a1fa9c50>,\n <matplotlib.axis.YTick at 0x7f92a1faf2e8>]"
      ]
     },
     "execution_count": 4,
     "metadata": {},
     "output_type": "execute_result"
    },
    {
     "data": {
      "image/png": "[encoded data removed]",
      "text/plain": [
       "<matplotlib.figure.Figure at 0x7f92a4048240>"
      ]
     },
     "metadata": {},
     "output_type": "display_data"
    }
   ],
   "source": [
    "# plot the model\n",
    "plt.figure(figsize=(6,8))\n",
    "model.draw([\"YRI\", \"CHB\", \"GhostNea\", \"NEA\"], # specfiy pop order along the x-axis\n",
    "            linthreshy=1e5) # linear scale up to 1e5, then logarithmic\n",
    "plt.gca().set_yticks([1e4, 2.5e4, 5e4, 7.5e4, 1e5, 2.5e5, 5e5])"
   ]
  },
  {
   "cell_type": "code",
   "execution_count": 5,
   "metadata": {
    "autoscroll": false,
    "collapsed": false,
    "ein.tags": "worksheet-0",
    "slideshow": {
     "slide_type": "-"
    }
   },
   "outputs": [],
   "source": [
    "import gzip\n",
    "import os\n",
    "\n",
    "per_base_mut_rate = 1.25e-8\n",
    "per_base_recom_rate = 1.25e-8\n",
    "bases_per_locus = int(5e5)\n",
    "n_loci = 20\n",
    "ploidy = 2\n",
    "\n",
    "# number of alleles to sample per population\n",
    "sampled_n_dict = {\"NEA\":2, \"YRI\":4, \"CHB\":4}\n",
    "\n",
    "# create data directory if it doesn't exist\n",
    "os.makedirs(\"data\", exist_ok=True) "
   ]
  },
  {
   "cell_type": "code",
   "execution_count": 6,
   "metadata": {
    "autoscroll": false,
    "collapsed": false,
    "ein.tags": "worksheet-0",
    "slideshow": {
     "slide_type": "-"
    }
   },
   "outputs": [],
   "source": [
    "# simulate 20 \"chromosomes\", saving each in a separate gzipped vcf file\n",
    "for chrom in range(n_loci):\n",
    "    with gzip.open(\"data/{}.vcf.gz\".format(chrom), \"wt\") as outfile:\n",
    "        model.simulate_vcf(\n",
    "            outfile,\n",
    "            mutation_rate=per_base_mut_rate,\n",
    "            recombination_rate=per_base_recom_rate,\n",
    "            length=bases_per_locus,\n",
    "            chrom_names=[\"chr{}\".format(chrom)],\n",
    "            ploidy=ploidy,\n",
    "            random_seed=1234+chrom,\n",
    "            sampled_n_dict=sampled_n_dict) "
   ]
  },
  {
   "cell_type": "code",
   "execution_count": 7,
   "metadata": {
    "autoscroll": false,
    "collapsed": false,
    "ein.tags": "worksheet-0",
    "slideshow": {
     "slide_type": "-"
    }
   },
   "outputs": [],
   "source": [
    "## read in data from vcf\n",
    "\n",
    "## first create a dict mapping samples to populations\n",
    "ind2pop = {}\n",
    "for pop, n in sampled_n_dict.items():\n",
    "    for i in range(int(n / ploidy)):\n",
    "        ## in the simulated vcfs, the samples are named like YRI_0, YRI_1, CHB_0, etc\n",
    "        ind2pop[\"{}_{}\".format(pop, i)] = pop\n",
    "\n",
    "# uses REF as the ancestral allele\n",
    "ancestral_alleles = False\n",
    "## Other options:\n",
    "## True: use the \"AA\" INFO field as the anc allele (skipping SNPs without this field)\n",
    "## population name: use this population as the outgroup for polarizing\n",
    "\n",
    "# Read in each vcf in a for loop\n",
    "data = []\n",
    "for chrom in range(n_loci):\n",
    "    with gzip.open(\"data/{}.vcf.gz\".format(chrom), \"rt\") as f:\n",
    "        data.append(momi.SnpAlleleCounts.read_vcf(f, ind2pop,\n",
    "                                                  ancestral_alleles))\n",
    "\n",
    "# concatenate the 20 loci into a single dataset\n",
    "data = momi.SnpAlleleCounts.concatenate(data)\n"
   ]
  },
  {
   "cell_type": "code",
   "execution_count": 8,
   "metadata": {
    "autoscroll": false,
    "collapsed": false,
    "ein.tags": "worksheet-0",
    "slideshow": {
     "slide_type": "-"
    }
   },
   "outputs": [],
   "source": [
    "## dump the momi-style data to a json file\n",
    "with gzip.open(\"data/momi_data.json.gz\", \"wt\") as f:\n",
    "    data.dump(f)\n",
    "\n",
    "## load the data back from the json file\n",
    "with gzip.open(\"data/momi_data.json.gz\", \"rt\") as f:\n",
    "    data2 = momi.SnpAlleleCounts.load(f)\n",
    "\n",
    "assert data == data2"
   ]
  },
  {
   "cell_type": "code",
   "execution_count": 9,
   "metadata": {
    "autoscroll": false,
    "collapsed": false,
    "ein.tags": "worksheet-0",
    "slideshow": {
     "slide_type": "-"
    }
   },
   "outputs": [],
   "source": [
    "## INFERENCE\n",
    "\n",
    "## create a new model\n",
    "model2 = momi.demographic_model(default_N=1.2e4, gen_time=29)\n",
    "\n",
    "## set the data\n",
    "model2.set_data(data,\n",
    "                # use multinomial model, unfolded SFS\n",
    "               muts_per_gen=None, folded=False,\n",
    "                # splits data into 100 equally sized blocks\n",
    "                # used to compute standard deviation of f4 and other stats\n",
    "                # via block jackknife\n",
    "               n_blocks_jackknife=100)"
   ]
  },
  {
   "cell_type": "code",
   "execution_count": 10,
   "metadata": {
    "autoscroll": false,
    "collapsed": false,
    "ein.tags": "worksheet-0",
    "slideshow": {
     "slide_type": "-"
    }
   },
   "outputs": [],
   "source": [
    "## start by fitting CHB and YRI\n",
    "\n",
    "## define parameters of the model\n",
    "#model2.add_size_param(\"n_chb\", 1.2e4)\n",
    "#model2.add_growth_param(\"g_chb\", 0, lower=-1e-3, upper=1e-3)\n",
    "#model2.add_time_param(\"t_chb_yri\", 1e5, lower=1e4)\n",
    "model2.add_size_param(\"n_chb\")\n",
    "model2.add_growth_param(\"g_chb\", 0, lower=-1e-3, upper=1e-3)\n",
    "model2.add_time_param(\"t_chb_yri\", lower=1e4)\n",
    "\n",
    "## add demographic events\n",
    "model2.add_leaf(\"CHB\", N=\"n_chb\", g=\"g_chb\")\n",
    "model2.add_leaf(\"YRI\")\n",
    "model2.set_size(\"CHB\", t=1e4, g=0)\n",
    "model2.move_lineages(\"CHB\", \"YRI\", t=\"t_chb_yri\")"
   ]
  },
  {
   "cell_type": "code",
   "execution_count": 11,
   "metadata": {
    "autoscroll": false,
    "collapsed": false,
    "ein.tags": "worksheet-0",
    "slideshow": {
     "slide_type": "-"
    }
   },
   "outputs": [
    {
     "data": {
      "text/plain": [
       "        fun: 0.001255569000559627\n        jac: array([ 6.04120815e-06, -5.81780206e-02, -3.06635210e-09])\n    message: 'Converged (|f_n-f_(n-1)| ~= 0)'\n       nfev: 30\n        nit: 11\n parameters: n_chb        2.174018e+06\ng_chb        7.862316e-04\nt_chb_yri    1.129434e+05\ndtype: float64\n     status: 1\n    success: True\n          x: array([1.45920876e+01, 7.86231643e-04, 1.02943444e+05])"
      ]
     },
     "execution_count": 11,
     "metadata": {},
     "output_type": "execute_result"
    }
   ],
   "source": [
    "#model2.optimize(method=\"L-BFGS-B\")\n",
    "model2.optimize(method=\"TNC\")"
   ]
  },
  {
   "cell_type": "code",
   "execution_count": 12,
   "metadata": {
    "autoscroll": false,
    "collapsed": false,
    "ein.tags": "worksheet-0",
    "slideshow": {
     "slide_type": "-"
    }
   },
   "outputs": [
    {
     "name": "stdout",
     "output_type": "stream",
     "text": [
      "ParamsDict({'n_chb': 2174017.980228148, 'g_chb': 0.0007862316430003923, 't_chb_yri': 112943.4438772974})\n"
     ]
    }
   ],
   "source": [
    "print(model2.get_params())"
   ]
  },
  {
   "cell_type": "code",
   "execution_count": 13,
   "metadata": {
    "autoscroll": false,
    "collapsed": false,
    "ein.tags": "worksheet-0",
    "slideshow": {
     "slide_type": "-"
    }
   },
   "outputs": [
    {
     "name": "stderr",
     "output_type": "stream",
     "text": [
      "/home/jack/Source/private/momi_projects/momi2/momi/demo_plotter.py:35: RuntimeWarning: invalid value encountered in double_scalars\n",
      "  -self.curr_g * (nxt_t - self.curr_t))\n"
     ]
    },
    {
     "data": {
      "text/plain": [
       "[<matplotlib.axis.YTick at 0x7f92a1baf198>,\n <matplotlib.axis.YTick at 0x7f92a1da1dd8>,\n <matplotlib.axis.YTick at 0x7f92a1dee4e0>,\n <matplotlib.axis.YTick at 0x7f92a1a41da0>,\n <matplotlib.axis.YTick at 0x7f92a1a41048>]"
      ]
     },
     "execution_count": 13,
     "metadata": {},
     "output_type": "execute_result"
    },
    {
     "data": {
      "image/png": "[encoded data removed]",
      "text/plain": [
       "<matplotlib.figure.Figure at 0x7f92a1bafe10>"
      ]
     },
     "metadata": {},
     "output_type": "display_data"
    }
   ],
   "source": [
    "# plot the model\n",
    "plt.figure(figsize=(4,4))\n",
    "model2.draw([\"YRI\", \"CHB\"], linthreshy=1e5)\n",
    "plt.gca().set_yticks([1e4, 2.5e4, 5e4, 7.5e4, 1e5])"
   ]
  },
  {
   "cell_type": "code",
   "execution_count": 14,
   "metadata": {
    "autoscroll": false,
    "collapsed": false,
    "ein.tags": "worksheet-0",
    "slideshow": {
     "slide_type": "-"
    }
   },
   "outputs": [],
   "source": [
    "## add NEA to the model\n",
    "\n",
    "model2.add_leaf(\"NEA\", t=5e4)\n",
    "\n",
    "#model2.add_time_param(\"t_anc\", 5e5,\n",
    "#                      lower_constraints=[\"t_chb_yri\"])\n",
    "model2.add_time_param(\"t_anc\", lower_constraints=[\"t_chb_yri\"])\n",
    "\n",
    "model2.move_lineages(\"YRI\", \"NEA\", t=\"t_anc\")"
   ]
  },
  {
   "cell_type": "code",
   "execution_count": 15,
   "metadata": {
    "autoscroll": false,
    "collapsed": false,
    "ein.tags": "worksheet-0",
    "slideshow": {
     "slide_type": "-"
    }
   },
   "outputs": [
    {
     "data": {
      "text/plain": [
       "        fun: 0.01245710923172847\n        jac: array([-2.87808393e-07,  2.53344994e-03, -4.44681094e-12,  4.02362546e-13])\n    message: 'Converged (|f_n-f_(n-1)| ~= 0)'\n       nfev: 70\n        nit: 19\n parameters: n_chb          1844.596567\ng_chb             0.000073\nt_chb_yri    109598.059554\nt_anc        443037.138420\ndtype: float64\n     status: 1\n    success: True\n          x: array([7.52001587e+00, 7.25903777e-05, 9.95980596e+04, 3.33439079e+05])"
      ]
     },
     "execution_count": 15,
     "metadata": {},
     "output_type": "execute_result"
    }
   ],
   "source": [
    "model2.optimize()"
   ]
  },
  {
   "cell_type": "code",
   "execution_count": 16,
   "metadata": {
    "autoscroll": false,
    "collapsed": false,
    "ein.tags": "worksheet-0",
    "slideshow": {
     "slide_type": "-"
    }
   },
   "outputs": [
    {
     "name": "stderr",
     "output_type": "stream",
     "text": [
      "/home/jack/Source/private/momi_projects/momi2/momi/demo_plotter.py:35: RuntimeWarning: invalid value encountered in double_scalars\n",
      "  -self.curr_g * (nxt_t - self.curr_t))\n"
     ]
    },
    {
     "data": {
      "text/plain": [
       "[<matplotlib.axis.YTick at 0x7f92a1ab8048>,\n <matplotlib.axis.YTick at 0x7f929ff37be0>,\n <matplotlib.axis.YTick at 0x7f92a1c3b470>,\n <matplotlib.axis.YTick at 0x7f92a1c3d588>,\n <matplotlib.axis.YTick at 0x7f92a1c3d358>,\n <matplotlib.axis.YTick at 0x7f92a0212d68>,\n <matplotlib.axis.YTick at 0x7f92a0212940>]"
      ]
     },
     "execution_count": 16,
     "metadata": {},
     "output_type": "execute_result"
    },
    {
     "data": {
      "image/png": "[encoded data removed]",
      "text/plain": [
       "<matplotlib.figure.Figure at 0x7f929fdd69e8>"
      ]
     },
     "metadata": {},
     "output_type": "display_data"
    }
   ],
   "source": [
    "# plot the model\n",
    "plt.figure(figsize=(6,8))\n",
    "model2.draw([\"YRI\", \"CHB\", \"NEA\"], linthreshy=1e5)\n",
    "plt.gca().set_yticks([1e4, 2.5e4, 5e4, 7.5e4, 1e5, 2.5e5, 5e5])"
   ]
  },
  {
   "cell_type": "code",
   "execution_count": 17,
   "metadata": {
    "autoscroll": false,
    "collapsed": false,
    "ein.tags": "worksheet-0",
    "slideshow": {
     "slide_type": "-"
    }
   },
   "outputs": [
    {
     "name": "stdout",
     "output_type": "stream",
     "text": [
      "ModelFitArray(expected=3.469446951953614e-18, observed=-0.005661024702653249, sd=0.0028238767826156788, z_score=-2.0046996163230615)\n"
     ]
    }
   ],
   "source": [
    "# model diagnostics\n",
    "fstats = model2.fstats()\n",
    "# f4(YRI, CHB, NEA, AncestralAllele) < 0 because of unmodeled Neanderthal admixture\n",
    "# z_score is not significant because we only have a small dataset here\n",
    "print(fstats.f4(\"YRI\", \"CHB\", \"NEA\", None))\n",
    "\n",
    "# also some functionality to check other statistics\n",
    "# e.g. f2, f3, distance between every pair of populations\n",
    "# (TODO: easily plot residuals of all pairwise distances)"
   ]
  },
  {
   "cell_type": "code",
   "execution_count": 27,
   "metadata": {
    "autoscroll": false,
    "collapsed": false,
    "ein.tags": "worksheet-0",
    "slideshow": {
     "slide_type": "-"
    }
   },
   "outputs": [
    {
     "name": "stderr",
     "output_type": "stream",
     "text": [
      "/home/jack/.local/share/virtualenvs/momi2-gAXri9wX/lib/python3.6/site-packages/autograd/tracer.py:48: RuntimeWarning: divide by zero encountered in log\n",
      "  return f_raw(*args, **kwargs)\n"
     ]
    }
   ],
   "source": [
    "## create a new model with added NEA->CHB pulse\n",
    "\n",
    "add_pulse_model = model2.copy()\n",
    "\n",
    "#add_pulse_model.add_pulse_param(\"p_pulse\", .1)\n",
    "#add_pulse_model.add_time_param(\"t_pulse\", 5e4, upper_constraints=[\"t_chb_yri\"])\n",
    "add_pulse_model.add_pulse_param(\"p_pulse\", upper=.25)\n",
    "add_pulse_model.add_time_param(\"t_pulse\", upper_constraints=[\"t_chb_yri\"])\n",
    "\n",
    "add_pulse_model.move_lineages(\"CHB\", \"GhostNea\", t=\"t_pulse\", p=\"p_pulse\")\n",
    "\n",
    "#add_pulse_model.add_time_param(\"t_ghost\", 1e5, lower=5e4, lower_constraints=[\"t_pulse\"], upper_constraints=[\"t_anc\"])\n",
    "add_pulse_model.add_time_param(\"t_ghost\", lower=5e4, lower_constraints=[\"t_pulse\"], upper_constraints=[\"t_anc\"])\n",
    "add_pulse_model.move_lineages(\"GhostNea\", \"NEA\", t=\"t_ghost\")"
   ]
  },
  {
   "cell_type": "code",
   "execution_count": 28,
   "metadata": {
    "autoscroll": false,
    "collapsed": false,
    "ein.tags": "worksheet-0",
    "scrolled": true,
    "slideshow": {
     "slide_type": "-"
    }
   },
   "outputs": [
    {
     "data": {
      "text/plain": [
       "     fun: 2.922744894719158\n     jac: array([ 1.27591492e-02, -3.30276088e+01, -3.90425466e-07, -2.72725753e-08,\n        2.50214885e-02, -4.43486441e-02, -1.56975278e-03])\n message: 'Maximum number of iterations reached'\n     nit: 9\n success: False\n       x: array([ 7.52468029e+00,  1.00000000e-03,  9.95977187e+04,  3.33439825e+05,\n       -2.19388600e+00, -3.44741317e+00,  5.63772904e-01])"
      ]
     },
     "execution_count": 28,
     "metadata": {},
     "output_type": "execute_result"
    }
   ],
   "source": [
    "# stochastic gradient descent (ADAM+SVRG)\n",
    "add_pulse_model.stochastic_optimize(snps_per_minibatch=1000, num_iters=10, svrg_epoch=3)"
   ]
  },
  {
   "cell_type": "code",
   "execution_count": 29,
   "metadata": {
    "autoscroll": false,
    "collapsed": false,
    "ein.tags": "worksheet-0",
    "scrolled": true,
    "slideshow": {
     "slide_type": "-"
    }
   },
   "outputs": [
    {
     "data": {
      "text/plain": [
       "        fun: 0.004485031124894715\n        jac: array([ 3.97645351e-04, -4.34929889e+00, -1.21561292e-08, -1.70196325e-10,\n        2.33696988e-04,  2.17267276e-05,  4.69837767e-05])\n    message: 'Max. number of function evaluations reached'\n       nfev: 100\n        nit: 17\n parameters: n_chb         45107.680479\ng_chb             0.000452\nt_chb_yri     84217.750438\nt_anc        469044.660805\np_pulse           0.076664\nt_pulse       37350.106539\nt_ghost       72608.902794\ndtype: float64\n     status: 3\n    success: False\n          x: array([ 1.07168078e+01,  4.51760158e-04,  7.42177504e+04,  3.84826910e+05,\n       -2.48855878e+00, -2.26991778e-01, -2.86417025e+00])"
      ]
     },
     "execution_count": 29,
     "metadata": {},
     "output_type": "execute_result"
    }
   ],
   "source": [
    "# full gradient descent\n",
    "add_pulse_model.optimize(method=\"TNC\")"
   ]
  },
  {
   "cell_type": "code",
   "execution_count": 30,
   "metadata": {
    "autoscroll": false,
    "collapsed": false,
    "ein.tags": "worksheet-0",
    "slideshow": {
     "slide_type": "-"
    }
   },
   "outputs": [
    {
     "name": "stderr",
     "output_type": "stream",
     "text": [
      "/home/jack/Source/private/momi_projects/momi2/momi/demo_plotter.py:35: RuntimeWarning: invalid value encountered in double_scalars\n",
      "  -self.curr_g * (nxt_t - self.curr_t))\n"
     ]
    },
    {
     "data": {
      "text/plain": [
       "[<matplotlib.axis.YTick at 0x7f929f620710>,\n <matplotlib.axis.YTick at 0x7f929fc22128>,\n <matplotlib.axis.YTick at 0x7f929ed73208>,\n <matplotlib.axis.YTick at 0x7f92a01c2cf8>,\n <matplotlib.axis.YTick at 0x7f92a1cdedd8>,\n <matplotlib.axis.YTick at 0x7f92a1b00ac8>,\n <matplotlib.axis.YTick at 0x7f92a1b003c8>]"
      ]
     },
     "execution_count": 30,
     "metadata": {},
     "output_type": "execute_result"
    },
    {
     "data": {
      "image/png": "[encoded data removed]",
      "text/plain": [
       "<matplotlib.figure.Figure at 0x7f929ed73a90>"
      ]
     },
     "metadata": {},
     "output_type": "display_data"
    }
   ],
   "source": [
    "# plot the model\n",
    "plt.figure(figsize=(6,8))\n",
    "add_pulse_model.draw([\"YRI\", \"CHB\", \"GhostNea\", \"NEA\"], linthreshy=1e5)\n",
    "plt.gca().set_yticks([1e4, 2.5e4, 5e4, 7.5e4, 1e5, 2.5e5, 5e5])"
   ]
  },
  {
   "cell_type": "code",
   "execution_count": 31,
   "metadata": {
    "autoscroll": false,
    "collapsed": false,
    "ein.tags": "worksheet-0",
    "slideshow": {
     "slide_type": "-"
    }
   },
   "outputs": [
    {
     "name": "stdout",
     "output_type": "stream",
     "text": [
      "Automatic pdb calling has been turned ON\n"
     ]
    }
   ],
   "source": [
    "%pdb"
   ]
  },
  {
   "cell_type": "code",
   "execution_count": 32,
   "metadata": {
    "autoscroll": false,
    "collapsed": false,
    "ein.tags": "worksheet-0",
    "scrolled": true,
    "slideshow": {
     "slide_type": "-"
    }
   },
   "outputs": [
    {
     "name": "stdout",
     "output_type": "stream",
     "text": [
      "0\n"
     ]
    },
    {
     "name": "stdout",
     "output_type": "stream",
     "text": [
      "1\n"
     ]
    },
    {
     "name": "stdout",
     "output_type": "stream",
     "text": [
      "2\n"
     ]
    },
    {
     "name": "stdout",
     "output_type": "stream",
     "text": [
      "3\n"
     ]
    },
    {
     "name": "stdout",
     "output_type": "stream",
     "text": [
      "4\n"
     ]
    },
    {
     "name": "stdout",
     "output_type": "stream",
     "text": [
      "5\n"
     ]
    },
    {
     "name": "stdout",
     "output_type": "stream",
     "text": [
      "6\n"
     ]
    },
    {
     "name": "stdout",
     "output_type": "stream",
     "text": [
      "7\n"
     ]
    },
    {
     "name": "stdout",
     "output_type": "stream",
     "text": [
      "8\n"
     ]
    },
    {
     "name": "stdout",
     "output_type": "stream",
     "text": [
      "9\n"
     ]
    },
    {
     "name": "stdout",
     "output_type": "stream",
     "text": [
      "10\n"
     ]
    },
    {
     "name": "stdout",
     "output_type": "stream",
     "text": [
      "11\n"
     ]
    },
    {
     "name": "stdout",
     "output_type": "stream",
     "text": [
      "12\n"
     ]
    },
    {
     "name": "stdout",
     "output_type": "stream",
     "text": [
      "13\n"
     ]
    },
    {
     "name": "stdout",
     "output_type": "stream",
     "text": [
      "14\n"
     ]
    },
    {
     "name": "stdout",
     "output_type": "stream",
     "text": [
      "15\n"
     ]
    },
    {
     "name": "stdout",
     "output_type": "stream",
     "text": [
      "16\n"
     ]
    },
    {
     "name": "stdout",
     "output_type": "stream",
     "text": [
      "17\n"
     ]
    },
    {
     "name": "stdout",
     "output_type": "stream",
     "text": [
      "18\n"
     ]
    },
    {
     "name": "stdout",
     "output_type": "stream",
     "text": [
      "19\n"
     ]
    }
   ],
   "source": [
    "## generate nonparametric bootstrap datasets\n",
    "\n",
    "n_bootstraps = 20\n",
    "bootstrap_mles = []\n",
    "\n",
    "# split dataset into 100 equally sized blocks to resample\n",
    "chunked_data = data.chunk_data(100)\n",
    "\n",
    "bootstrap_model = add_pulse_model.copy()\n",
    "for bootstrap_it in range(n_bootstraps):\n",
    "    print(bootstrap_it)\n",
    "    # bootstrap resample blocks\n",
    "    bootstrap_data = chunked_data.resample_chunks()\n",
    "    \n",
    "    bootstrap_model.set_data(bootstrap_data)\n",
    "    bootstrap_model.set_random_parameters()\n",
    "\n",
    "    # TODO: optimize each submodel separately\n",
    "    # (pass a set_submodel parameter to set_random_parameters())\n",
    "    bootstrap_model.optimize()\n",
    "    bootstrap_mles.append(bootstrap_model.get_x())"
   ]
  },
  {
   "cell_type": "code",
   "execution_count": 33,
   "metadata": {
    "autoscroll": false,
    "collapsed": false,
    "ein.tags": "worksheet-0",
    "slideshow": {
     "slide_type": "-"
    }
   },
   "outputs": [
    {
     "name": "stderr",
     "output_type": "stream",
     "text": [
      "/home/jack/Source/private/momi_projects/momi2/momi/demo_plotter.py:35: RuntimeWarning: invalid value encountered in double_scalars\n",
      "  -self.curr_g * (nxt_t - self.curr_t))\n"
     ]
    },
    {
     "data": {
      "text/plain": [
       "[<matplotlib.axis.YTick at 0x7f929fa694a8>,\n <matplotlib.axis.YTick at 0x7f92a0142518>,\n <matplotlib.axis.YTick at 0x7f929f21b4e0>,\n <matplotlib.axis.YTick at 0x7f929ed4ee80>,\n <matplotlib.axis.YTick at 0x7f929ed4e940>,\n <matplotlib.axis.YTick at 0x7f929f0ff9b0>,\n <matplotlib.axis.YTick at 0x7f929e4938d0>]"
      ]
     },
     "execution_count": 33,
     "metadata": {},
     "output_type": "execute_result"
    },
    {
     "data": {
      "image/png": "[encoded data removed]",
      "text/plain": [
       "<matplotlib.figure.Figure at 0x7f92a0142278>"
      ]
     },
     "metadata": {},
     "output_type": "display_data"
    }
   ],
   "source": [
    "plt.figure(figsize=(8,10))\n",
    "add_pulse_model.draw_with_bootstraps(bootstrap_mles,\n",
    "                                     [\"YRI\", \"CHB\", \"GhostNea\", \"NEA\"], \n",
    "                                     linthreshy=1e5, p_min=0, p_max=1)\n",
    "plt.gca().set_yticks([1e4, 2.5e4, 5e4, 7.5e4, 1e5, 2.5e5, 5e5])"
   ]
  },
  {
   "cell_type": "code",
   "execution_count": null,
   "metadata": {
    "autoscroll": false,
    "collapsed": false,
    "ein.tags": "worksheet-0",
    "slideshow": {
     "slide_type": "-"
    }
   },
   "outputs": [
    {
     "name": "stderr",
     "output_type": "stream",
     "text": [
      "/home/jack/pythonpath/momi/demo_plotter.py:35: RuntimeWarning: invalid value encountered in double_scalars\n",
      "  -self.curr_g * (nxt_t - self.curr_t))\n"
     ]
    },
    {
     "data": {
      "text/plain": [
       "[<matplotlib.axis.YTick at 0x7f82e1a6e3c8>,\n",
       " <matplotlib.axis.YTick at 0x7f82e1a58c88>,\n",
       " <matplotlib.axis.YTick at 0x7f82e1a7b518>,\n",
       " <matplotlib.axis.YTick at 0x7f82e1a859b0>,\n",
       " <matplotlib.axis.YTick at 0x7f82e1aa53c8>,\n",
       " <matplotlib.axis.YTick at 0x7f82e1aa5da0>,\n",
       " <matplotlib.axis.YTick at 0x7f82e1aa37b8>]"
      ]
     },
     "execution_count": 23,
     "metadata": {},
     "output_type": "execute_result"
    },
    {
     "data": {
      "image/png": "[encoded data removed]",
      "text/plain": [
       "<matplotlib.figure.Figure at 0x7f82e1a82940>"
      ]
     },
     "metadata": {},
     "output_type": "display_data"
    }
   ],
   "source": [
    "plt.figure(figsize=(8,10))\n",
    "add_pulse_model.draw_with_bootstraps(bootstrap_mles,\n",
    "                                     [\"YRI\", \"CHB\", \"GhostNea\", \"NEA\"], \n",
    "                                     linthreshy=1e5, p_min=0, p_max=1)\n",
    "plt.gca().set_yticks([1e4, 2.5e4, 5e4, 7.5e4, 1e5, 2.5e5, 5e5])"
   ]
  }
 ],
 "metadata": {
  "kernelspec": {
   "display_name": "momi2-gAXri9wX",
   "name": "momi2-gaxri9wx"
  },
  "language_info": {
   "codemirror_mode": {
    "name": "ipython",
    "version": 3
   },
   "file_extension": ".py",
   "mimetype": "text/x-python",
   "name": "python",
   "nbconvert_exporter": "python",
   "pygments_lexer": "ipython3",
   "version": "3.6.3"
  },
  "name": "new_tutorial.ipynb"
 },
 "nbformat": 4,
 "nbformat_minor": 2
}
