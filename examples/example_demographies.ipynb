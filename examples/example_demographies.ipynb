{
 "cells": [
  {
   "cell_type": "markdown",
   "metadata": {},
   "source": [
    "# Some example demographies\n",
    "\n",
    "We illustrate some advanced options of `momi.Demography()`."
   ]
  },
  {
   "cell_type": "code",
   "execution_count": 1,
   "metadata": {
    "collapsed": true
   },
   "outputs": [],
   "source": [
    "from momi import Demography, to_ms_cmd"
   ]
  },
  {
   "cell_type": "markdown",
   "metadata": {},
   "source": [
    "### Specifying demographies in different time scales\n",
    "\n",
    "Users can choose to input demographies in ms time scale, the more 'standard' coalescent time scale, or in per-generation units."
   ]
  },
  {
   "cell_type": "code",
   "execution_count": 2,
   "metadata": {
    "collapsed": false
   },
   "outputs": [
    {
     "name": "stdout",
     "output_type": "stream",
     "text": [
      "Demography in ms syntax:\n",
      "-I 2 5 3 -eg 0.0 1 1.0 -ej 0.5 1 2 -en 1.0 2 0.5\n"
     ]
    }
   ],
   "source": [
    "# a simple Demography, in ms units\n",
    "events = [('-eg', 0.0, 'a', 1.0), ('-ej', .5, 'a', 'b'), ('-en', 1., 'b', .5)]\n",
    "demo = Demography(events, sampled_pops=('a','b'), sampled_n=(5,3))\n",
    "\n",
    "print \"Demography in ms syntax:\"\n",
    "print to_ms_cmd(demo)"
   ]
  },
  {
   "cell_type": "code",
   "execution_count": 3,
   "metadata": {
    "collapsed": false
   },
   "outputs": [
    {
     "name": "stdout",
     "output_type": "stream",
     "text": [
      "Must convert demography to ms units before calling to_ms_cmd()\n",
      "\n",
      "Demography in ms syntax & units:\n",
      "-I 2 5 3 -eg 0.0 1 1.0 -ej 0.5 1 2 -en 1.0 2 0.5\n"
     ]
    }
   ],
   "source": [
    "# the same Demography, but specified in the 'standard' (not 'ms') time scale\n",
    "# this means that there are 2*N_ref generations per unit time (instead of 4*N_ref as in ms)\n",
    "\n",
    "# notice times are 2x longer in the 'standard' units.\n",
    "# as consequence, growth rate per unit time is 2x slower\n",
    "events = [('-eg', 0.0, 'a', 0.5), ('-ej', 1., 'a', 'b'), ('-en', 2., 'b', .5)]\n",
    "\n",
    "# use time_scale='standard' to specify standard coalescent units\n",
    "demo = Demography(events, sampled_pops=('a','b'), sampled_n=(5,3), time_scale='standard')\n",
    "\n",
    "try:\n",
    "    print to_ms_cmd(demo)\n",
    "except:\n",
    "    print \"Must convert demography to ms units before calling to_ms_cmd()\\n\"\n",
    "\n",
    "demo = demo.rescaled()\n",
    "print \"Demography in ms syntax & units:\"\n",
    "print to_ms_cmd(demo)"
   ]
  },
  {
   "cell_type": "code",
   "execution_count": 4,
   "metadata": {
    "collapsed": false
   },
   "outputs": [
    {
     "name": "stdout",
     "output_type": "stream",
     "text": [
      "Must convert demography to ms units before calling to_ms_cmd()\n",
      "\n",
      "Demography in ms syntax & units:\n",
      "-I 2 5 3 -eg 0.0 1 1.0 -ej 0.5 1 2 -en 1.0 2 0.5\n"
     ]
    }
   ],
   "source": [
    "# the same Demography, but specified in per-generation units\n",
    "# we'll assume a diploid population size of 10,000\n",
    "\n",
    "# join event 5e3 generations ago. population size drops to 5000 at 1e4 generations ago.\n",
    "# growth rate per generation is 1e-4 in population 'a'\n",
    "events = [('-eg',0.0,'a',1e-4),('-ej', 5e3, 'a', 'b'), ('-en', 1e4, 'b', 5000)]\n",
    "\n",
    "# use default_N to set the diploid population size\n",
    "demo = Demography(events, sampled_pops=('a','b'), sampled_n=(5,3), default_N=10000)\n",
    "\n",
    "try:\n",
    "    print to_ms_cmd(demo)\n",
    "except:\n",
    "    print \"Must convert demography to ms units before calling to_ms_cmd()\\n\"\n",
    "\n",
    "demo = demo.rescaled()\n",
    "print \"Demography in ms syntax & units:\"\n",
    "print to_ms_cmd(demo)"
   ]
  },
  {
   "cell_type": "markdown",
   "metadata": {},
   "source": [
    "### Ghost populations\n",
    "\n",
    "A 'ghost' population is one that is not present in the sample.\n",
    "\n",
    "`momi` syntax is more flexible than `ms` about ghost populations. In particular, ghost populations can be immediately affected by demographic events.\n",
    "\n",
    "By contrast, in `ms`, ghost populations cannot be modified by events until they have been \"created\" with the **-es** flag."
   ]
  },
  {
   "cell_type": "code",
   "execution_count": 5,
   "metadata": {
    "collapsed": false
   },
   "outputs": [
    {
     "name": "stdout",
     "output_type": "stream",
     "text": [
      "Demography in ms syntax.\n",
      "-I 1 10 -es 0.5 1 0.75 -en 0.5 2 0.606530659713 -eg 0.5 2 1.0 -ej 1.0 2 1\n"
     ]
    }
   ],
   "source": [
    "# a demography with one sampled population 'a', and a ghost population 'z'\n",
    "\n",
    "events = [('-eg', 0.0, 'z', 1.0), # can set growth rate of 'z' at t=0, even tho its a ghost population\n",
    "          ('-ep', .5, 'a', 'z', .25), # pulse migration from z to a\n",
    "          ('-ej', 1.0, 'z', 'a')]\n",
    "\n",
    "demo = Demography(events, ['a'], [10])\n",
    "print \"Demography in ms syntax.\"\n",
    "print to_ms_cmd(demo)\n",
    "# Note in ms syntax, the growth event (-eg) doesn't happen until the admixture event (-es)"
   ]
  },
  {
   "cell_type": "markdown",
   "metadata": {},
   "source": [
    "In `momi`, we can also have sampled populations merge **-ej** with ghost populations, even if there is no admixture event."
   ]
  },
  {
   "cell_type": "code",
   "execution_count": 6,
   "metadata": {
    "collapsed": false
   },
   "outputs": [
    {
     "name": "stdout",
     "output_type": "stream",
     "text": [
      "Demography in ms syntax.\n",
      "-I 1 10 -en 0.5 1 0.606530659713 -eg 0.5 1 1.0 -en 1.0 1 1.0\n"
     ]
    }
   ],
   "source": [
    "# a demography with one sampled population 'a', and a ghost population 'z'\n",
    "\n",
    "events = [('-eg', 0.0, 'z', 1.0),\n",
    "          ('-ej', .5, 'a', 'z'), # 'z' is empty, so this is equivalent to just changing size/growth of 'a'\n",
    "          ('-en', 1.0, 'z', 1.0)]\n",
    "\n",
    "demo = Demography(events, ['a'], [10])\n",
    "print \"Demography in ms syntax.\"\n",
    "print to_ms_cmd(demo)\n",
    "# Note in ms syntax, the -ej event doesn't appear; instead just the size and growth rate of 'a' change"
   ]
  },
  {
   "cell_type": "markdown",
   "metadata": {},
   "source": [
    "### Ancient DNA\n",
    "\n",
    "Use the `sampled_t` parameter to indicate that a population was sampled in the past."
   ]
  },
  {
   "cell_type": "code",
   "execution_count": 7,
   "metadata": {
    "collapsed": false
   },
   "outputs": [
    {
     "name": "stdout",
     "output_type": "stream",
     "text": [
      "Cannot convert demography with archaic populations to ms syntax\n"
     ]
    }
   ],
   "source": [
    "events = [('-ej', 1.0, 'a', 'b')]\n",
    "\n",
    "# the samples from 'b' are ancient DNA, from time t=0.5\n",
    "demo = Demography(events, ['a','b'], (6, 10), sampled_t=[0.0, .5])\n",
    "\n",
    "try:\n",
    "    print to_ms_cmd(demo)\n",
    "except:\n",
    "    print \"Cannot convert demography with archaic populations to ms syntax\""
   ]
  },
  {
   "cell_type": "markdown",
   "metadata": {},
   "source": [
    "### Demography with a lot of parameters\n",
    "\n",
    "An example on how to programatically construct a demography with a lot of parameters (too many to conveniently write down by hand)."
   ]
  },
  {
   "cell_type": "code",
   "execution_count": 8,
   "metadata": {
    "collapsed": false
   },
   "outputs": [
    {
     "name": "stdout",
     "output_type": "stream",
     "text": [
      "Demography in ms syntax.\n",
      "-I 1 10 -en 0.00502733592733 1 0.72163578879 -en 0.0119173051205 1 0.0571889835641 -en 0.0136403786741 1 0.854163265534 -en 0.0245373040639 1 0.177603175774 -en 0.0619075080941 1 1.28757619132 -en 0.0740844048851 1 0.0674557960961 -en 0.081133032925 1 0.709446670247 -en 0.0870417103919 1 0.0266135480216 -en 0.0928914629674 1 1.70653610769 -en 0.0964226470305 1 0.390301726362 -en 0.0984005686298 1 0.615083353873 -en 0.105824677369 1 0.105027746903 -en 0.108338445097 1 1.71631352441 -en 0.122752141847 1 0.407083207599 -en 0.126141229497 1 0.406852011486 -en 0.138005033156 1 2.06819854549 -en 0.138201251129 1 1.28828339636 -en 0.146197428532 1 3.43464695824 -en 0.149630663115 1 0.0413543794081 -en 0.154779692725 1 0.412470571452 -en 0.155498107168 1 1.00298398128 -en 0.156514811215 1 0.533124531087 -en 0.170301191226 1 0.498134997861 -en 0.175260747352 1 0.370858212925 -en 0.182044165064 1 1.28570116773 -en 0.186424183162 1 2.59587315768 -en 0.199859528979 1 2.48623027822 -en 0.202527216489 1 1.51902557438 -en 0.228368026171 1 2.9412224402 -en 0.232808218602 1 0.404557789369 -en 0.265019247507 1 2.29909662061 -en 0.277634549665 1 2.18480463421 -en 0.281521453832 1 1.14752761203 -en 0.284062472944 1 0.0273194787724 -en 0.28426331065 1 1.86285792893 -en 0.289333106249 1 2.33908238606 -en 0.29594500987 1 2.21626566226 -en 0.29928413432 1 1.58714691545 -en 0.299591704832 1 2.61706659306 -en 0.318303504016 1 5.5121538838 -en 0.339725830494 1 0.620531681293 -en 0.345084640642 1 0.172709239907 -en 0.351194710977 1 1.81253867127 -en 0.35791440107 1 0.321120557767 -en 0.367284343399 1 3.04829811003 -en 0.368570967999 1 1.72516422184 -en 0.369906720488 1 0.318722279366 -en 0.375711206166 1 0.37973075324 -en 0.389764861642 1 0.152564352019 -en 0.401307737705 1 0.259308122327\n"
     ]
    }
   ],
   "source": [
    "# piecewise constant demography, with 50 pieces\n",
    "\n",
    "import random\n",
    "\n",
    "n_pieces = 50\n",
    "t = 0.0\n",
    "events = []\n",
    "for i in range(n_pieces):\n",
    "    t = t + random.expovariate(100.)\n",
    "    N = random.expovariate(1.0)\n",
    "    events.append(('-en', t, 0, N))\n",
    "\n",
    "demo = Demography(events, [0], [10])\n",
    "print \"Demography in ms syntax.\"\n",
    "print to_ms_cmd(demo)"
   ]
  }
 ],
 "metadata": {
  "kernelspec": {
   "display_name": "Python 2",
   "language": "python",
   "name": "python2"
  },
  "language_info": {
   "codemirror_mode": {
    "name": "ipython",
    "version": 2
   },
   "file_extension": ".py",
   "mimetype": "text/x-python",
   "name": "python",
   "nbconvert_exporter": "python",
   "pygments_lexer": "ipython2",
   "version": "2.7.9"
  }
 },
 "nbformat": 4,
 "nbformat_minor": 0
}
