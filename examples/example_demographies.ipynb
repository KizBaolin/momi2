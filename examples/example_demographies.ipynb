{
 "cells": [
  {
   "cell_type": "markdown",
   "metadata": {},
   "source": [
    "# Some example demographies\n",
    "\n",
    "We illustrate some advanced options of `momi.Demography()`."
   ]
  },
  {
   "cell_type": "code",
   "execution_count": 1,
   "metadata": {
    "collapsed": true
   },
   "outputs": [],
   "source": [
    "from momi import Demography, to_ms_cmd"
   ]
  },
  {
   "cell_type": "markdown",
   "metadata": {},
   "source": [
    "### Specifying demographies in different time scales\n",
    "\n",
    "Users can choose to input demographies in ms time scale, the more 'standard' coalescent time scale, or in per-generation units."
   ]
  },
  {
   "cell_type": "code",
   "execution_count": 2,
   "metadata": {
    "collapsed": false
   },
   "outputs": [
    {
     "name": "stdout",
     "output_type": "stream",
     "text": [
      "Demography in ms syntax:\n",
      "-I 2 5 3 -eg 0.0 1 1.0 -ej 0.5 1 2 -en 1.0 2 0.5\n"
     ]
    }
   ],
   "source": [
    "# a simple Demography, in ms units\n",
    "events = [('-eg', 0.0, 'a', 1.0), ('-ej', .5, 'a', 'b'), ('-en', 1., 'b', .5)]\n",
    "demo = Demography(events, sampled_pops=('a','b'), sampled_n=(5,3))\n",
    "\n",
    "print \"Demography in ms syntax:\"\n",
    "print to_ms_cmd(demo)"
   ]
  },
  {
   "cell_type": "code",
   "execution_count": 3,
   "metadata": {
    "collapsed": false
   },
   "outputs": [
    {
     "name": "stdout",
     "output_type": "stream",
     "text": [
      "Must convert demography to ms units before calling to_ms_cmd()\n",
      "\n",
      "Demography in ms syntax & units:\n",
      "-I 2 5 3 -eg 0.0 1 1.0 -ej 0.5 1 2 -en 1.0 2 0.5\n"
     ]
    }
   ],
   "source": [
    "# the same Demography, but specified in the 'standard' (not 'ms') time scale\n",
    "# this means that there are 2*N_ref generations per unit time (instead of 4*N_ref as in ms)\n",
    "\n",
    "# notice times are 2x longer in the 'standard' units.\n",
    "# as consequence, growth rate per unit time is 2x slower\n",
    "events = [('-eg', 0.0, 'a', 0.5), ('-ej', 1., 'a', 'b'), ('-en', 2., 'b', .5)]\n",
    "\n",
    "# use time_scale='standard' to specify standard coalescent units\n",
    "demo = Demography(events, sampled_pops=('a','b'), sampled_n=(5,3), time_scale='standard')\n",
    "\n",
    "try:\n",
    "    print to_ms_cmd(demo)\n",
    "except:\n",
    "    print \"Must convert demography to ms units before calling to_ms_cmd()\\n\"\n",
    "\n",
    "demo = demo.rescaled()\n",
    "print \"Demography in ms syntax & units:\"\n",
    "print to_ms_cmd(demo)"
   ]
  },
  {
   "cell_type": "code",
   "execution_count": 4,
   "metadata": {
    "collapsed": false
   },
   "outputs": [
    {
     "name": "stdout",
     "output_type": "stream",
     "text": [
      "Must convert demography to ms units before calling to_ms_cmd()\n",
      "\n",
      "Demography in ms syntax & units:\n",
      "-I 2 5 3 -eg 0.0 1 1.0 -ej 0.5 1 2 -en 1.0 2 0.5\n"
     ]
    }
   ],
   "source": [
    "# the same Demography, but specified in per-generation units\n",
    "# we'll assume a diploid population size of 10,000\n",
    "\n",
    "# join event 5e3 generations ago. population size drops to 5000 at 1e4 generations ago.\n",
    "# growth rate per generation is 1e-4 in population 'a'\n",
    "events = [('-eg',0.0,'a',1e-4),('-ej', 5e3, 'a', 'b'), ('-en', 1e4, 'b', 5000)]\n",
    "\n",
    "# use default_N to set the diploid population size\n",
    "demo = Demography(events, sampled_pops=('a','b'), sampled_n=(5,3), default_N=10000)\n",
    "\n",
    "try:\n",
    "    print to_ms_cmd(demo)\n",
    "except:\n",
    "    print \"Must convert demography to ms units before calling to_ms_cmd()\\n\"\n",
    "\n",
    "demo = demo.rescaled()\n",
    "print \"Demography in ms syntax & units:\"\n",
    "print to_ms_cmd(demo)"
   ]
  },
  {
   "cell_type": "markdown",
   "metadata": {},
   "source": [
    "### Ghost populations\n",
    "\n",
    "A 'ghost' population is one that is not present in the sample.\n",
    "\n",
    "`momi` syntax is more flexible than `ms` about ghost populations. In particular, ghost populations can be immediately affected by demographic events.\n",
    "\n",
    "By contrast, in `ms`, ghost populations cannot be modified by events until they have been \"created\" with the **-es** flag."
   ]
  },
  {
   "cell_type": "code",
   "execution_count": 5,
   "metadata": {
    "collapsed": false
   },
   "outputs": [
    {
     "name": "stdout",
     "output_type": "stream",
     "text": [
      "Demography in ms syntax.\n",
      "-I 1 10 -es 0.5 1 0.75 -en 0.5 2 0.606530659713 -eg 0.5 2 1.0 -ej 1.0 2 1\n"
     ]
    }
   ],
   "source": [
    "# a demography with one sampled population 'a', and a ghost population 'z'\n",
    "\n",
    "events = [('-eg', 0.0, 'z', 1.0), # can set growth rate of 'z' at t=0, even tho its a ghost population\n",
    "          ('-ep', .5, 'a', 'z', .25), # pulse migration from z to a\n",
    "          ('-ej', 1.0, 'z', 'a')]\n",
    "\n",
    "demo = Demography(events, ['a'], [10])\n",
    "print \"Demography in ms syntax.\"\n",
    "print to_ms_cmd(demo)\n",
    "# Note in ms syntax, the growth event (-eg) doesn't happen until the admixture event (-es)"
   ]
  },
  {
   "cell_type": "markdown",
   "metadata": {},
   "source": [
    "In `momi`, we can also have sampled populations merge **-ej** with ghost populations, even if there is no admixture event."
   ]
  },
  {
   "cell_type": "code",
   "execution_count": 6,
   "metadata": {
    "collapsed": false
   },
   "outputs": [
    {
     "name": "stdout",
     "output_type": "stream",
     "text": [
      "Demography in ms syntax.\n",
      "-I 1 10 -en 0.5 1 0.606530659713 -eg 0.5 1 1.0 -en 1.0 1 1.0\n"
     ]
    }
   ],
   "source": [
    "# a demography with one sampled population 'a', and a ghost population 'z'\n",
    "\n",
    "events = [('-eg', 0.0, 'z', 1.0),\n",
    "          ('-ej', .5, 'a', 'z'), # 'z' is empty, so this is equivalent to just changing size/growth of 'a'\n",
    "          ('-en', 1.0, 'z', 1.0)]\n",
    "\n",
    "demo = Demography(events, ['a'], [10])\n",
    "print \"Demography in ms syntax.\"\n",
    "print to_ms_cmd(demo)\n",
    "# Note in ms syntax, the -ej event doesn't appear; instead just the size and growth rate of 'a' change"
   ]
  },
  {
   "cell_type": "markdown",
   "metadata": {},
   "source": [
    "### Ancient DNA\n",
    "\n",
    "Use the `sampled_t` parameter to indicate that a population was sampled in the past."
   ]
  },
  {
   "cell_type": "code",
   "execution_count": 7,
   "metadata": {
    "collapsed": false
   },
   "outputs": [
    {
     "name": "stdout",
     "output_type": "stream",
     "text": [
      "Cannot convert demography with archaic populations to ms syntax\n"
     ]
    }
   ],
   "source": [
    "events = [('-ej', 1.0, 'a', 'b')]\n",
    "\n",
    "# the samples from 'b' are ancient DNA, from time t=0.5\n",
    "demo = Demography(events, ['a','b'], (6, 10), sampled_t=[0.0, .5])\n",
    "\n",
    "try:\n",
    "    print to_ms_cmd(demo)\n",
    "except:\n",
    "    print \"Cannot convert demography with archaic populations to ms syntax\""
   ]
  },
  {
   "cell_type": "markdown",
   "metadata": {},
   "source": [
    "### Demography with a lot of parameters\n",
    "\n",
    "An example on how to programatically construct a demography with a lot of parameters (too many to conveniently write down by hand)."
   ]
  },
  {
   "cell_type": "code",
   "execution_count": 8,
   "metadata": {
    "collapsed": false
   },
   "outputs": [
    {
     "name": "stdout",
     "output_type": "stream",
     "text": [
      "Demography in ms syntax.\n",
      "-I 1 10 -en 2.24292496708 1 0.471256101033 -en 317.143903727 1 1.82987300231 -en 373.491033554 1 4.42038608338 -en 484.791936636 1 0.244625584181 -en 580.371703525 1 1.46639760589 -en 598.618235103 1 1.16547179942 -en 625.056391026 1 0.101464540332 -en 646.259183748 1 2.15644590784 -en 822.125308357 1 2.65136687137 -en 851.314860542 1 3.33517288869 -en 967.633431432 1 0.943439922929 -en 1182.78076519 1 1.58574674012 -en 1349.70815418 1 0.650055187471 -en 1358.8771536 1 0.373882088664 -en 1562.04550292 1 0.6946170565 -en 1617.07174134 1 1.67116724018 -en 1634.27157129 1 2.57872111441 -en 2011.95550359 1 0.222246220776 -en 2064.43150469 1 0.0864170435695 -en 2098.56382004 1 0.177337723279 -en 2234.98731711 1 0.626231075334 -en 2267.4056594 1 0.399519156288 -en 2377.60341406 1 0.328650338253 -en 2378.79446142 1 0.589635704968 -en 2380.29875638 1 4.46483878699 -en 2391.21159511 1 1.11917059151 -en 2440.89879683 1 0.277176058725 -en 2441.0310649 1 2.33848344037 -en 2445.64579926 1 1.19781979748 -en 2461.50968979 1 0.492692578181 -en 2605.23222699 1 0.336424737345 -en 2679.4937794 1 0.554501824509 -en 2697.6708585 1 1.19386239933 -en 2752.87842095 1 0.619532854192 -en 2804.91261537 1 0.118639760804 -en 2956.3192487 1 0.172090908499 -en 3039.97587821 1 0.434464486313 -en 3135.67727184 1 1.19768647166 -en 3144.85802977 1 0.527541154597 -en 3157.65922516 1 0.58889017706 -en 3351.07172649 1 5.21780951206 -en 3408.74550364 1 2.89986275849 -en 3506.19204479 1 1.66990344971 -en 3547.55645008 1 1.30714207609 -en 3631.81792192 1 0.22255103534 -en 3833.74827817 1 2.08520789792 -en 3986.84488967 1 1.61196104943 -en 4055.13624323 1 0.546695313268 -en 4116.54354643 1 0.240853161157 -en 4154.83529943 1 0.450252494054\n"
     ]
    }
   ],
   "source": [
    "# piecewise constant demography, with 50 pieces\n",
    "\n",
    "import random\n",
    "\n",
    "n_pieces = 50\n",
    "t = 0.0\n",
    "events = []\n",
    "for i in range(n_pieces):\n",
    "    t = t + random.expovariate(.01)\n",
    "    N = random.expovariate(1.0)\n",
    "    events.append(('-en', t, 0, N))\n",
    "\n",
    "demo = Demography(events, [0], [10])\n",
    "print \"Demography in ms syntax.\"\n",
    "print to_ms_cmd(demo)"
   ]
  }
 ],
 "metadata": {
  "kernelspec": {
   "display_name": "Python 2",
   "language": "python",
   "name": "python2"
  },
  "language_info": {
   "codemirror_mode": {
    "name": "ipython",
    "version": 2
   },
   "file_extension": ".py",
   "mimetype": "text/x-python",
   "name": "python",
   "nbconvert_exporter": "python",
   "pygments_lexer": "ipython2",
   "version": "2.7.9"
  }
 },
 "nbformat": 4,
 "nbformat_minor": 0
}
