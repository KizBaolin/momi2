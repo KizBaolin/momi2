{
 "cells": [
  {
   "cell_type": "markdown",
   "metadata": {},
   "source": [
    "# Some example demographies\n",
    "\n",
    "We illustrate some advanced options of `momi.Demography()`."
   ]
  },
  {
   "cell_type": "code",
   "execution_count": 1,
   "metadata": {
    "collapsed": true
   },
   "outputs": [],
   "source": [
    "from momi import Demography, to_ms_cmd"
   ]
  },
  {
   "cell_type": "markdown",
   "metadata": {},
   "source": [
    "### Specifying demographies in different time scales\n",
    "\n",
    "Users can choose to input demographies in ms time scale, the more 'standard' coalescent time scale, or in per-generation units."
   ]
  },
  {
   "cell_type": "code",
   "execution_count": 2,
   "metadata": {
    "collapsed": false
   },
   "outputs": [
    {
     "name": "stdout",
     "output_type": "stream",
     "text": [
      "Demography in ms syntax:\n",
      "-I 2 5 3 -eg 0.0 1 1.0 -ej 0.5 1 2 -en 1.0 2 0.5\n"
     ]
    }
   ],
   "source": [
    "# a simple Demography, in ms units\n",
    "events = [('-eg', 0.0, 'a', 1.0), ('-ej', .5, 'a', 'b'), ('-en', 1., 'b', .5)]\n",
    "demo = Demography(events, sampled_pops=('a','b'), sampled_n=(5,3))\n",
    "\n",
    "print \"Demography in ms syntax:\"\n",
    "print to_ms_cmd(demo)"
   ]
  },
  {
   "cell_type": "code",
   "execution_count": 3,
   "metadata": {
    "collapsed": false
   },
   "outputs": [
    {
     "name": "stdout",
     "output_type": "stream",
     "text": [
      "Must convert demography to ms units before calling to_ms_cmd()\n",
      "\n",
      "Demography in ms syntax & units:\n",
      "-I 2 5 3 -eg 0.0 1 1.0 -ej 0.5 1 2 -en 1.0 2 0.5\n"
     ]
    }
   ],
   "source": [
    "# the same Demography, but specified in the 'standard' (not 'ms') time scale\n",
    "# this means that there are 2*N_ref generations per unit time (instead of 4*N_ref as in ms)\n",
    "\n",
    "# notice times are 2x longer in the 'standard' units.\n",
    "# as consequence, growth rate per unit time is 2x slower\n",
    "events = [('-eg', 0.0, 'a', 0.5), ('-ej', 1., 'a', 'b'), ('-en', 2., 'b', .5)]\n",
    "\n",
    "# use time_scale='standard' to specify standard coalescent units\n",
    "demo = Demography(events, sampled_pops=('a','b'), sampled_n=(5,3), time_scale='standard')\n",
    "\n",
    "try:\n",
    "    print to_ms_cmd(demo)\n",
    "except:\n",
    "    print \"Must convert demography to ms units before calling to_ms_cmd()\\n\"\n",
    "\n",
    "demo = demo.rescaled()\n",
    "print \"Demography in ms syntax & units:\"\n",
    "print to_ms_cmd(demo)"
   ]
  },
  {
   "cell_type": "code",
   "execution_count": 4,
   "metadata": {
    "collapsed": false
   },
   "outputs": [
    {
     "name": "stdout",
     "output_type": "stream",
     "text": [
      "Must convert demography to ms units before calling to_ms_cmd()\n",
      "\n",
      "Demography in ms syntax & units:\n",
      "-I 2 5 3 -eg 0.0 1 1.0 -ej 0.5 1 2 -en 1.0 2 0.5\n"
     ]
    }
   ],
   "source": [
    "# the same Demography, but specified in per-generation units\n",
    "# we'll assume a diploid population size of 10,000\n",
    "\n",
    "# join event 5e3 generations ago. population size drops to 5000 at 1e4 generations ago.\n",
    "# growth rate per generation is 1e-4 in population 'a'\n",
    "events = [('-eg',0.0,'a',1e-4),('-ej', 5e3, 'a', 'b'), ('-en', 1e4, 'b', 5000)]\n",
    "\n",
    "# use default_N to set the diploid population size\n",
    "demo = Demography(events, sampled_pops=('a','b'), sampled_n=(5,3), default_N=10000)\n",
    "\n",
    "try:\n",
    "    print to_ms_cmd(demo)\n",
    "except:\n",
    "    print \"Must convert demography to ms units before calling to_ms_cmd()\\n\"\n",
    "\n",
    "demo = demo.rescaled()\n",
    "print \"Demography in ms syntax & units:\"\n",
    "print to_ms_cmd(demo)"
   ]
  },
  {
   "cell_type": "markdown",
   "metadata": {},
   "source": [
    "### Ghost populations\n",
    "\n",
    "A 'ghost' population is one that is not present in the sample.\n",
    "\n",
    "`momi` syntax is more flexible than `ms` about ghost populations. In particular, ghost populations can be immediately affected by demographic events.\n",
    "\n",
    "By contrast, in `ms`, ghost populations cannot be modified by events until they have been \"created\" with the **-es** flag."
   ]
  },
  {
   "cell_type": "code",
   "execution_count": 5,
   "metadata": {
    "collapsed": false
   },
   "outputs": [
    {
     "name": "stdout",
     "output_type": "stream",
     "text": [
      "Demography in ms syntax.\n",
      "-I 1 10 -es 0.5 1 0.75 -en 0.5 2 0.606530659713 -eg 0.5 2 1.0 -ej 1.0 2 1\n"
     ]
    }
   ],
   "source": [
    "# a demography with one sampled population 'a', and a ghost population 'z'\n",
    "\n",
    "events = [('-eg', 0.0, 'z', 1.0), # can set growth rate of 'z' at t=0, even tho its a ghost population\n",
    "          ('-ep', .5, 'a', 'z', .25), # pulse migration from z to a\n",
    "          ('-ej', 1.0, 'z', 'a')]\n",
    "\n",
    "demo = Demography(events, ['a'], [10])\n",
    "print \"Demography in ms syntax.\"\n",
    "print to_ms_cmd(demo)\n",
    "# Note in ms syntax, the growth event (-eg) doesn't happen until the admixture event (-es)"
   ]
  },
  {
   "cell_type": "markdown",
   "metadata": {},
   "source": [
    "In `momi`, we can also have sampled populations merge **-ej** with ghost populations, even if there is no admixture event."
   ]
  },
  {
   "cell_type": "code",
   "execution_count": 6,
   "metadata": {
    "collapsed": false
   },
   "outputs": [
    {
     "name": "stdout",
     "output_type": "stream",
     "text": [
      "Demography in ms syntax.\n",
      "-I 1 10 -en 0.5 1 0.606530659713 -eg 0.5 1 1.0 -en 1.0 1 1.0\n"
     ]
    }
   ],
   "source": [
    "# a demography with one sampled population 'a', and a ghost population 'z'\n",
    "\n",
    "events = [('-eg', 0.0, 'z', 1.0),\n",
    "          ('-ej', .5, 'a', 'z'), # 'z' is empty, so this is equivalent to just changing size/growth of 'a'\n",
    "          ('-en', 1.0, 'z', 1.0)]\n",
    "\n",
    "demo = Demography(events, ['a'], [10])\n",
    "print \"Demography in ms syntax.\"\n",
    "print to_ms_cmd(demo)\n",
    "# Note in ms syntax, the -ej event doesn't appear; instead just the size and growth rate of 'a' change"
   ]
  },
  {
   "cell_type": "markdown",
   "metadata": {},
   "source": [
    "### Ancient DNA\n",
    "\n",
    "Use the `sampled_t` parameter to indicate that a population was sampled in the past."
   ]
  },
  {
   "cell_type": "code",
   "execution_count": 7,
   "metadata": {
    "collapsed": false
   },
   "outputs": [
    {
     "name": "stdout",
     "output_type": "stream",
     "text": [
      "Cannot convert demography with archaic populations to ms syntax\n"
     ]
    }
   ],
   "source": [
    "events = [('-ej', 1.0, 'a', 'b')]\n",
    "\n",
    "# the samples from 'b' are ancient DNA, from time t=0.5\n",
    "demo = Demography(events, ['a','b'], (6, 10), sampled_t=[0.0, .5])\n",
    "\n",
    "try:\n",
    "    print to_ms_cmd(demo)\n",
    "except:\n",
    "    print \"Cannot convert demography with archaic populations to ms syntax\""
   ]
  },
  {
   "cell_type": "markdown",
   "metadata": {},
   "source": [
    "### Demography with a lot of parameters\n",
    "\n",
    "An example on how to programatically construct a demography with a lot of parameters (too many to conveniently write down by hand)."
   ]
  },
  {
   "cell_type": "code",
   "execution_count": 8,
   "metadata": {
    "collapsed": false
   },
   "outputs": [
    {
     "name": "stdout",
     "output_type": "stream",
     "text": [
      "Demography in ms syntax.\n",
      "-I 1 10 -en 0.00365552903558 1 0.333011892728 -en 0.0125691215032 1 2.92429640904 -en 0.0195182146417 1 2.74991426897 -en 0.0264717104358 1 2.00600073765 -en 0.0298387742432 1 0.0204653656246 -en 0.041327558519 1 1.92790495315 -en 0.0807233837638 1 1.60763155829 -en 0.0823887074074 1 1.17544445502 -en 0.0897952883008 1 0.48169133007 -en 0.100717333328 1 0.393437489202 -en 0.113304822772 1 0.301604204789 -en 0.113454552637 1 0.344336751613 -en 0.120993295857 1 0.84680367143 -en 0.145169816991 1 1.3202257277 -en 0.145478657964 1 0.994010534596 -en 0.147970923738 1 1.80657174337 -en 0.151981467799 1 0.0608316200596 -en 0.152156233246 1 0.762370901568 -en 0.171309221646 1 0.907501845653 -en 0.175198733844 1 4.8738974376 -en 0.177335175876 1 0.224244271015 -en 0.182853727576 1 0.677309957968 -en 0.18370798715 1 0.0509219143499 -en 0.185001352291 1 0.0574347096426 -en 0.185494668622 1 0.848115507801 -en 0.197965904674 1 5.55847738212 -en 0.202775799448 1 0.474190433048 -en 0.216226867721 1 0.344553120953 -en 0.217692491983 1 1.36327677269 -en 0.225953835995 1 1.83754266445 -en 0.234696468444 1 0.856206457836 -en 0.247015982339 1 1.45121370865 -en 0.260053678329 1 4.11878433978 -en 0.284736725342 1 0.187331198958 -en 0.295746597986 1 0.817367494732 -en 0.302725549658 1 0.849314745439 -en 0.304238567563 1 0.395861599853 -en 0.32083233866 1 1.55709768993 -en 0.328007277843 1 2.56897067526 -en 0.335900663016 1 0.227231221528 -en 0.339489247419 1 0.194278390392 -en 0.349877889332 1 1.33088000969 -en 0.371614695639 1 0.746415786592 -en 0.377272198685 1 0.967508815792 -en 0.379171293332 1 0.944091985596 -en 0.380379263238 1 0.22423099347 -en 0.380480413706 1 0.209614488073 -en 0.388430313055 1 0.524368345761 -en 0.427883822093 1 0.683348273278 -en 0.434731981752 1 1.52432976865\n"
     ]
    }
   ],
   "source": [
    "# piecewise constant demography, with 50 pieces\n",
    "\n",
    "import random\n",
    "\n",
    "n_pieces = 50\n",
    "t = 0.0\n",
    "events = []\n",
    "for i in range(n_pieces):\n",
    "    t = t + random.expovariate(100.)\n",
    "    N = random.expovariate(1.0)\n",
    "    events.append(('-en', t, 0, N))\n",
    "\n",
    "demo = Demography(events, [0], [10])\n",
    "print \"Demography in ms syntax.\"\n",
    "print to_ms_cmd(demo)"
   ]
  }
 ],
 "metadata": {
  "kernelspec": {
   "display_name": "Python 2",
   "language": "python",
   "name": "python2"
  },
  "language_info": {
   "codemirror_mode": {
    "name": "ipython",
    "version": 2
   },
   "file_extension": ".py",
   "mimetype": "text/x-python",
   "name": "python",
   "nbconvert_exporter": "python",
   "pygments_lexer": "ipython2",
   "version": "2.7.10"
  }
 },
 "nbformat": 4,
 "nbformat_minor": 0
}
