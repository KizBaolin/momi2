{
 "cells": [
  {
   "cell_type": "markdown",
   "metadata": {},
   "source": [
    "# Some example demographies\n",
    "\n",
    "We illustrate some advanced options of `momi.Demography()`."
   ]
  },
  {
   "cell_type": "code",
   "execution_count": 1,
   "metadata": {
    "collapsed": true
   },
   "outputs": [],
   "source": [
    "from momi import Demography, to_ms_cmd"
   ]
  },
  {
   "cell_type": "markdown",
   "metadata": {},
   "source": [
    "### Specifying demographies in different time scales\n",
    "\n",
    "Users can choose to input demographies in ms time scale, the more 'standard' coalescent time scale, or in per-generation units."
   ]
  },
  {
   "cell_type": "code",
   "execution_count": 2,
   "metadata": {
    "collapsed": false
   },
   "outputs": [
    {
     "name": "stdout",
     "output_type": "stream",
     "text": [
      "Demography in ms syntax:\n",
      "-I 2 5 3 -eg 0.0 1 1.0 -ej 0.5 1 2 -en 1.0 2 0.5\n"
     ]
    }
   ],
   "source": [
    "# a simple Demography, in ms units\n",
    "events = [('-eg', 0.0, 'a', 1.0), ('-ej', .5, 'a', 'b'), ('-en', 1., 'b', .5)]\n",
    "demo = Demography(events, sampled_pops=('a','b'), sampled_n=(5,3))\n",
    "\n",
    "print \"Demography in ms syntax:\"\n",
    "print to_ms_cmd(demo)"
   ]
  },
  {
   "cell_type": "code",
   "execution_count": 3,
   "metadata": {
    "collapsed": false
   },
   "outputs": [
    {
     "name": "stdout",
     "output_type": "stream",
     "text": [
      "Must convert demography to ms units before calling to_ms_cmd()\n",
      "\n",
      "Demography in ms syntax & units:\n",
      "-I 2 5 3 -eg 0.0 1 1.0 -ej 0.5 1 2 -en 1.0 2 0.5\n"
     ]
    }
   ],
   "source": [
    "# the same Demography, but specified in the 'standard' (not 'ms') time scale\n",
    "# this means that there are 2*N_ref generations per unit time (instead of 4*N_ref as in ms)\n",
    "\n",
    "# notice times are 2x longer in the 'standard' units.\n",
    "# as consequence, growth rate per unit time is 2x slower\n",
    "events = [('-eg', 0.0, 'a', 0.5), ('-ej', 1., 'a', 'b'), ('-en', 2., 'b', .5)]\n",
    "\n",
    "# use time_scale='standard' to specify standard coalescent units\n",
    "demo = Demography(events, sampled_pops=('a','b'), sampled_n=(5,3), time_scale='standard')\n",
    "\n",
    "try:\n",
    "    print to_ms_cmd(demo)\n",
    "except:\n",
    "    print \"Must convert demography to ms units before calling to_ms_cmd()\\n\"\n",
    "\n",
    "demo = demo.rescaled()\n",
    "print \"Demography in ms syntax & units:\"\n",
    "print to_ms_cmd(demo)"
   ]
  },
  {
   "cell_type": "code",
   "execution_count": 4,
   "metadata": {
    "collapsed": false
   },
   "outputs": [
    {
     "name": "stdout",
     "output_type": "stream",
     "text": [
      "Must convert demography to ms units before calling to_ms_cmd()\n",
      "\n",
      "Demography in ms syntax & units:\n",
      "-I 2 5 3 -eg 0.0 1 1.0 -ej 0.5 1 2 -en 1.0 2 0.5\n"
     ]
    }
   ],
   "source": [
    "# the same Demography, but specified in per-generation units\n",
    "# we'll assume a diploid population size of 10,000\n",
    "\n",
    "# join event 5e3 generations ago. population size drops to 5000 at 1e4 generations ago.\n",
    "# growth rate per generation is 1e-4 in population 'a'\n",
    "events = [('-eg',0.0,'a',1e-4),('-ej', 5e3, 'a', 'b'), ('-en', 1e4, 'b', 5000)]\n",
    "\n",
    "# use default_N to set the diploid population size\n",
    "demo = Demography(events, sampled_pops=('a','b'), sampled_n=(5,3), default_N=10000)\n",
    "\n",
    "try:\n",
    "    print to_ms_cmd(demo)\n",
    "except:\n",
    "    print \"Must convert demography to ms units before calling to_ms_cmd()\\n\"\n",
    "\n",
    "demo = demo.rescaled()\n",
    "print \"Demography in ms syntax & units:\"\n",
    "print to_ms_cmd(demo)"
   ]
  },
  {
   "cell_type": "markdown",
   "metadata": {},
   "source": [
    "### Ghost populations\n",
    "\n",
    "A 'ghost' population is one that is not present in the sample.\n",
    "\n",
    "`momi` syntax is more flexible than `ms` about ghost populations. In particular, ghost populations can be immediately affected by demographic events.\n",
    "\n",
    "By contrast, in `ms`, ghost populations cannot be modified by events until they have been \"created\" with the **-es** flag."
   ]
  },
  {
   "cell_type": "code",
   "execution_count": 5,
   "metadata": {
    "collapsed": false
   },
   "outputs": [
    {
     "name": "stdout",
     "output_type": "stream",
     "text": [
      "Demography in ms syntax.\n",
      "-I 1 10 -es 0.5 1 0.75 -en 0.5 2 0.606530659713 -eg 0.5 2 1.0 -ej 1.0 2 1\n"
     ]
    }
   ],
   "source": [
    "# a demography with one sampled population 'a', and a ghost population 'z'\n",
    "\n",
    "events = [('-eg', 0.0, 'z', 1.0), # can set growth rate of 'z' at t=0, even tho its a ghost population\n",
    "          ('-ep', .5, 'a', 'z', .25), # pulse migration from z to a\n",
    "          ('-ej', 1.0, 'z', 'a')]\n",
    "\n",
    "demo = Demography(events, ['a'], [10])\n",
    "print \"Demography in ms syntax.\"\n",
    "print to_ms_cmd(demo)\n",
    "# Note in ms syntax, the growth event (-eg) doesn't happen until the admixture event (-es)"
   ]
  },
  {
   "cell_type": "markdown",
   "metadata": {},
   "source": [
    "In `momi`, we can also have sampled populations merge **-ej** with ghost populations, even if there is no admixture event."
   ]
  },
  {
   "cell_type": "code",
   "execution_count": 6,
   "metadata": {
    "collapsed": false
   },
   "outputs": [
    {
     "name": "stdout",
     "output_type": "stream",
     "text": [
      "Demography in ms syntax.\n",
      "-I 1 10 -en 0.5 1 0.606530659713 -eg 0.5 1 1.0 -en 1.0 1 1.0\n"
     ]
    }
   ],
   "source": [
    "# a demography with one sampled population 'a', and a ghost population 'z'\n",
    "\n",
    "events = [('-eg', 0.0, 'z', 1.0),\n",
    "          ('-ej', .5, 'a', 'z'), # 'z' is empty, so this is equivalent to just changing size/growth of 'a'\n",
    "          ('-en', 1.0, 'z', 1.0)]\n",
    "\n",
    "demo = Demography(events, ['a'], [10])\n",
    "print \"Demography in ms syntax.\"\n",
    "print to_ms_cmd(demo)\n",
    "# Note in ms syntax, the -ej event doesn't appear; instead just the size and growth rate of 'a' change"
   ]
  },
  {
   "cell_type": "markdown",
   "metadata": {},
   "source": [
    "### Ancient DNA\n",
    "\n",
    "Use the `sampled_t` parameter to indicate that a population was sampled in the past."
   ]
  },
  {
   "cell_type": "code",
   "execution_count": 7,
   "metadata": {
    "collapsed": false
   },
   "outputs": [
    {
     "name": "stdout",
     "output_type": "stream",
     "text": [
      "Cannot convert demography with archaic populations to ms syntax\n"
     ]
    }
   ],
   "source": [
    "events = [('-ej', 1.0, 'a', 'b')]\n",
    "\n",
    "# the samples from 'b' are ancient DNA, from time t=0.5\n",
    "demo = Demography(events, ['a','b'], (6, 10), sampled_t=[0.0, .5])\n",
    "\n",
    "try:\n",
    "    print to_ms_cmd(demo)\n",
    "except:\n",
    "    print \"Cannot convert demography with archaic populations to ms syntax\""
   ]
  },
  {
   "cell_type": "markdown",
   "metadata": {},
   "source": [
    "### Demography with a lot of parameters\n",
    "\n",
    "An example on how to programatically construct a demography with a lot of parameters (too many to conveniently write down by hand)."
   ]
  },
  {
   "cell_type": "code",
   "execution_count": 8,
   "metadata": {
    "collapsed": false
   },
   "outputs": [
    {
     "name": "stdout",
     "output_type": "stream",
     "text": [
      "Demography in ms syntax.\n",
      "-I 1 10 -en 0.00481037470035 1 0.785723073805 -en 0.00895512492658 1 0.97582753493 -en 0.0232264495176 1 0.260369464169 -en 0.024345671839 1 0.53366195552 -en 0.031569398418 1 4.66442758898 -en 0.0334062551903 1 0.622435003017 -en 0.0528760492345 1 0.912090979766 -en 0.126734371245 1 0.976752457602 -en 0.131959218781 1 0.199479083269 -en 0.135271503079 1 0.301441043923 -en 0.137000986452 1 1.53486289382 -en 0.14483033857 1 0.883932112702 -en 0.15522884469 1 0.089656312611 -en 0.177734904858 1 1.09668591882 -en 0.182913893799 1 0.264890714317 -en 0.183972160996 1 1.28309080472 -en 0.190973574278 1 2.4790409442 -en 0.198075216938 1 0.664141573454 -en 0.210567726219 1 5.20928065928 -en 0.210791184085 1 2.23890298554 -en 0.228646848759 1 0.0436317214433 -en 0.241165248808 1 0.927817106854 -en 0.243489220105 1 1.86735921566 -en 0.245137819296 1 0.557195049058 -en 0.24560268439 1 2.40426782852 -en 0.246695827956 1 1.00321006852 -en 0.257282614045 1 0.565723481867 -en 0.262641100533 1 0.22774770548 -en 0.264752694166 1 0.266432129238 -en 0.265277269727 1 0.450383965116 -en 0.274880780923 1 1.18276135331 -en 0.283169000782 1 0.262415196085 -en 0.283277635439 1 2.0076340824 -en 0.312386526524 1 0.972502139058 -en 0.322524505098 1 1.49235382497 -en 0.323360607108 1 1.00417852473 -en 0.324941632365 1 0.990443258687 -en 0.326183067788 1 0.219888836912 -en 0.329175090267 1 1.06363644004 -en 0.33303682058 1 0.672122429834 -en 0.33836758623 1 0.480080796853 -en 0.338830810712 1 0.365140145861 -en 0.346270367138 1 0.335060006227 -en 0.362888371172 1 1.98714136816 -en 0.372903860963 1 0.124747588308 -en 0.37387538253 1 0.189948152954 -en 0.378254838462 1 1.65819467811 -en 0.395297213531 1 1.01035346501 -en 0.397275263488 1 1.92391875648 -en 0.413968604019 1 2.42944377479\n"
     ]
    }
   ],
   "source": [
    "# piecewise constant demography, with 50 pieces\n",
    "\n",
    "import random\n",
    "\n",
    "n_pieces = 50\n",
    "t = 0.0\n",
    "events = []\n",
    "for i in range(n_pieces):\n",
    "    t = t + random.expovariate(100.)\n",
    "    N = random.expovariate(1.0)\n",
    "    events.append(('-en', t, 0, N))\n",
    "\n",
    "demo = Demography(events, [0], [10])\n",
    "print \"Demography in ms syntax.\"\n",
    "print to_ms_cmd(demo)"
   ]
  }
 ],
 "metadata": {
  "kernelspec": {
   "display_name": "Python 2",
   "language": "python",
   "name": "python2"
  },
  "language_info": {
   "codemirror_mode": {
    "name": "ipython",
    "version": 2
   },
   "file_extension": ".py",
   "mimetype": "text/x-python",
   "name": "python",
   "nbconvert_exporter": "python",
   "pygments_lexer": "ipython2",
   "version": "2.7.10"
  }
 },
 "nbformat": 4,
 "nbformat_minor": 0
}
