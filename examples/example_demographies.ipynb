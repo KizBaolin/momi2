{
 "cells": [
  {
   "cell_type": "markdown",
   "metadata": {},
   "source": [
    "# Some example demographies\n",
    "\n",
    "We illustrate some advanced options of `momi.Demography()`."
   ]
  },
  {
   "cell_type": "code",
   "execution_count": 1,
   "metadata": {
    "collapsed": true
   },
   "outputs": [],
   "source": [
    "from momi import Demography, to_ms_cmd"
   ]
  },
  {
   "cell_type": "markdown",
   "metadata": {},
   "source": [
    "### Specifying demographies in different time scales\n",
    "\n",
    "Users can choose to input demographies in ms time scale, the more 'standard' coalescent time scale, or in per-generation units."
   ]
  },
  {
   "cell_type": "code",
   "execution_count": 2,
   "metadata": {
    "collapsed": false
   },
   "outputs": [
    {
     "name": "stdout",
     "output_type": "stream",
     "text": [
      "Demography in ms syntax:\n",
      "-I 2 5 3 -eg 0.0 1 1.0 -ej 0.5 1 2 -en 1.0 2 0.5\n"
     ]
    }
   ],
   "source": [
    "# a simple Demography, in ms units\n",
    "events = [('-eg', 0.0, 'a', 1.0), ('-ej', .5, 'a', 'b'), ('-en', 1., 'b', .5)]\n",
    "demo = Demography(events, sampled_pops=('a','b'), sampled_n=(5,3))\n",
    "\n",
    "print \"Demography in ms syntax:\"\n",
    "print to_ms_cmd(demo)"
   ]
  },
  {
   "cell_type": "code",
   "execution_count": 3,
   "metadata": {
    "collapsed": false
   },
   "outputs": [
    {
     "name": "stdout",
     "output_type": "stream",
     "text": [
      "Must convert demography to ms units before calling to_ms_cmd()\n",
      "\n",
      "Demography in ms syntax & units:\n",
      "-I 2 5 3 -eg 0.0 1 1.0 -ej 0.5 1 2 -en 1.0 2 0.5\n"
     ]
    }
   ],
   "source": [
    "# the same Demography, but specified in the 'standard' (not 'ms') time scale\n",
    "# this means that there are 2*N_ref generations per unit time (instead of 4*N_ref as in ms)\n",
    "\n",
    "# notice times are 2x longer in the 'standard' units.\n",
    "# as consequence, growth rate per unit time is 2x slower\n",
    "events = [('-eg', 0.0, 'a', 0.5), ('-ej', 1., 'a', 'b'), ('-en', 2., 'b', .5)]\n",
    "\n",
    "# use time_scale='standard' to specify standard coalescent units\n",
    "demo = Demography(events, sampled_pops=('a','b'), sampled_n=(5,3), time_scale='standard')\n",
    "\n",
    "try:\n",
    "    print to_ms_cmd(demo)\n",
    "except:\n",
    "    print \"Must convert demography to ms units before calling to_ms_cmd()\\n\"\n",
    "\n",
    "demo = demo.rescaled()\n",
    "print \"Demography in ms syntax & units:\"\n",
    "print to_ms_cmd(demo)"
   ]
  },
  {
   "cell_type": "code",
   "execution_count": 4,
   "metadata": {
    "collapsed": false
   },
   "outputs": [
    {
     "name": "stdout",
     "output_type": "stream",
     "text": [
      "Must convert demography to ms units before calling to_ms_cmd()\n",
      "\n",
      "Demography in ms syntax & units:\n",
      "-I 2 5 3 -eg 0.0 1 1.0 -ej 0.5 1 2 -en 1.0 2 0.5\n"
     ]
    }
   ],
   "source": [
    "# the same Demography, but specified in per-generation units\n",
    "# we'll assume a diploid population size of 10,000\n",
    "\n",
    "# join event 5e3 generations ago. population size drops to 5000 at 1e4 generations ago.\n",
    "# growth rate per generation is 1e-4 in population 'a'\n",
    "events = [('-eg',0.0,'a',1e-4),('-ej', 5e3, 'a', 'b'), ('-en', 1e4, 'b', 5000)]\n",
    "\n",
    "# use default_N to set the diploid population size\n",
    "demo = Demography(events, sampled_pops=('a','b'), sampled_n=(5,3), default_N=10000)\n",
    "\n",
    "try:\n",
    "    print to_ms_cmd(demo)\n",
    "except:\n",
    "    print \"Must convert demography to ms units before calling to_ms_cmd()\\n\"\n",
    "\n",
    "demo = demo.rescaled()\n",
    "print \"Demography in ms syntax & units:\"\n",
    "print to_ms_cmd(demo)"
   ]
  },
  {
   "cell_type": "markdown",
   "metadata": {},
   "source": [
    "### Ghost populations\n",
    "\n",
    "A 'ghost' population is one that is not present in the sample.\n",
    "\n",
    "`momi` syntax is more flexible than `ms` about ghost populations. In particular, ghost populations can be immediately affected by demographic events.\n",
    "\n",
    "By contrast, in `ms`, ghost populations cannot be modified by events until they have been \"created\" with the **-es** flag."
   ]
  },
  {
   "cell_type": "code",
   "execution_count": 5,
   "metadata": {
    "collapsed": false
   },
   "outputs": [
    {
     "name": "stdout",
     "output_type": "stream",
     "text": [
      "Demography in ms syntax.\n",
      "-I 1 10 -es 0.5 1 0.75 -en 0.5 2 0.606530659713 -eg 0.5 2 1.0 -ej 1.0 2 1\n"
     ]
    }
   ],
   "source": [
    "# a demography with one sampled population 'a', and a ghost population 'z'\n",
    "\n",
    "events = [('-eg', 0.0, 'z', 1.0), # can set growth rate of 'z' at t=0, even tho its a ghost population\n",
    "          ('-ep', .5, 'a', 'z', .25), # pulse migration from z to a\n",
    "          ('-ej', 1.0, 'z', 'a')]\n",
    "\n",
    "demo = Demography(events, ['a'], [10])\n",
    "print \"Demography in ms syntax.\"\n",
    "print to_ms_cmd(demo)\n",
    "# Note in ms syntax, the growth event (-eg) doesn't happen until the admixture event (-es)"
   ]
  },
  {
   "cell_type": "markdown",
   "metadata": {},
   "source": [
    "In `momi`, we can also have sampled populations merge **-ej** with ghost populations, even if there is no admixture event."
   ]
  },
  {
   "cell_type": "code",
   "execution_count": 6,
   "metadata": {
    "collapsed": false
   },
   "outputs": [
    {
     "name": "stdout",
     "output_type": "stream",
     "text": [
      "Demography in ms syntax.\n",
      "-I 1 10 -en 0.5 1 0.606530659713 -eg 0.5 1 1.0 -en 1.0 1 1.0\n"
     ]
    }
   ],
   "source": [
    "# a demography with one sampled population 'a', and a ghost population 'z'\n",
    "\n",
    "events = [('-eg', 0.0, 'z', 1.0),\n",
    "          ('-ej', .5, 'a', 'z'), # 'z' is empty, so this is equivalent to just changing size/growth of 'a'\n",
    "          ('-en', 1.0, 'z', 1.0)]\n",
    "\n",
    "demo = Demography(events, ['a'], [10])\n",
    "print \"Demography in ms syntax.\"\n",
    "print to_ms_cmd(demo)\n",
    "# Note in ms syntax, the -ej event doesn't appear; instead just the size and growth rate of 'a' change"
   ]
  },
  {
   "cell_type": "markdown",
   "metadata": {},
   "source": [
    "### Ancient DNA\n",
    "\n",
    "Use the `sampled_t` parameter to indicate that a population was sampled in the past."
   ]
  },
  {
   "cell_type": "code",
   "execution_count": 7,
   "metadata": {
    "collapsed": false
   },
   "outputs": [
    {
     "name": "stdout",
     "output_type": "stream",
     "text": [
      "Cannot convert demography with archaic populations to ms syntax\n"
     ]
    }
   ],
   "source": [
    "events = [('-ej', 1.0, 'a', 'b')]\n",
    "\n",
    "# the samples from 'b' are ancient DNA, from time t=0.5\n",
    "demo = Demography(events, ['a','b'], (6, 10), sampled_t=[0.0, .5])\n",
    "\n",
    "try:\n",
    "    print to_ms_cmd(demo)\n",
    "except:\n",
    "    print \"Cannot convert demography with archaic populations to ms syntax\""
   ]
  },
  {
   "cell_type": "markdown",
   "metadata": {},
   "source": [
    "### Demography with a lot of parameters\n",
    "\n",
    "An example on how to programatically construct a demography with a lot of parameters (too many to conveniently write down by hand)."
   ]
  },
  {
   "cell_type": "code",
   "execution_count": 8,
   "metadata": {
    "collapsed": false
   },
   "outputs": [
    {
     "name": "stdout",
     "output_type": "stream",
     "text": [
      "Demography in ms syntax.\n",
      "-I 1 10 -en 0.0100573360702 1 0.141320131786 -en 0.0159359577653 1 0.0251137590534 -en 0.0327145208248 1 0.360857487886 -en 0.0642293687973 1 1.17420083105 -en 0.0781661646787 1 0.41398915727 -en 0.0927002328906 1 0.87886890851 -en 0.0986258691827 1 0.330237868514 -en 0.103640034682 1 0.534295924228 -en 0.106339502193 1 1.32836425628 -en 0.113812833124 1 0.121199207397 -en 0.12469118435 1 2.19750403983 -en 0.150064472408 1 0.0338545533643 -en 0.155989386303 1 1.42141852797 -en 0.164424304595 1 0.344145127987 -en 0.184498443464 1 0.252237390026 -en 0.20809844581 1 0.872904225683 -en 0.209097908505 1 0.067894923362 -en 0.231274908464 1 1.35383022298 -en 0.247236674223 1 0.515419609019 -en 0.273481116917 1 1.01929770655 -en 0.282383718838 1 0.0973685759515 -en 0.297676876071 1 2.27719623377 -en 0.315010454308 1 1.93238292805 -en 0.335327981898 1 0.42597055257 -en 0.350219830423 1 1.32163664169 -en 0.352274313867 1 0.655555249836 -en 0.367397598465 1 4.1170370931 -en 0.367757518429 1 1.16605472524 -en 0.372116170862 1 2.58419730492 -en 0.372313269765 1 0.339485861701 -en 0.3794111001 1 0.845190661395 -en 0.385055634782 1 0.716054739034 -en 0.39920331269 1 0.412818035543 -en 0.400311165853 1 0.661199007099 -en 0.429141336314 1 0.219177001402 -en 0.433988808286 1 2.50473241084 -en 0.443751763632 1 0.0829528246849 -en 0.44736755065 1 1.15781333243 -en 0.477678595999 1 0.371780158704 -en 0.481129865918 1 1.90671274583 -en 0.490650978838 1 2.16872114908 -en 0.490708974496 1 1.42038505529 -en 0.496596349001 1 0.0316889439372 -en 0.507880693883 1 0.241965815051 -en 0.547768403643 1 0.214147332137 -en 0.569654535654 1 1.3460369624 -en 0.599297661155 1 0.0769977870773 -en 0.624707901492 1 0.0760486584144 -en 0.640438071382 1 0.73213653717 -en 0.64210448263 1 0.998149054246\n"
     ]
    }
   ],
   "source": [
    "# piecewise constant demography, with 50 pieces\n",
    "\n",
    "import random\n",
    "\n",
    "n_pieces = 50\n",
    "t = 0.0\n",
    "events = []\n",
    "for i in range(n_pieces):\n",
    "    t = t + random.expovariate(100.)\n",
    "    N = random.expovariate(1.0)\n",
    "    events.append(('-en', t, 0, N))\n",
    "\n",
    "demo = Demography(events, [0], [10])\n",
    "print \"Demography in ms syntax.\"\n",
    "print to_ms_cmd(demo)"
   ]
  }
 ],
 "metadata": {
  "kernelspec": {
   "display_name": "Python 2",
   "language": "python",
   "name": "python2"
  },
  "language_info": {
   "codemirror_mode": {
    "name": "ipython",
    "version": 2
   },
   "file_extension": ".py",
   "mimetype": "text/x-python",
   "name": "python",
   "nbconvert_exporter": "python",
   "pygments_lexer": "ipython2",
   "version": "2.7.9"
  }
 },
 "nbformat": 4,
 "nbformat_minor": 0
}
