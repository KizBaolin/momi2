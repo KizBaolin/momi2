{
 "cells": [
  {
   "cell_type": "markdown",
   "metadata": {
    "ein.tags": "worksheet-0",
    "slideshow": {
     "slide_type": "-"
    }
   },
   "source": [
    "# Tutorial"
   ]
  },
  {
   "cell_type": "markdown",
   "metadata": {
    "ein.tags": "worksheet-0",
    "slideshow": {
     "slide_type": "-"
    }
   },
   "source": [
    "This is a tutorial for the `momi` package. You can run the ipython\n",
    "notebook that created this tutorial at `examples/tutorial.ipynb`.\n",
    "\n",
    "To get started, import the `momi` package: "
   ]
  },
  {
   "cell_type": "code",
   "execution_count": 1,
   "metadata": {
    "autoscroll": false,
    "collapsed": false,
    "ein.tags": "worksheet-0",
    "slideshow": {
     "slide_type": "-"
    }
   },
   "outputs": [],
   "source": [
    "import momi"
   ]
  },
  {
   "cell_type": "markdown",
   "metadata": {
    "ein.tags": "worksheet-0",
    "slideshow": {
     "slide_type": "-"
    }
   },
   "source": [
    "Some `momi` operations can take awhile complete, so it is useful to turn\n",
    "on status monitoring messages to check that everything is running\n",
    "normally. Here, we output logging messages to the file `tutorial.log`.\n",
    "See the [logging](https://docs.python.org/3/library/logging.html)\n",
    "module for more details. "
   ]
  },
  {
   "cell_type": "code",
   "execution_count": 2,
   "metadata": {
    "autoscroll": false,
    "collapsed": false,
    "ein.tags": "worksheet-0",
    "slideshow": {
     "slide_type": "-"
    }
   },
   "outputs": [],
   "source": [
    "import logging\n",
    "logging.basicConfig(level=logging.INFO, \n",
    "                    filename=\"tutorial.log\")"
   ]
  },
  {
   "cell_type": "markdown",
   "metadata": {
    "ein.tags": "worksheet-0",
    "slideshow": {
     "slide_type": "-"
    }
   },
   "source": [
    "## Constructing a demographic history "
   ]
  },
  {
   "cell_type": "markdown",
   "metadata": {
    "ein.tags": "worksheet-0",
    "slideshow": {
     "slide_type": "-"
    }
   },
   "source": [
    "We will construct a demographic model loosely based on human history. To\n",
    "start, we need to specify `N_e`, which is the *diploid* size of each population\n",
    "unless specified otherwise, and `gen_time`, the amount of\n",
    "time per generation.\n",
    "\n",
    "We will measure time in years; the human generation time is\n",
    "approximately `gen_time=29` years per generation. The human effective\n",
    "population size is typically measured as $1.2 \\times 10^{4}$ so we set\n",
    "`N_e=1.2e4`."
   ]
  },
  {
   "cell_type": "code",
   "execution_count": 3,
   "metadata": {
    "autoscroll": false,
    "collapsed": false,
    "ein.tags": "worksheet-0",
    "slideshow": {
     "slide_type": "-"
    }
   },
   "outputs": [],
   "source": [
    "model = momi.DemographicModel(N_e=1.2e4, gen_time=29,\n",
    "                              muts_per_gen=1.25e-8)"
   ]
  },
  {
   "cell_type": "markdown",
   "metadata": {
    "ein.tags": "worksheet-0",
    "slideshow": {
     "slide_type": "-"
    }
   },
   "source": [
    "We now specify the sampled (\"leaf\") populations of our demography. We\n",
    "specify three populations: YRI, CHB, and NEA. YRI and CHB are\n",
    "present-day populations at $t=0$, while NEA is an archaic population\n",
    "from $t=50,000$ years ago. We set YRI and NEA to have the default\n",
    "population sizes, and set CHB to have a size of $N=100,000$ growing at\n",
    "rate $.0005$ per year."
   ]
  },
  {
   "cell_type": "code",
   "execution_count": 4,
   "metadata": {
    "autoscroll": false,
    "collapsed": false,
    "ein.tags": "worksheet-0",
    "slideshow": {
     "slide_type": "-"
    }
   },
   "outputs": [],
   "source": [
    "# add YRI leaf at t=0 and default_N\n",
    "model.add_leaf(\"YRI\")\n",
    "# add  CHB leaf at t=0, N=1e5, growing at rate 5e-4 per unit time (year)\n",
    "model.add_leaf(\"CHB\", N=1e5, g=5e-4)\n",
    "# add NEA leaf at 50kya\n",
    "model.add_leaf(\"NEA\", t=5e4)"
   ]
  },
  {
   "cell_type": "markdown",
   "metadata": {
    "ein.tags": "worksheet-0",
    "slideshow": {
     "slide_type": "-"
    }
   },
   "source": [
    "Demographic events are added to the model by the methods `set_size()`\n",
    "and `move_lineages()`. `set_size()` is used to change population size\n",
    "and growth rate, while `move_lineages()` is used for population split\n",
    "and admixture events."
   ]
  },
  {
   "cell_type": "code",
   "execution_count": 5,
   "metadata": {
    "autoscroll": false,
    "collapsed": false,
    "ein.tags": "worksheet-0",
    "slideshow": {
     "slide_type": "-"
    }
   },
   "outputs": [],
   "source": [
    "# stop CHB growth at 10kya\n",
    "model.set_size(\"CHB\", g=0, t=1e4)\n",
    "\n",
    "# at 45kya CHB receive a 3% pulse from GhostNea\n",
    "model.move_lineages(\"CHB\", \"GhostNea\", t=4.5e4, p=.03)\n",
    "# at 55kya GhostNea joins onto NEA\n",
    "model.move_lineages(\"GhostNea\", \"NEA\", t=5.5e4)\n",
    "\n",
    "# at 80 kya CHB goes thru bottleneck\n",
    "model.set_size(\"CHB\", N=100, t=8e4)\n",
    "# at 85 kya CHB joins onto YRI\n",
    "model.move_lineages(\"CHB\", \"YRI\", t=8.5e4)\n",
    "\n",
    "# at 500 kya YRI joins onto NEA\n",
    "model.move_lineages(\"YRI\", \"NEA\", t=5e5)"
   ]
  },
  {
   "cell_type": "markdown",
   "metadata": {
    "ein.tags": "worksheet-0",
    "slideshow": {
     "slide_type": "-"
    }
   },
   "source": [
    "If you are familiar with the software\n",
    "[ms](http://home.uchicago.edu/rhudson1/source/mksamples.html),\n",
    "`set_size()` is analogous to the flags \"-en\" and \"-eg\", while\n",
    "`move_lineages()` is analogous to the flags \"-ej\" and \"-es\". If you are\n",
    "familiar with the package\n",
    "[msprime](https://msprime.readthedocs.io/en/stable/), then\n",
    "`set_size()` is analogous to `msprime.PopulationParametersChange`, while\n",
    "`move_lineages()` is analogous to `msprime.MassMigration`.\n",
    "\n",
    "Note that events can involve other populations aside from the 3 sampled\n",
    "populations YRI, CHB, and NEA. Unsampled populations are also known as\n",
    "\"ghost populations\". In this example, CHB receives a small amount of\n",
    "admixture from a population \"GhostNea\", which splits off from NEA at an\n",
    "earlier date. "
   ]
  },
  {
   "cell_type": "markdown",
   "metadata": {
    "ein.tags": "worksheet-0",
    "slideshow": {
     "slide_type": "-"
    }
   },
   "source": [
    "## Plotting a demography "
   ]
  },
  {
   "cell_type": "markdown",
   "metadata": {
    "ein.tags": "worksheet-0",
    "slideshow": {
     "slide_type": "-"
    }
   },
   "source": [
    "`momi` relies on `matplotlib` for plotting.\n",
    "In a notebook, first call `%matplotlib inline`\n",
    "to enable matplotlib, then you can\n",
    "use `momi.DemographyPlot` to create a plot of the demographic model."
   ]
  },
  {
   "cell_type": "code",
   "execution_count": 6,
   "metadata": {
    "autoscroll": false,
    "collapsed": false,
    "ein.tags": "worksheet-0",
    "slideshow": {
     "slide_type": "-"
    }
   },
   "outputs": [
    {
     "data": {
      "image/png": "[encoded data removed]",
      "text/plain": [
       "<matplotlib.figure.Figure at 0x7fb9f2e95be0>"
      ]
     },
     "metadata": {},
     "output_type": "display_data"
    }
   ],
   "source": [
    "%matplotlib inline\n",
    "\n",
    "yticks = [1e4, 2.5e4, 5e4, 7.5e4, 1e5, 2.5e5, 5e5, 7.5e5]\n",
    "\n",
    "fig = momi.DemographyPlot(\n",
    "    model, [\"YRI\", \"CHB\", \"GhostNea\", \"NEA\"],\n",
    "    figsize=(6,8),\n",
    "    major_yticks=yticks,\n",
    "    linthreshy=1e5, pulse_color_bounds=(0,.25))"
   ]
  },
  {
   "cell_type": "markdown",
   "metadata": {
    "ein.tags": "worksheet-0",
    "slideshow": {
     "slide_type": "-"
    }
   },
   "source": [
    "Note the user needs to specify the order of all populations (including\n",
    "ghost populations) along the x-axis.\n",
    "\n",
    "The argument `linthreshy` is useful for visualizing demographic events\n",
    "at different scales. In our example, the split time of NEA is far above\n",
    "the other events. Times below `linthreshy` are plotted on a linear\n",
    "scale, while times above it are plotted on a log scale.\n",
    "\n"
   ]
  },
  {
   "cell_type": "markdown",
   "metadata": {
    "ein.tags": "worksheet-0",
    "slideshow": {
     "slide_type": "-"
    }
   },
   "source": [
    "## Reading and simulating data "
   ]
  },
  {
   "cell_type": "markdown",
   "metadata": {
    "ein.tags": "worksheet-0",
    "slideshow": {
     "slide_type": "-"
    }
   },
   "source": [
    "In this section we demonstrate how to read in data from a VCF file.\n",
    "\n",
    "Before we can read in a dataset we first need to create one. So we start\n",
    "by demonstrating how to simulate a VCF from our demography, then we read\n",
    "it in. "
   ]
  },
  {
   "cell_type": "markdown",
   "metadata": {
    "ein.tags": "worksheet-0",
    "slideshow": {
     "slide_type": "-"
    }
   },
   "source": [
    "### Simulating data "
   ]
  },
  {
   "cell_type": "markdown",
   "metadata": {
    "ein.tags": "worksheet-0",
    "slideshow": {
     "slide_type": "-"
    }
   },
   "source": [
    "We simulate a dataset of diploid individuals,\n",
    "with 20 \"chromosomes\" of length 50Kb, with a recombination\n",
    "rate of 1.25e-8. `momi` uses `msprime` under the hood to do this.\n",
    "\n",
    "The datasets are saved in `data/$chrom.vcf.gz`. Accompanying tabix and bed files are also created."
   ]
  },
  {
   "cell_type": "code",
   "execution_count": 7,
   "metadata": {
    "autoscroll": false,
    "collapsed": false,
    "ein.tags": "worksheet-0",
    "slideshow": {
     "slide_type": "-"
    }
   },
   "outputs": [],
   "source": [
    "recoms_per_gen = 1.25e-8\n",
    "bases_per_locus = int(5e5)\n",
    "n_loci = 20\n",
    "ploidy = 2\n",
    "\n",
    "# n_alleles per population (n_individuals = n_alleles / ploidy)\n",
    "sampled_n_dict = {\"NEA\":2, \"YRI\":4, \"CHB\":4}\n",
    "\n",
    "# create data directory if it doesn't exist\n",
    "import os\n",
    "os.makedirs(\"data\", exist_ok=True)\n",
    "\n",
    "# simulate 20 \"chromosomes\", saving each in a separate vcf file\n",
    "for chrom in range(1, n_loci+1):\n",
    "      model.simulate_vcf(\n",
    "            f\"data/{chrom}\",\n",
    "            recoms_per_gen=recoms_per_gen,\n",
    "            length=bases_per_locus,\n",
    "            chrom_name=f\"chr{chrom}\",\n",
    "            ploidy=ploidy,\n",
    "            random_seed=1234+chrom,\n",
    "            sampled_n_dict=sampled_n_dict,\n",
    "            force=True)"
   ]
  },
  {
   "cell_type": "markdown",
   "metadata": {
    "ein.tags": "worksheet-0",
    "slideshow": {
     "slide_type": "-"
    }
   },
   "source": [
    "The datasets are saved in data/$chrom.vcf.gz. Accompanying tabix and bed files are also created."
   ]
  },
  {
   "cell_type": "code",
   "execution_count": 8,
   "metadata": {
    "autoscroll": false,
    "collapsed": false,
    "ein.tags": "worksheet-0",
    "slideshow": {
     "slide_type": "-"
    }
   },
   "outputs": [
    {
     "name": "stdout",
     "output_type": "stream",
     "text": [
      "10.bed\t\t       16.vcf.gz.tbi\t      3.vcf.gz\r\n",
      "10.snpAlleleCounts.gz  17.bed\t\t      3.vcf.gz.tbi\r\n",
      "10.vcf.gz\t       17.snpAlleleCounts.gz  4.bed\r\n",
      "10.vcf.gz.tbi\t       17.vcf.gz\t      4.snpAlleleCounts.gz\r\n",
      "11.bed\t\t       17.vcf.gz.tbi\t      4.vcf.gz\r\n",
      "11.snpAlleleCounts.gz  18.bed\t\t      4.vcf.gz.tbi\r\n",
      "11.vcf.gz\t       18.snpAlleleCounts.gz  5.bed\r\n",
      "11.vcf.gz.tbi\t       18.vcf.gz\t      5.snpAlleleCounts.gz\r\n",
      "12.bed\t\t       18.vcf.gz.tbi\t      5.vcf.gz\r\n",
      "12.snpAlleleCounts.gz  19.bed\t\t      5.vcf.gz.tbi\r\n",
      "12.vcf.gz\t       19.snpAlleleCounts.gz  6.bed\r\n",
      "12.vcf.gz.tbi\t       19.vcf.gz\t      6.snpAlleleCounts.gz\r\n",
      "13.bed\t\t       19.vcf.gz.tbi\t      6.vcf.gz\r\n",
      "13.snpAlleleCounts.gz  1.bed\t\t      6.vcf.gz.tbi\r\n",
      "13.vcf.gz\t       1.snpAlleleCounts.gz   7.bed\r\n",
      "13.vcf.gz.tbi\t       1.vcf.gz\t\t      7.snpAlleleCounts.gz\r\n",
      "14.bed\t\t       1.vcf.gz.tbi\t      7.vcf.gz\r\n",
      "14.snpAlleleCounts.gz  20.bed\t\t      7.vcf.gz.tbi\r\n",
      "14.vcf.gz\t       20.snpAlleleCounts.gz  8.bed\r\n",
      "14.vcf.gz.tbi\t       20.vcf.gz\t      8.snpAlleleCounts.gz\r\n",
      "15.bed\t\t       20.vcf.gz.tbi\t      8.vcf.gz\r\n",
      "15.snpAlleleCounts.gz  2.bed\t\t      8.vcf.gz.tbi\r\n",
      "15.vcf.gz\t       2.snpAlleleCounts.gz   9.bed\r\n",
      "15.vcf.gz.tbi\t       2.vcf.gz\t\t      9.snpAlleleCounts.gz\r\n",
      "16.bed\t\t       2.vcf.gz.tbi\t      9.vcf.gz\r\n",
      "16.snpAlleleCounts.gz  3.bed\t\t      9.vcf.gz.tbi\r\n",
      "16.vcf.gz\t       3.snpAlleleCounts.gz   ind2pop.txt\r\n"
     ]
    }
   ],
   "source": [
    "!ls data/"
   ]
  },
  {
   "cell_type": "markdown",
   "metadata": {
    "ein.tags": "worksheet-0",
    "slideshow": {
     "slide_type": "-"
    }
   },
   "source": [
    "### Read in data from vcf "
   ]
  },
  {
   "cell_type": "markdown",
   "metadata": {
    "ein.tags": "worksheet-0",
    "slideshow": {
     "slide_type": "-"
    }
   },
   "source": [
    "First we need to create a mapping from individuals to populations.\n",
    "We save this mapping to a text file whose first column\n",
    "is for individuals and second column is for populations."
   ]
  },
  {
   "cell_type": "code",
   "execution_count": 9,
   "metadata": {
    "autoscroll": false,
    "collapsed": false,
    "ein.tags": "worksheet-0",
    "slideshow": {
     "slide_type": "-"
    }
   },
   "outputs": [],
   "source": [
    "# a dict mapping samples to populations\n",
    "ind2pop = {}\n",
    "for pop, n in sampled_n_dict.items():\n",
    "    for i in range(int(n / ploidy)):\n",
    "        # in the vcf, samples are named like YRI_0, YRI_1, CHB_0, etc\n",
    "        ind2pop[\"{}_{}\".format(pop, i)] = pop\n",
    "\n",
    "with open(\"data/ind2pop.txt\", \"w\") as f:\n",
    "    for i, p in ind2pop.items():\n",
    "        print(i, p, sep=\"\\t\", file=f)"
   ]
  },
  {
   "cell_type": "markdown",
   "metadata": {
    "ein.tags": "worksheet-0",
    "slideshow": {
     "slide_type": "-"
    }
   },
   "source": [
    "From the command line, use `python -m momi.vcf_allele_counts` to\n",
    "compute allele counts for each VCF.\n",
    "\n",
    "The `--bed` flag is used to read in a BED file specifying which\n",
    "regions of the VCF to read. It is also used to determine\n",
    "the size of the data in bases. It is very important not\n",
    "to use the same BED file for chromosomes stored in separate\n",
    "VCF files, otherwise regions will be double-counted when\n",
    "computing the length of the data!\n",
    "\n",
    "By default ancestral alleles are read from the INFO AA field\n",
    "(SNPs missing this field are skipped) but this behavior can be\n",
    "changed by setting the flags `--no_aa` or `--outgroup`.\n",
    "\n",
    "Use the `--help` flag to see more command line options,\n",
    "and the Python API for `momi.SnpAlleleCounts.read_vcf`\n",
    "for more details.\n",
    "\n",
    "Below we read in each VCF file, compute the allele counts,\n",
    "and store the result in `data/$chrom.snpAlleleCounts.gz`"
   ]
  },
  {
   "cell_type": "code",
   "execution_count": 10,
   "metadata": {
    "autoscroll": false,
    "collapsed": false,
    "ein.tags": "worksheet-0",
    "slideshow": {
     "slide_type": "-"
    }
   },
   "outputs": [],
   "source": [
    "%%sh\n",
    "for chrom in `seq 1 20`;\n",
    "do\n",
    "    python -m momi.vcf_allele_counts \\\n",
    "           data/$chrom.vcf.gz data/ind2pop.txt \\\n",
    "           data/$chrom.snpAlleleCounts.gz \\\n",
    "           --bed data/$chrom.bed\n",
    "done"
   ]
  },
  {
   "cell_type": "markdown",
   "metadata": {
    "ein.tags": "worksheet-0",
    "slideshow": {
     "slide_type": "-"
    }
   },
   "source": [
    "Use `python -m momi.extract_sfs` to combine the allele counts across\n",
    "multiple files and extract the SFS. It also splits the SFS\n",
    "into a number of equally sized blocks (100 in the example below),\n",
    "for jackknifing and bootstrapping later.\n",
    "\n",
    "Below we save the resulting SFS into `data/sfs.gz`."
   ]
  },
  {
   "cell_type": "code",
   "execution_count": 10,
   "metadata": {
    "autoscroll": false,
    "collapsed": false,
    "ein.tags": "worksheet-0",
    "slideshow": {
     "slide_type": "-"
    }
   },
   "outputs": [],
   "source": [
    "%%sh\n",
    "python -m momi.extract_sfs data/sfs.gz 100 data/*.snpAlleleCounts.gz"
   ]
  },
  {
   "cell_type": "markdown",
   "metadata": {
    "ein.tags": "worksheet-0",
    "slideshow": {
     "slide_type": "-"
    }
   },
   "source": [
    "From within Python, read in the resulting SFS with\n",
    "`momi.site_freq_spectrum.load`.\n",
    "\n"
   ]
  },
  {
   "cell_type": "code",
   "execution_count": 12,
   "metadata": {
    "autoscroll": false,
    "collapsed": false,
    "ein.tags": "worksheet-0",
    "slideshow": {
     "slide_type": "-"
    }
   },
   "outputs": [],
   "source": [
    "sfs = momi.site_freq_spectrum.load(\"data/sfs.gz\")"
   ]
  },
  {
   "cell_type": "markdown",
   "metadata": {
    "ein.tags": "worksheet-0",
    "slideshow": {
     "slide_type": "-"
    }
   },
   "source": [
    "## Inference "
   ]
  },
  {
   "cell_type": "markdown",
   "metadata": {
    "ein.tags": "worksheet-0",
    "slideshow": {
     "slide_type": "-"
    }
   },
   "source": [
    "In this section we will infer a demography for the data we simulated.\n",
    "We will start by fitting a sub-demography on CHB and YRI, and then\n",
    "iteratively build on this model, by adding the NEA population and also\n",
    "additional parameters and events. "
   ]
  },
  {
   "cell_type": "markdown",
   "metadata": {
    "ein.tags": "worksheet-0",
    "slideshow": {
     "slide_type": "-"
    }
   },
   "source": [
    "### An initial model for YRI and CHB "
   ]
  },
  {
   "cell_type": "markdown",
   "metadata": {
    "ein.tags": "worksheet-0",
    "slideshow": {
     "slide_type": "-"
    }
   },
   "source": [
    "We start by creating a `DemographicModel` object as before: "
   ]
  },
  {
   "cell_type": "code",
   "execution_count": 13,
   "metadata": {
    "autoscroll": false,
    "collapsed": false,
    "ein.tags": "worksheet-0",
    "scrolled": true,
    "slideshow": {
     "slide_type": "-"
    }
   },
   "outputs": [],
   "source": [
    "model2 = momi.DemographicModel(N_e=1.2e4, gen_time=29,\n",
    "                               muts_per_gen=1.25e-8)"
   ]
  },
  {
   "cell_type": "markdown",
   "metadata": {
    "ein.tags": "worksheet-0",
    "slideshow": {
     "slide_type": "-"
    }
   },
   "source": [
    "Above we define parameters for the CHB size, the CHB growth rate,\n",
    "and the CHB-YRI split time.\n",
    "The size and split time were initialized with random values, while\n",
    "we initialized the growth rate as 0.\n",
    "We also provide some optional lower and upper bounds to these parameters.\n",
    "\n",
    "Demographic events can be added similarly as before. \n",
    "Parameters are specified by name (string), \n",
    "while constants are specified as numbers (float).\n",
    "\n",
    "Note the `muts_per_gen` keyword is optional, but helpful:\n",
    "if the mutation rate is provided then `momi` can use it to fit the\n",
    "total number of SNPs in the dataset.\n",
    "Otherwise =momi= will not be able to use\n",
    "this information, potentially losing some power.\n",
    "\n",
    "We provide the model with a dataset by calling `set_data()`: "
   ]
  },
  {
   "cell_type": "code",
   "execution_count": 14,
   "metadata": {
    "autoscroll": false,
    "collapsed": false,
    "ein.tags": "worksheet-0",
    "slideshow": {
     "slide_type": "-"
    }
   },
   "outputs": [],
   "source": [
    "model2.set_data(sfs) "
   ]
  },
  {
   "cell_type": "markdown",
   "metadata": {
    "ein.tags": "worksheet-0",
    "slideshow": {
     "slide_type": "-"
    }
   },
   "source": [
    "Parameters can be added to the model via the methods\n",
    "`add_size_param()`, `add_growth_param()`, `add_time_param()`,\n",
    "and `add_pulse_param()`. "
   ]
  },
  {
   "cell_type": "code",
   "execution_count": 15,
   "metadata": {
    "autoscroll": false,
    "collapsed": false,
    "ein.tags": "worksheet-0",
    "slideshow": {
     "slide_type": "-"
    }
   },
   "outputs": [],
   "source": [
    "model2.add_size_param(\"n_chb\")\n",
    "model2.add_growth_param(\"g_chb\", 0, lower=-1e-3, upper=1e-3)\n",
    "model2.add_time_param(\"t_chb_yri\", lower=1e4) "
   ]
  },
  {
   "cell_type": "markdown",
   "metadata": {
    "ein.tags": "worksheet-0",
    "slideshow": {
     "slide_type": "-"
    }
   },
   "source": [
    "Above we define parameters for the CHB size, the CHB growth rate,\n",
    "and the CHB-YRI split time.\n",
    "The size and split time were initialized with random values, while\n",
    "we initialized the growth rate as 0.\n",
    "We also provide some optional lower and upper bounds to these parameters.\n",
    "\n",
    "Demographic events can be added similarly as before. \n",
    "Parameters are specified by name (string), \n",
    "while constants are specified as numbers (float). "
   ]
  },
  {
   "cell_type": "code",
   "execution_count": 16,
   "metadata": {
    "autoscroll": false,
    "collapsed": false,
    "ein.tags": "worksheet-0",
    "slideshow": {
     "slide_type": "-"
    }
   },
   "outputs": [],
   "source": [
    "model2.add_leaf(\"CHB\", N=\"n_chb\", g=\"g_chb\")\n",
    "model2.add_leaf(\"YRI\")\n",
    "model2.set_size(\"CHB\", t=1e4, g=0)\n",
    "model2.move_lineages(\"CHB\", \"YRI\", t=\"t_chb_yri\")"
   ]
  },
  {
   "cell_type": "markdown",
   "metadata": {
    "ein.tags": "worksheet-0",
    "slideshow": {
     "slide_type": "-"
    }
   },
   "source": [
    "Use the method `optimize()` to search for the MLE.\n",
    "It accepts parameters similar to `scipy.optimize.minimize`\n",
    "(it is just a thin wrapper around that function). "
   ]
  },
  {
   "cell_type": "code",
   "execution_count": 17,
   "metadata": {
    "autoscroll": false,
    "collapsed": false,
    "ein.tags": "worksheet-0",
    "slideshow": {
     "slide_type": "-"
    }
   },
   "outputs": [
    {
     "data": {
      "text/plain": [
       "            fun: 0.0015961801691579138\n            jac: array([-2.97612359e-06, -2.01010716e-03,  3.22783134e-09])\n  kl_divergence: 0.0015961801691579138\n log_likelihood: -33247.69335927257\n        message: 'Converged (|f_n-f_(n-1)| ~= 0)'\n           nfev: 49\n            nit: 18\n     parameters: ParamsDict({'n_chb': 243885.98247504572, 'g_chb': 0.0005622959107366553, 't_chb_yri': 118962.33561506635})\n         status: 1\n        success: True\n              x: array([1.24044561e+01, 5.62295911e-04, 1.08962336e+05])"
      ]
     },
     "execution_count": 17,
     "metadata": {},
     "output_type": "execute_result"
    }
   ],
   "source": [
    "model2.optimize(method=\"TNC\") "
   ]
  },
  {
   "cell_type": "markdown",
   "metadata": {
    "ein.tags": "worksheet-0",
    "slideshow": {
     "slide_type": "-"
    }
   },
   "source": [
    "The default optimization method is `method=\"TNC\"` (truncated Newton conjugate).\n",
    "This is very accurate but can be slow for large models; for large models,\n",
    "`method=\"L-BFGS-B\"` is a good choice.\n",
    "\n",
    "We can print the inferred parameter values with `get_params()`: "
   ]
  },
  {
   "cell_type": "code",
   "execution_count": 18,
   "metadata": {
    "autoscroll": false,
    "collapsed": false,
    "ein.tags": "worksheet-0",
    "slideshow": {
     "slide_type": "-"
    }
   },
   "outputs": [
    {
     "data": {
      "text/plain": [
       "ParamsDict([('n_chb', 243885.98247504572),\n            ('g_chb', 0.0005622959107366553),\n            ('t_chb_yri', 118962.33561506635)])"
      ]
     },
     "execution_count": 18,
     "metadata": {},
     "output_type": "execute_result"
    }
   ],
   "source": [
    "model2.get_params()"
   ]
  },
  {
   "cell_type": "markdown",
   "metadata": {
    "ein.tags": "worksheet-0",
    "slideshow": {
     "slide_type": "-"
    }
   },
   "source": [
    "and we can plot the inferred demography as before:"
   ]
  },
  {
   "cell_type": "code",
   "execution_count": 20,
   "metadata": {
    "autoscroll": false,
    "collapsed": false,
    "ein.tags": "worksheet-0",
    "slideshow": {
     "slide_type": "-"
    }
   },
   "outputs": [
    {
     "data": {
      "image/png": "[encoded data removed]",
      "text/plain": [
       "<matplotlib.figure.Figure at 0x7fb9af045ac8>"
      ]
     },
     "metadata": {},
     "output_type": "display_data"
    }
   ],
   "source": [
    "# plot the model\n",
    "fig = momi.DemographyPlot(model2, [\"YRI\", \"CHB\"],\n",
    "                          figsize=(6,8), linthreshy=1e5,\n",
    "                          major_yticks=yticks,\n",
    "                          pulse_color_bounds=(0,.25))"
   ]
  },
  {
   "cell_type": "markdown",
   "metadata": {
    "ein.tags": "worksheet-0",
    "slideshow": {
     "slide_type": "-"
    }
   },
   "source": [
    "### Adding NEA to the existing model "
   ]
  },
  {
   "cell_type": "markdown",
   "metadata": {
    "ein.tags": "worksheet-0",
    "slideshow": {
     "slide_type": "-"
    }
   },
   "source": [
    "Now we add in the NEA population, along with a parameter for its split time\n",
    "`t_anc`. We use the keyword `lower_constraints` to require that `t_anc > t_chb_yri`. "
   ]
  },
  {
   "cell_type": "code",
   "execution_count": 21,
   "metadata": {
    "autoscroll": false,
    "collapsed": false,
    "ein.tags": "worksheet-0",
    "slideshow": {
     "slide_type": "-"
    }
   },
   "outputs": [],
   "source": [
    "model2.add_leaf(\"NEA\", t=5e4)\n",
    "model2.add_time_param(\"t_anc\", lower=5e4, lower_constraints=[\"t_chb_yri\"])\n",
    "model2.move_lineages(\"YRI\", \"NEA\", t=\"t_anc\")"
   ]
  },
  {
   "cell_type": "markdown",
   "metadata": {
    "ein.tags": "worksheet-0",
    "slideshow": {
     "slide_type": "-"
    }
   },
   "source": [
    "We search for the new MLE and plot the inferred demography: "
   ]
  },
  {
   "cell_type": "code",
   "execution_count": 22,
   "metadata": {
    "autoscroll": false,
    "collapsed": false,
    "ein.tags": "worksheet-0",
    "slideshow": {
     "slide_type": "-"
    }
   },
   "outputs": [
    {
     "data": {
      "image/png": "[encoded data removed]",
      "text/plain": [
       "<matplotlib.figure.Figure at 0x7fb9af022550>"
      ]
     },
     "metadata": {},
     "output_type": "display_data"
    }
   ],
   "source": [
    "model2.optimize()\n",
    "\n",
    "fig = momi.DemographyPlot(\n",
    "    model2, [\"YRI\", \"CHB\", \"NEA\"],\n",
    "    figsize=(6,8), linthreshy=1e5,\n",
    "    major_yticks=yticks) "
   ]
  },
  {
   "cell_type": "markdown",
   "metadata": {
    "ein.tags": "worksheet-0",
    "slideshow": {
     "slide_type": "-"
    }
   },
   "source": [
    "### Evaluating model fit (ABBA-BABA, sequence divergence) "
   ]
  },
  {
   "cell_type": "markdown",
   "metadata": {
    "ein.tags": "worksheet-0",
    "slideshow": {
     "slide_type": "-"
    }
   },
   "source": [
    "The `SfsModelFitStats` class can be used to compute various \n",
    "statistics of the SFS and see how well they fit the model.\n",
    "\n",
    "One such statistic is the `f4()` or \"ABBA-BABA\" statistic for\n",
    "detecting introgression. In the absence of admixture it should be 0,\n",
    "but it is significantly negative for our dataset: "
   ]
  },
  {
   "cell_type": "code",
   "execution_count": 23,
   "metadata": {
    "autoscroll": false,
    "collapsed": false,
    "ein.tags": "worksheet-0",
    "slideshow": {
     "slide_type": "-"
    }
   },
   "outputs": [
    {
     "name": "stdout",
     "output_type": "stream",
     "text": [
      "Computing f4(YRI, CHB, NEA, AncestralAllele)\n",
      "Expected = 3.469446951953614e-18\n",
      "Observed = -0.005514202210247513\n",
      "SD = 0.002658556730985845\n",
      "Z(Expected-Observed) = -2.074133738046185\n"
     ]
    }
   ],
   "source": [
    "model_fit_stats = momi.SfsModelFitStats(model2)\n",
    "\n",
    "print(\"Computing f4(YRI, CHB, NEA, AncestralAllele)\")\n",
    "f4 = model_fit_stats.f4(\"YRI\", \"CHB\", \"NEA\", None)\n",
    "\n",
    "print(\"Expected = {}\".format(f4.expected))\n",
    "print(\"Observed = {}\".format(f4.observed))\n",
    "print(\"SD = {}\".format(f4.sd))\n",
    "print(\"Z(Expected-Observed) = {}\".format(f4.z_score))"
   ]
  },
  {
   "cell_type": "markdown",
   "metadata": {
    "ein.tags": "worksheet-0",
    "slideshow": {
     "slide_type": "-"
    }
   },
   "source": [
    "Other statistics such as `f2()` and `f3()` are also available\n",
    "for evaluating model fit.\n",
    "The method `all_pairs_ibs()` evaluates the probability that \n",
    "two random alleles are the same, for every pair of populations: "
   ]
  },
  {
   "cell_type": "code",
   "execution_count": 24,
   "metadata": {
    "autoscroll": false,
    "collapsed": false,
    "ein.tags": "worksheet-0",
    "slideshow": {
     "slide_type": "-"
    }
   },
   "outputs": [
    {
     "data": {
      "text/plain": [
       "  Pop1 Pop2  Expected  Observed         Z\n0  CHB  NEA  0.545624  0.552939  1.087083\n1  YRI  YRI  0.715967  0.719586  0.770189\n2  NEA  NEA  0.715967  0.710339 -0.651139\n3  CHB  YRI  0.670547  0.674068  0.586852\n4  NEA  YRI  0.545624  0.542869 -0.570020\n5  CHB  CHB  0.944630  0.946806  0.337524"
      ]
     },
     "execution_count": 24,
     "metadata": {},
     "output_type": "execute_result"
    },
    {
     "data": {
      "image/png": "[encoded data removed]",
      "text/plain": [
       "<matplotlib.figure.Figure at 0x7fb9aeff74a8>"
      ]
     },
     "metadata": {},
     "output_type": "display_data"
    }
   ],
   "source": [
    "model_fit_stats.all_pairs_ibs()"
   ]
  },
  {
   "cell_type": "markdown",
   "metadata": {
    "ein.tags": "worksheet-0",
    "slideshow": {
     "slide_type": "-"
    }
   },
   "source": [
    "In addition, the method `SfsModelFitStats.tensor_prod` can be used to\n",
    "compute goodness-of-fit for very general statistics of the\n",
    "SFS; see the API help for details.\n",
    "\n",
    "Note the `SfsModelFitStats` class above has some limitations.\n",
    "First, it computes goodness-of-fit for the SFS without any missing data &#x2013;\n",
    "all entries with missing samples are removed. For datasets\n",
    "with many individuals and pervasive missingness, this can result\n",
    "in most or all of the data being removed.\n",
    "\n",
    "In such cases you can specify to use the SFS restricted\n",
    "to a smaller number of samples; then SNPs with at least\n",
    "that many of non-missing individuals will be used.\n",
    "For example, "
   ]
  },
  {
   "cell_type": "code",
   "execution_count": 25,
   "metadata": {
    "autoscroll": false,
    "collapsed": false,
    "ein.tags": "worksheet-0",
    "slideshow": {
     "slide_type": "-"
    }
   },
   "outputs": [],
   "source": [
    "model_fit_stats = momi.SfsModelFitStats(\n",
    "    model2, {\"YRI\": 2, \"CHB\": 2, \"NEA\": 2})"
   ]
  },
  {
   "cell_type": "markdown",
   "metadata": {
    "ein.tags": "worksheet-0",
    "slideshow": {
     "slide_type": "-"
    }
   },
   "source": [
    "will compute statistics for the SFS \n",
    "restricted to 2 samples per population.\n",
    "\n",
    "The second limitation of =SfsModelFitStats= is that it\n",
    "ignores the mutation rate -- it only fits the SFS normalized\n",
    "to be a probability distribution.\n",
    "To evaluate the total number of mutations in the data,\n",
    "e.g. to fit the mutation rate, you can use the method\n",
    "=DemographicModel.fit_within_pop_diversity()=,\n",
    "which computes the within-population nucleotide\n",
    "diversity, i.e. the heterozygosity of a random\n",
    "individual from that population: "
   ]
  },
  {
   "cell_type": "code",
   "execution_count": 26,
   "metadata": {
    "autoscroll": false,
    "collapsed": false,
    "ein.tags": "worksheet-0",
    "slideshow": {
     "slide_type": "-"
    }
   },
   "outputs": [
    {
     "data": {
      "text/plain": [
       "   Pop    EstMutRate   JackknifeSD  JackknifeZscore\n0  CHB  1.244850e-08  1.508832e-09        -0.034131\n1  YRI  1.279271e-08  2.145191e-10         1.364486\n2  NEA  1.321458e-08  3.943437e-10         1.812083"
      ]
     },
     "execution_count": 26,
     "metadata": {},
     "output_type": "execute_result"
    }
   ],
   "source": [
    "model2.fit_within_pop_diversity()"
   ]
  },
  {
   "cell_type": "markdown",
   "metadata": {
    "ein.tags": "worksheet-0",
    "slideshow": {
     "slide_type": "-"
    }
   },
   "source": [
    "This method returns a dataframe giving estimates for the mutation rate.\n",
    "Note that there is an estimate for each population -- these estimates\n",
    "are non-independent estimates for the same value, just computed\n",
    "in different ways (by computing the expected to observed heterozygosity\n",
    "for each population separately). These estimates\n",
    "account for missingness in the data; it is fine to use it\n",
    "on datasets with large amounts of missingness.\n",
    "\n",
    "Since we initialized our model with `muts_per_gen=1.25e-8`,\n",
    "the method also returns a Z-value for the residuals of the estimated\n",
    "mutation rates."
   ]
  },
  {
   "cell_type": "markdown",
   "metadata": {
    "ein.tags": "worksheet-0",
    "slideshow": {
     "slide_type": "-"
    }
   },
   "source": [
    "### Build a new model adding NEA->CHB "
   ]
  },
  {
   "cell_type": "markdown",
   "metadata": {
    "ein.tags": "worksheet-0",
    "slideshow": {
     "slide_type": "-"
    }
   },
   "source": [
    "Now we create a new `DemographicModel`,\n",
    "by copying the previous model and adding a NEA->CHB\n",
    "migration arrow. "
   ]
  },
  {
   "cell_type": "code",
   "execution_count": 34,
   "metadata": {
    "autoscroll": false,
    "collapsed": false,
    "ein.tags": "worksheet-0",
    "slideshow": {
     "slide_type": "-"
    }
   },
   "outputs": [
    {
     "name": "stderr",
     "output_type": "stream",
     "text": [
      "/home/jack/.local/share/virtualenvs/momi2-gAXri9wX/lib/python3.6/site-packages/autograd/tracer.py:48: RuntimeWarning: divide by zero encountered in log\n",
      "  return f_raw(*args, **kwargs)\n"
     ]
    }
   ],
   "source": [
    "add_pulse_model = model2.copy()\n",
    "add_pulse_model.add_pulse_param(\"p_pulse\", upper=.25)\n",
    "add_pulse_model.add_time_param(\n",
    "    \"t_pulse\", upper_constraints=[\"t_chb_yri\"])\n",
    "\n",
    "add_pulse_model.move_lineages(\n",
    "    \"CHB\", \"GhostNea\", t=\"t_pulse\", p=\"p_pulse\")\n",
    "\n",
    "add_pulse_model.add_time_param(\n",
    "    \"t_ghost\", lower=5e4,\n",
    "    lower_constraints=[\"t_pulse\"], upper_constraints=[\"t_anc\"])\n",
    "add_pulse_model.move_lineages(\n",
    "    \"GhostNea\", \"NEA\", t=\"t_ghost\")"
   ]
  },
  {
   "cell_type": "markdown",
   "metadata": {
    "ein.tags": "worksheet-0",
    "slideshow": {
     "slide_type": "-"
    }
   },
   "source": [
    "It turns out this model has local optima, so we demonstrate how to\n",
    "fit a few independent runs with different starting parameters.\n",
    "\n",
    "Use `DemographicModel.set_params(parameter_dict)` to set\n",
    "new parameter values\n",
    "to start the search from. If a parameter is not specified and\n",
    "`randomize=True`, a new value will be randomly sampled for it."
   ]
  },
  {
   "cell_type": "code",
   "execution_count": 35,
   "metadata": {
    "autoscroll": false,
    "collapsed": false,
    "ein.tags": "worksheet-0",
    "slideshow": {
     "slide_type": "-"
    }
   },
   "outputs": [
    {
     "name": "stdout",
     "output_type": "stream",
     "text": [
      "Run 1 out of 3...\n"
     ]
    },
    {
     "name": "stdout",
     "output_type": "stream",
     "text": [
      "Run 2 out of 3...\n"
     ]
    },
    {
     "name": "stdout",
     "output_type": "stream",
     "text": [
      "Run 3 out of 3...\n"
     ]
    }
   ],
   "source": [
    "results = []\n",
    "n_runs = 3\n",
    "for i in range(n_runs):\n",
    "    print(f\"Starting run {i+1} out of {n_runs}...\")\n",
    "    add_pulse_model.set_params(\n",
    "        # parameters inherited from model2 are set to their previous values\n",
    "        model2.get_params(),\n",
    "        # other parmaeters are set to random initial values\n",
    "        randomize=True)\n",
    "\n",
    "    results.append(add_pulse_model.optimize())\n",
    "\n",
    "# sort results according to log likelihood, pick the best one\n",
    "best_result = sorted(results, key=lambda r: r.log_likelihood)[0]\n",
    "\n",
    "add_pulse_model.set_params(best_result.parameters)"
   ]
  },
  {
   "cell_type": "code",
   "execution_count": 36,
   "metadata": {
    "autoscroll": false,
    "collapsed": false,
    "ein.tags": "worksheet-0",
    "slideshow": {
     "slide_type": "-"
    }
   },
   "outputs": [
    {
     "data": {
      "text/plain": [
       "<matplotlib.legend.Legend at 0x7fb9aeec7c50>"
      ]
     },
     "execution_count": 36,
     "metadata": {},
     "output_type": "execute_result"
    },
    {
     "data": {
      "image/png": "[encoded data removed]",
      "text/plain": [
       "<matplotlib.figure.Figure at 0x7fb9ad1a34a8>"
      ]
     },
     "metadata": {},
     "output_type": "display_data"
    }
   ],
   "source": [
    "# plot the model\n",
    "fig = momi.DemographyPlot(\n",
    "    add_pulse_model, [\"YRI\", \"CHB\", \"GhostNea\", \"NEA\"],\n",
    "    linthreshy=1e5, figsize=(6,8),\n",
    "    major_yticks=yticks)\n",
    "fig.draw_N_legend(loc=\"upper left\") "
   ]
  },
  {
   "cell_type": "markdown",
   "metadata": {
    "ein.tags": "worksheet-0",
    "slideshow": {
     "slide_type": "-"
    }
   },
   "source": [
    "### Bootstrap confidence intervals "
   ]
  },
  {
   "cell_type": "markdown",
   "metadata": {
    "ein.tags": "worksheet-0",
    "slideshow": {
     "slide_type": "-"
    }
   },
   "source": [
    "To generate confidence intervals, we can resample blocks of the SFS,\n",
    "refit the model, and examine the quantiles of the re-inferred parameters.\n",
    "\n",
    "Below we do this for a very small number of bootstraps and a simplified\n",
    "fitting procedure. In practice you would want to generate hundreds of bootstraps\n",
    "on a cluster computer. "
   ]
  },
  {
   "cell_type": "code",
   "execution_count": 37,
   "metadata": {
    "autoscroll": false,
    "collapsed": false,
    "ein.tags": "worksheet-0",
    "slideshow": {
     "slide_type": "-"
    }
   },
   "outputs": [
    {
     "name": "stdout",
     "output_type": "stream",
     "text": [
      "Fitting 1-th bootstrap out of 5\n"
     ]
    },
    {
     "name": "stdout",
     "output_type": "stream",
     "text": [
      "Fitting 2-th bootstrap out of 5\n"
     ]
    },
    {
     "name": "stdout",
     "output_type": "stream",
     "text": [
      "Fitting 3-th bootstrap out of 5\n"
     ]
    },
    {
     "name": "stdout",
     "output_type": "stream",
     "text": [
      "Fitting 4-th bootstrap out of 5\n"
     ]
    },
    {
     "name": "stdout",
     "output_type": "stream",
     "text": [
      "Fitting 5-th bootstrap out of 5\n"
     ]
    }
   ],
   "source": [
    "n_bootstraps = 5\n",
    "# make copies of the original models\n",
    "submodel_copy = model2.copy()\n",
    "add_pulse_copy = add_pulse_model.copy()\n",
    "\n",
    "bootstrap_results = []\n",
    "for i in range(n_bootstraps):\n",
    "    print(f\"Fitting {i+1}-th bootstrap out of {n_bootstraps}\")\n",
    "\n",
    "    # resample the data\n",
    "    resampled_sfs = sfs.resample()\n",
    "    # tell models to use the new dataset\n",
    "    submodel_copy.set_data(resampled_sfs)\n",
    "    add_pulse_copy.set_data(resampled_sfs)\n",
    "\n",
    "    # choose new random parameters for submodel, optimize\n",
    "    submodel_copy.set_params(randomize=True)\n",
    "    submodel_copy.optimize()\n",
    "    # initialize parameters from submodel, randomizing the new parameters\n",
    "    add_pulse_copy.set_params(submodel_copy.get_params(),\n",
    "                              randomize=True)\n",
    "    add_pulse_copy.optimize()\n",
    "\n",
    "    bootstrap_results.append(add_pulse_copy.get_params())"
   ]
  },
  {
   "cell_type": "markdown",
   "metadata": {
    "ein.tags": "worksheet-0",
    "slideshow": {
     "slide_type": "-"
    }
   },
   "source": [
    "We can visualize the bootstrap results by overlaying them onto a single plot."
   ]
  },
  {
   "cell_type": "code",
   "execution_count": 38,
   "metadata": {
    "autoscroll": false,
    "collapsed": false,
    "ein.tags": "worksheet-0",
    "slideshow": {
     "slide_type": "-"
    }
   },
   "outputs": [
    {
     "name": "stderr",
     "output_type": "stream",
     "text": [
      "/home/jack/.local/share/virtualenvs/momi2-gAXri9wX/lib/python3.6/site-packages/autograd/tracer.py:48: RuntimeWarning: divide by zero encountered in log\n",
      "  return f_raw(*args, **kwargs)\n"
     ]
    },
    {
     "data": {
      "text/plain": [
       "<matplotlib.legend.Legend at 0x7fb9acd73ba8>"
      ]
     },
     "execution_count": 38,
     "metadata": {},
     "output_type": "execute_result"
    },
    {
     "data": {
      "image/png": "[encoded data removed]",
      "text/plain": [
       "<matplotlib.figure.Figure at 0x7fb9acd737f0>"
      ]
     },
     "metadata": {},
     "output_type": "display_data"
    }
   ],
   "source": [
    "# make canvas, but delay plotting the demography (draw=False)\n",
    "fig = momi.DemographyPlot(\n",
    "    add_pulse_model, [\"YRI\", \"CHB\", \"GhostNea\", \"NEA\"],\n",
    "    linthreshy=1e5, figsize=(6,8),\n",
    "    major_yticks=yticks,\n",
    "    draw=False)\n",
    "\n",
    "# plot bootstraps onto the canvas in transparency\n",
    "for params in bootstrap_results:\n",
    "    fig.add_bootstrap(\n",
    "        params,\n",
    "        # alpha=0: totally transparent. alpha=1: totally opaque\n",
    "        alpha=1./n_bootstraps)\n",
    "\n",
    "# now draw the inferred demography on top of the bootstraps\n",
    "fig.draw()\n",
    "fig.draw_N_legend(loc=\"upper left\") "
   ]
  },
  {
   "cell_type": "markdown",
   "metadata": {
    "ein.tags": "worksheet-0",
    "slideshow": {
     "slide_type": "-"
    }
   },
   "source": [
    "## Other features"
   ]
  },
  {
   "cell_type": "markdown",
   "metadata": {
    "ein.tags": "worksheet-0",
    "slideshow": {
     "slide_type": "-"
    }
   },
   "source": [
    "### Stochastic gradient descent "
   ]
  },
  {
   "cell_type": "markdown",
   "metadata": {
    "ein.tags": "worksheet-0",
    "slideshow": {
     "slide_type": "-"
    }
   },
   "source": [
    "For large models, it can be useful to perform stochastic optimization:\n",
    "instead of computing the full likelihood at every step,\n",
    "we use a random subset of SNPs at each step to estimate\n",
    "the likelihood gradient. This is especially useful for\n",
    "rapidly searching for a reasonable starting point, from which\n",
    "full optimization can be performed.\n",
    "\n",
    "`DemographicModel.stochastic_optimize()` \n",
    "implements stochastic optimization with the ADAM algorithm.\n",
    "Setting `svrg=n` makes the optimizer use the full likelihood\n",
    "every n steps which can lead to better convergence (see the\n",
    "Stochastic Variance Reduced Gradient algorithm).\n",
    "\n",
    "The cell below performs 10 steps of stochastic optimization,\n",
    "using 1000 random SNPs per step, and computing the full likelihood\n",
    "every 3 iterations. "
   ]
  },
  {
   "cell_type": "code",
   "execution_count": 39,
   "metadata": {
    "autoscroll": false,
    "collapsed": false,
    "ein.tags": "worksheet-0",
    "slideshow": {
     "slide_type": "-"
    }
   },
   "outputs": [
    {
     "data": {
      "text/plain": [
       "     fun: 3.71308017410849\n     jac: array([ 2.76614469e-06, -2.77411259e-03, -1.72307279e-07, -9.97376724e-08,\n        4.03720492e-02,  7.17721751e-05, -5.89555669e-07])\n message: 'Maximum number of iterations reached'\n     nit: 9\n success: False\n       x: array([ 1.63859364e+01, -1.00000000e-03,  8.07580084e+04,  3.90183912e+05,\n       -3.26264036e+00, -1.39806436e-01, -9.24615474e+00])"
      ]
     },
     "execution_count": 39,
     "metadata": {},
     "output_type": "execute_result"
    }
   ],
   "source": [
    "add_pulse_copy.stochastic_optimize(\n",
    "    snps_per_minibatch=1000, num_iters=10, svrg_epoch=3)"
   ]
  }
 ],
 "metadata": {
  "kernelspec": {
   "display_name": "Python 3",
   "name": "python3"
  },
  "language_info": {
   "codemirror_mode": {
    "name": "ipython",
    "version": 3
   },
   "file_extension": ".py",
   "mimetype": "text/x-python",
   "name": "python",
   "nbconvert_exporter": "python",
   "pygments_lexer": "ipython3",
   "version": "3.6.4"
  },
  "name": "tutorial_org.ipynb",
  "org": null
 },
 "nbformat": 4,
 "nbformat_minor": 1
}
