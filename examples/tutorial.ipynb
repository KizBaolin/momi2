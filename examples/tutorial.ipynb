{
 "cells": [
  {
   "cell_type": "markdown",
   "metadata": {
    "ein.tags": "worksheet-0",
    "slideshow": {
     "slide_type": "-"
    }
   },
   "source": [
    "# Tutorial"
   ]
  },
  {
   "cell_type": "markdown",
   "metadata": {
    "ein.tags": "worksheet-0",
    "slideshow": {
     "slide_type": "-"
    }
   },
   "source": [
    "This is a tutorial for the `momi` package. You can run the ipython notebook that created this tutorial at `examples/tutorial.ipynb`.\n",
    "\n",
    "To get started, import the `momi` package:"
   ]
  },
  {
   "cell_type": "code",
   "execution_count": 1,
   "metadata": {
    "autoscroll": false,
    "collapsed": false,
    "ein.tags": "worksheet-0",
    "slideshow": {
     "slide_type": "-"
    }
   },
   "outputs": [],
   "source": [
    "import momi"
   ]
  },
  {
   "cell_type": "markdown",
   "metadata": {
    "ein.tags": "worksheet-0",
    "slideshow": {
     "slide_type": "-"
    }
   },
   "source": [
    "Some `momi` operations can take awhile complete, so it is useful to turn on status monitoring messages to check that everything is running normally. Here, we output logging messages to the file `tutorial.log`. See the [logging](https://docs.python.org/3/library/logging.html) module for more details."
   ]
  },
  {
   "cell_type": "code",
   "execution_count": 2,
   "metadata": {
    "autoscroll": false,
    "collapsed": false,
    "ein.tags": "worksheet-0",
    "slideshow": {
     "slide_type": "-"
    }
   },
   "outputs": [],
   "source": [
    "import logging\n",
    "logging.basicConfig(level=logging.INFO, filename=\"tutorial.log\")"
   ]
  },
  {
   "cell_type": "markdown",
   "metadata": {
    "ein.tags": "worksheet-0",
    "slideshow": {
     "slide_type": "-"
    }
   },
   "source": [
    "## Constructing a demographic history\n",
    "\n",
    "We will construct a demographic model loosely based on human history. To start, we need to specify `N_e`, which is the size of each population unless explicitly specified otherwise, and `gen_time`, the amount of time per generation.\n",
    "\n",
    "(TODO is `N_e` diploid or haploid???)\n",
    "\n",
    "We will measure time in years; the human generation time is approximately `gen_time=29` years per generation. The human effective population size is typically measured as $1.2 \\times 10^{4}$ so we set `N_e=1.2e4`.\n",
    "\n",
    "(Note the population size here is NOT the census size, but the population genetics concept of [effective population size](https://en.wikipedia.org/wiki/Effective_population_size) or $N_e$)."
   ]
  },
  {
   "cell_type": "code",
   "execution_count": 3,
   "metadata": {
    "autoscroll": false,
    "collapsed": false,
    "ein.tags": "worksheet-0",
    "slideshow": {
     "slide_type": "-"
    }
   },
   "outputs": [],
   "source": [
    "model = momi.DemographicModel(N_e=1.2e4, gen_time=29)"
   ]
  },
  {
   "cell_type": "markdown",
   "metadata": {
    "ein.tags": "worksheet-0",
    "slideshow": {
     "slide_type": "-"
    }
   },
   "source": [
    "We now specify the sampled (\"leaf\") populations of our demography. We specify three populations: YRI, CHB, and NEA. YRI and CHB are present-day populations at $t=0$, while NEA is an archaic population from $t=50,000$ years ago. We set YRI and NEA to have the default population sizes, and set CHB to have a size of $N=100,000$ growing at rate $.0005$ per year.\n",
    "\n",
    "TODO check is growth rate g or g/2"
   ]
  },
  {
   "cell_type": "code",
   "execution_count": 4,
   "metadata": {
    "autoscroll": false,
    "collapsed": false,
    "ein.tags": "worksheet-0",
    "slideshow": {
     "slide_type": "-"
    }
   },
   "outputs": [],
   "source": [
    "# add YRI leaf at t=0 and default_N\n",
    "model.add_leaf(\"YRI\")\n",
    "# add  CHB leaf at t=0, N=1e5, growing at rate 5e-4 per unit time (year)\n",
    "model.add_leaf(\"CHB\", N=1e5, g=5e-4)\n",
    "# add NEA leaf at 50kya\n",
    "model.add_leaf(\"NEA\", t=5e4) "
   ]
  },
  {
   "cell_type": "markdown",
   "metadata": {
    "ein.tags": "worksheet-0",
    "slideshow": {
     "slide_type": "-"
    }
   },
   "source": [
    "Demographic events are added to the model by the methods `set_size()` and `move_lineages()`. `set_size()` is used to change population size and growth rate, while `move_lineages()` is used for population split and admixture events. "
   ]
  },
  {
   "cell_type": "code",
   "execution_count": 5,
   "metadata": {
    "autoscroll": false,
    "collapsed": false,
    "ein.tags": "worksheet-0",
    "slideshow": {
     "slide_type": "-"
    }
   },
   "outputs": [],
   "source": [
    "# stop CHB growth at 10kya\n",
    "model.set_size(\"CHB\", g=0, t=1e4)\n",
    "\n",
    "# at 45kya CHB receive a 3% pulse from GhostNea\n",
    "model.move_lineages(\"CHB\", \"GhostNea\", t=4.5e4, p=.03)\n",
    "# at 55kya GhostNea joins onto NEA\n",
    "model.move_lineages(\"GhostNea\", \"NEA\", t=5.5e4)\n",
    "\n",
    "# at 80 kya CHB goes thru bottleneck\n",
    "model.set_size(\"CHB\", N=100, t=8e4)\n",
    "# at 85 kya CHB joins onto YRI\n",
    "model.move_lineages(\"CHB\", \"YRI\", t=8.5e4)\n",
    "\n",
    "# at 500 kya YRI joins onto NEA\n",
    "model.move_lineages(\"YRI\", \"NEA\", t=5e5)"
   ]
  },
  {
   "cell_type": "markdown",
   "metadata": {
    "ein.tags": "worksheet-0",
    "slideshow": {
     "slide_type": "-"
    }
   },
   "source": [
    "If you are familiar with the software [ms](http://home.uchicago.edu/rhudson1/source/mksamples.html), `set_size()` is analogous to the flags \"-en\" and \"-eg\", while `move_lineages()` is analogous to the flags \"-ej\" and \"-es\". If you are familiar with the package [msprime](https://msprime.readthedocs.io/en/stable/), then `set_size()` is analogous to `msprime.PopulationParametersChange`, while `move_lineages()` is analogous to `msprime.MassMigration`.\n",
    "\n",
    "Note that events can involve other populations aside from the 3 sampled populations YRI, CHB, and NEA. Unsampled populations are also known as \"ghost populations\". In this example, CHB receives a small amount of admixture from a population \"GhostNea\", which splits off from NEA at an earlier date."
   ]
  },
  {
   "cell_type": "markdown",
   "metadata": {
    "ein.tags": "worksheet-0",
    "slideshow": {
     "slide_type": "-"
    }
   },
   "source": [
    "## Plotting a demography\n",
    "The method `draw()` plots the demography: "
   ]
  },
  {
   "cell_type": "code",
   "execution_count": 6,
   "metadata": {
    "autoscroll": false,
    "collapsed": false,
    "ein.tags": "worksheet-0",
    "slideshow": {
     "slide_type": "-"
    }
   },
   "outputs": [
    {
     "data": {
      "image/png": "[encoded data removed]",
      "text/plain": [
       "<matplotlib.figure.Figure at 0x7fa5b94929b0>"
      ]
     },
     "metadata": {},
     "output_type": "display_data"
    }
   ],
   "source": [
    "model.draw([\"YRI\", \"CHB\", \"GhostNea\", \"NEA\"], # specfiy pop order along the x-axis\n",
    "           figsize=(6,8),\n",
    "           yticks=[1e4, 2.5e4, 5e4, 7.5e4, 1e5, 2.5e5, 5e5, 7.5e5],\n",
    "           linthreshy=1e5) # linear scale up to 1e5, then logarithmic "
   ]
  },
  {
   "cell_type": "markdown",
   "metadata": {
    "ein.tags": "worksheet-0",
    "slideshow": {
     "slide_type": "-"
    }
   },
   "source": [
    "Note the user needs to specify the order of all populations (including ghost populations) along the x-axis.\n",
    "\n",
    "The argument `linthreshy` is useful for visualizing demographic events at different scales. In our example, the split time of NEA is far above the other events. Times below `linthreshy` are plotted on a linear scale, while times above it are plotted on a log scale.\n",
    "\n",
    "### Additional plotting details\n",
    "\n",
    "If you are using Python outside a notebook environment, e.g. in a shell, then you need to call the following before making calls to `draw()`:\n",
    "\n",
    "```\n",
    "# call first if in a shell not a notebook:\n",
    "from matplotlib import pyplot as plt\n",
    "plt.ion()\n",
    "```\n",
    "\n",
    "`momi` uses [matplotlib](https://matplotlib.org/) for plotting. Users can make calls to `matplotlib` to adjust various aspects of the plotting.\n",
    "\n",
    "TODO simplify the plotting API, make it easier to interact with matplotlib"
   ]
  },
  {
   "cell_type": "markdown",
   "metadata": {
    "ein.tags": "worksheet-0",
    "slideshow": {
     "slide_type": "-"
    }
   },
   "source": [
    "## Reading and simulating data\n",
    "\n",
    "In this section we demonstrate how to read in data from a VCF file.\n",
    "\n",
    "Before we can read in a dataset we first need to create one. So we start by demonstrating how to simulate a VCF from our demography, then we read it in.\n",
    "\n",
    "### Simulating data "
   ]
  },
  {
   "cell_type": "code",
   "execution_count": 7,
   "metadata": {
    "autoscroll": false,
    "collapsed": false,
    "ein.tags": "worksheet-0",
    "slideshow": {
     "slide_type": "-"
    }
   },
   "outputs": [],
   "source": [
    "import gzip\n",
    "import os\n",
    "\n",
    "per_base_mut_rate = 1.25e-8\n",
    "per_base_recom_rate = 1.25e-8\n",
    "bases_per_locus = int(5e5)\n",
    "n_loci = 20\n",
    "ploidy = 2\n",
    "\n",
    "# number of alleles to sample per population\n",
    "sampled_n_dict = {\"NEA\":2, \"YRI\":4, \"CHB\":4}\n",
    "\n",
    "# create data directory if it doesn't exist\n",
    "os.makedirs(\"data\", exist_ok=True) "
   ]
  },
  {
   "cell_type": "code",
   "execution_count": 8,
   "metadata": {
    "autoscroll": false,
    "collapsed": false,
    "ein.tags": "worksheet-0",
    "slideshow": {
     "slide_type": "-"
    }
   },
   "outputs": [],
   "source": [
    "# simulate 20 \"chromosomes\", saving each in a separate gzipped vcf file\n",
    "for chrom in range(n_loci):\n",
    "    with gzip.open(\"data/{}.vcf.gz\".format(chrom), \"wt\") as outfile:\n",
    "        model.simulate_vcf(\n",
    "            outfile,\n",
    "            mutation_rate=per_base_mut_rate,\n",
    "            recombination_rate=per_base_recom_rate,\n",
    "            length=bases_per_locus,\n",
    "            chrom_names=[\"chr{}\".format(chrom)],\n",
    "            ploidy=ploidy,\n",
    "            random_seed=1234+chrom,\n",
    "            sampled_n_dict=sampled_n_dict) "
   ]
  },
  {
   "cell_type": "code",
   "execution_count": 9,
   "metadata": {
    "autoscroll": false,
    "collapsed": false,
    "ein.tags": "worksheet-0",
    "slideshow": {
     "slide_type": "-"
    }
   },
   "outputs": [],
   "source": [
    "## read in data from vcf\n",
    "\n",
    "## first create a dict mapping samples to populations\n",
    "ind2pop = {}\n",
    "for pop, n in sampled_n_dict.items():\n",
    "    for i in range(int(n / ploidy)):\n",
    "        ## in the simulated vcfs, the samples are named like YRI_0, YRI_1, CHB_0, etc\n",
    "        ind2pop[\"{}_{}\".format(pop, i)] = pop\n",
    "\n",
    "# uses REF as the ancestral allele\n",
    "ancestral_alleles = False\n",
    "## Other options:\n",
    "## True: use the \"AA\" INFO field as the anc allele (skipping SNPs without this field)\n",
    "## population name: use this population as the outgroup for polarizing\n",
    "\n",
    "# Read in each vcf in a for loop\n",
    "data = []\n",
    "for chrom in range(n_loci):\n",
    "    with gzip.open(\"data/{}.vcf.gz\".format(chrom), \"rt\") as f:\n",
    "        data.append(momi.SnpAlleleCounts.read_vcf(f, ind2pop,\n",
    "                                                  ancestral_alleles))\n",
    "\n",
    "# concatenate the 20 loci into a single dataset\n",
    "data = momi.SnpAlleleCounts.concatenate(data)\n"
   ]
  },
  {
   "cell_type": "code",
   "execution_count": 10,
   "metadata": {
    "autoscroll": false,
    "collapsed": false,
    "ein.tags": "worksheet-0",
    "slideshow": {
     "slide_type": "-"
    }
   },
   "outputs": [],
   "source": [
    "## dump the momi-style data to a json file\n",
    "with gzip.open(\"data/momi_data.json.gz\", \"wt\") as f:\n",
    "    data.dump(f)\n",
    "\n",
    "## load the data back from the json file\n",
    "with gzip.open(\"data/momi_data.json.gz\", \"rt\") as f:\n",
    "    data2 = momi.SnpAlleleCounts.load(f)\n",
    "\n",
    "assert data == data2"
   ]
  },
  {
   "cell_type": "code",
   "execution_count": 11,
   "metadata": {
    "autoscroll": false,
    "collapsed": false,
    "ein.tags": "worksheet-0",
    "slideshow": {
     "slide_type": "-"
    }
   },
   "outputs": [],
   "source": [
    "## INFERENCE\n",
    "\n",
    "## create a new model\n",
    "model2 = momi.DemographicModel(N_e=1.2e4, gen_time=29)\n",
    "\n",
    "## set the data\n",
    "model2.set_data(data,\n",
    "                # use multinomial model, unfolded SFS\n",
    "               muts_per_gen=None, folded=False,\n",
    "                # splits data into 100 equally sized blocks\n",
    "                # used to compute standard deviation of f4 and other stats\n",
    "                # via block jackknife\n",
    "               n_blocks_jackknife=100)"
   ]
  },
  {
   "cell_type": "code",
   "execution_count": 12,
   "metadata": {
    "autoscroll": false,
    "collapsed": false,
    "ein.tags": "worksheet-0",
    "slideshow": {
     "slide_type": "-"
    }
   },
   "outputs": [],
   "source": [
    "## start by fitting CHB and YRI\n",
    "\n",
    "## define parameters of the model\n",
    "#model2.add_size_param(\"n_chb\", 1.2e4)\n",
    "#model2.add_growth_param(\"g_chb\", 0, lower=-1e-3, upper=1e-3)\n",
    "#model2.add_time_param(\"t_chb_yri\", 1e5, lower=1e4)\n",
    "model2.add_size_param(\"n_chb\")\n",
    "model2.add_growth_param(\"g_chb\", 0, lower=-1e-3, upper=1e-3)\n",
    "model2.add_time_param(\"t_chb_yri\", lower=1e4)\n",
    "\n",
    "## add demographic events\n",
    "model2.add_leaf(\"CHB\", N=\"n_chb\", g=\"g_chb\")\n",
    "model2.add_leaf(\"YRI\")\n",
    "model2.set_size(\"CHB\", t=1e4, g=0)\n",
    "model2.move_lineages(\"CHB\", \"YRI\", t=\"t_chb_yri\")"
   ]
  },
  {
   "cell_type": "code",
   "execution_count": 13,
   "metadata": {
    "autoscroll": false,
    "collapsed": false,
    "ein.tags": "worksheet-0",
    "slideshow": {
     "slide_type": "-"
    }
   },
   "outputs": [
    {
     "data": {
      "text/plain": [
       "        fun: 0.0015874895377321983\n        jac: array([-3.44045290e-04,  7.17462026e-02,  5.51944816e-10])\n    message: 'Converged (|f_n-f_(n-1)| ~= 0)'\n       nfev: 27\n        nit: 10\n parameters: ParamsDict({'n_chb': 1606.981648970722, 'g_chb': 5.296902354353813e-05, 't_chb_yri': 119156.74013671634})\n     status: 1\n    success: True\n          x: array([7.38211295e+00, 5.29690235e-05, 1.09156740e+05])"
      ]
     },
     "execution_count": 13,
     "metadata": {},
     "output_type": "execute_result"
    }
   ],
   "source": [
    "#model2.optimize(method=\"L-BFGS-B\")\n",
    "model2.optimize(method=\"TNC\")"
   ]
  },
  {
   "cell_type": "code",
   "execution_count": 14,
   "metadata": {
    "autoscroll": false,
    "collapsed": false,
    "ein.tags": "worksheet-0",
    "slideshow": {
     "slide_type": "-"
    }
   },
   "outputs": [
    {
     "name": "stdout",
     "output_type": "stream",
     "text": [
      "ParamsDict({'n_chb': 1606.981648970722, 'g_chb': 5.296902354353813e-05, 't_chb_yri': 119156.74013671634})\n"
     ]
    }
   ],
   "source": [
    "print(model2.get_params())"
   ]
  },
  {
   "cell_type": "code",
   "execution_count": 15,
   "metadata": {
    "autoscroll": false,
    "collapsed": false,
    "ein.tags": "worksheet-0",
    "slideshow": {
     "slide_type": "-"
    }
   },
   "outputs": [
    {
     "data": {
      "image/png": "[encoded data removed]",
      "text/plain": [
       "<matplotlib.figure.Figure at 0x7fa5b71218d0>"
      ]
     },
     "metadata": {},
     "output_type": "display_data"
    }
   ],
   "source": [
    "# plot the model\n",
    "model2.draw([\"YRI\", \"CHB\"], figsize=(6,8), linthreshy=1e5, yticks=[1e4, 2.5e4, 5e4, 7.5e4, 1e5, 1.25e5]) "
   ]
  },
  {
   "cell_type": "code",
   "execution_count": 16,
   "metadata": {
    "autoscroll": false,
    "collapsed": false,
    "ein.tags": "worksheet-0",
    "slideshow": {
     "slide_type": "-"
    }
   },
   "outputs": [],
   "source": [
    "## add NEA to the model\n",
    "\n",
    "model2.add_leaf(\"NEA\", t=5e4)\n",
    "\n",
    "#model2.add_time_param(\"t_anc\", 5e5,\n",
    "#                      lower_constraints=[\"t_chb_yri\"])\n",
    "model2.add_time_param(\"t_anc\", lower=5e4, lower_constraints=[\"t_chb_yri\"])\n",
    "\n",
    "model2.move_lineages(\"YRI\", \"NEA\", t=\"t_anc\")"
   ]
  },
  {
   "cell_type": "code",
   "execution_count": 17,
   "metadata": {
    "autoscroll": false,
    "collapsed": false,
    "ein.tags": "worksheet-0",
    "slideshow": {
     "slide_type": "-"
    }
   },
   "outputs": [
    {
     "data": {
      "text/plain": [
       "        fun: 0.012457109231355686\n        jac: array([ 5.33783531e-07, -4.89425872e-03,  1.55696918e-12,  3.17283090e-12])\n    message: 'Converged (|f_n-f_(n-1)| ~= 0)'\n       nfev: 38\n        nit: 11\n parameters: ParamsDict({'n_chb': 1845.2565087902424, 'g_chb': 7.262450619653838e-05, 't_chb_yri': 109600.99235151795, 't_anc': 443040.1581016207})\n     status: 1\n    success: True\n          x: array([7.52037358e+00, 7.26245062e-05, 9.96009924e+04, 3.33439166e+05])"
      ]
     },
     "execution_count": 17,
     "metadata": {},
     "output_type": "execute_result"
    }
   ],
   "source": [
    "model2.optimize()"
   ]
  },
  {
   "cell_type": "code",
   "execution_count": 18,
   "metadata": {
    "autoscroll": false,
    "collapsed": false,
    "ein.tags": "worksheet-0",
    "slideshow": {
     "slide_type": "-"
    }
   },
   "outputs": [
    {
     "data": {
      "image/png": "[encoded data removed]",
      "text/plain": [
       "<matplotlib.figure.Figure at 0x7fa5b70823c8>"
      ]
     },
     "metadata": {},
     "output_type": "display_data"
    }
   ],
   "source": [
    "# plot the model\n",
    "model2.draw([\"YRI\", \"CHB\", \"NEA\"], figsize=(6,8), linthreshy=1e5, yticks=[1e4, 2.5e4, 5e4, 7.5e4, 1e5, 2.5e5, 5e5])"
   ]
  },
  {
   "cell_type": "code",
   "execution_count": 19,
   "metadata": {
    "autoscroll": false,
    "collapsed": false,
    "ein.tags": "worksheet-0",
    "slideshow": {
     "slide_type": "-"
    }
   },
   "outputs": [
    {
     "name": "stdout",
     "output_type": "stream",
     "text": [
      "ModelFitArray(expected=6.938893903907228e-18, observed=-0.005661024702653249, sd=0.0028238767826156788, z_score=-2.0046996163230624)\n"
     ]
    }
   ],
   "source": [
    "# model diagnostics\n",
    "fstats = model2.fstats()\n",
    "# f4(YRI, CHB, NEA, AncestralAllele) < 0 because of unmodeled Neanderthal admixture\n",
    "# z_score is not significant because we only have a small dataset here\n",
    "print(fstats.f4(\"YRI\", \"CHB\", \"NEA\", None))\n",
    "\n",
    "# also some functionality to check other statistics\n",
    "# e.g. f2, f3, distance between every pair of populations\n",
    "# (TODO: easily plot residuals of all pairwise distances)"
   ]
  },
  {
   "cell_type": "code",
   "execution_count": 20,
   "metadata": {
    "autoscroll": false,
    "collapsed": false,
    "ein.tags": "worksheet-0",
    "slideshow": {
     "slide_type": "-"
    }
   },
   "outputs": [
    {
     "name": "stderr",
     "output_type": "stream",
     "text": [
      "/home/jack/.local/share/virtualenvs/momi2-gAXri9wX/lib/python3.6/site-packages/autograd/tracer.py:48: RuntimeWarning: divide by zero encountered in log\n",
      "  return f_raw(*args, **kwargs)\n"
     ]
    }
   ],
   "source": [
    "## create a new model with added NEA->CHB pulse\n",
    "\n",
    "add_pulse_model = model2.copy()\n",
    "\n",
    "#add_pulse_model.add_pulse_param(\"p_pulse\", .1)\n",
    "#add_pulse_model.add_time_param(\"t_pulse\", 5e4, upper_constraints=[\"t_chb_yri\"])\n",
    "add_pulse_model.add_pulse_param(\"p_pulse\", upper=.25)\n",
    "add_pulse_model.add_time_param(\"t_pulse\", upper_constraints=[\"t_chb_yri\"])\n",
    "\n",
    "add_pulse_model.move_lineages(\"CHB\", \"GhostNea\", t=\"t_pulse\", p=\"p_pulse\")\n",
    "\n",
    "#add_pulse_model.add_time_param(\"t_ghost\", 1e5, lower=5e4, lower_constraints=[\"t_pulse\"], upper_constraints=[\"t_anc\"])\n",
    "add_pulse_model.add_time_param(\"t_ghost\", lower=5e4, lower_constraints=[\"t_pulse\"], upper_constraints=[\"t_anc\"])\n",
    "add_pulse_model.move_lineages(\"GhostNea\", \"NEA\", t=\"t_ghost\")"
   ]
  },
  {
   "cell_type": "code",
   "execution_count": 21,
   "metadata": {
    "autoscroll": false,
    "collapsed": false,
    "ein.tags": "worksheet-0",
    "scrolled": true,
    "slideshow": {
     "slide_type": "-"
    }
   },
   "outputs": [
    {
     "data": {
      "text/plain": [
       "     fun: 2.9255547837376157\n     jac: array([-6.94505312e-03,  1.51543266e+01,  2.08666608e-07, -4.28567991e-08,\n       -2.84890738e-02,  1.94275371e-02, -9.86265891e-04])\n message: 'Maximum number of iterations reached'\n     nit: 9\n success: False\n       x: array([ 6.95875683e+00,  1.00000000e-03,  9.96016214e+04,  3.33439591e+05,\n       -2.78215444e+00, -3.57127201e+00,  7.07899837e-01])"
      ]
     },
     "execution_count": 21,
     "metadata": {},
     "output_type": "execute_result"
    }
   ],
   "source": [
    "# stochastic gradient descent (ADAM+SVRG)\n",
    "add_pulse_model.stochastic_optimize(snps_per_minibatch=1000, num_iters=10, svrg_epoch=3)"
   ]
  },
  {
   "cell_type": "code",
   "execution_count": 23,
   "metadata": {
    "autoscroll": false,
    "collapsed": false,
    "ein.tags": "worksheet-0",
    "scrolled": true,
    "slideshow": {
     "slide_type": "-"
    }
   },
   "outputs": [
    {
     "data": {
      "text/plain": [
       "        fun: 0.004325151441397179\n        jac: array([ 7.54701715e-07, -4.90643251e-02, -2.36494490e-10, -1.55773693e-11,\n       -6.12743428e-06,  1.41067713e-05,  3.89572469e-09])\n    message: 'Converged (|f_n-f_(n-1)| ~= 0)'\n       nfev: 58\n        nit: 14\n parameters: ParamsDict({'n_chb': 11201037.557645824, 'g_chb': 0.001, 't_chb_yri': 88239.99718076413, 't_anc': 468979.6450238979, 'p_pulse': 0.06763686225676241, 't_pulse': 37185.94674670995, 't_ghost': 50001.59021941096})\n     status: 1\n    success: True\n          x: array([ 1.62315170e+01,  1.00000000e-03,  7.82399972e+04,  3.80739648e+05,\n       -2.62356924e+00, -3.16953970e-01, -1.24817018e+01])"
      ]
     },
     "execution_count": 23,
     "metadata": {},
     "output_type": "execute_result"
    }
   ],
   "source": [
    "# full gradient descent\n",
    "add_pulse_model.optimize(method=\"TNC\")"
   ]
  },
  {
   "cell_type": "code",
   "execution_count": 24,
   "metadata": {
    "autoscroll": false,
    "collapsed": false,
    "ein.tags": "worksheet-0",
    "slideshow": {
     "slide_type": "-"
    }
   },
   "outputs": [
    {
     "data": {
      "image/png": "[encoded data removed]",
      "text/plain": [
       "<matplotlib.figure.Figure at 0x7fa5b53b9f60>"
      ]
     },
     "metadata": {},
     "output_type": "display_data"
    }
   ],
   "source": [
    "# plot the model\n",
    "add_pulse_model.draw([\"YRI\", \"CHB\", \"GhostNea\", \"NEA\"], linthreshy=1e5, figsize=(6,8), yticks=[1e4, 2.5e4, 5e4, 7.5e4, 1e5, 2.5e5, 5e5, 7.5e5]) "
   ]
  },
  {
   "cell_type": "code",
   "execution_count": 26,
   "metadata": {
    "autoscroll": false,
    "collapsed": false,
    "ein.tags": "worksheet-0",
    "slideshow": {
     "slide_type": "-"
    }
   },
   "outputs": [
    {
     "name": "stdout",
     "output_type": "stream",
     "text": [
      "Automatic pdb calling has been turned OFF\n"
     ]
    }
   ],
   "source": [
    "%pdb"
   ]
  },
  {
   "cell_type": "code",
   "execution_count": 27,
   "metadata": {
    "autoscroll": false,
    "collapsed": false,
    "ein.tags": "worksheet-0",
    "scrolled": true,
    "slideshow": {
     "slide_type": "-"
    }
   },
   "outputs": [
    {
     "name": "stdout",
     "output_type": "stream",
     "text": [
      "0\n"
     ]
    },
    {
     "name": "stdout",
     "output_type": "stream",
     "text": [
      "1\n"
     ]
    },
    {
     "name": "stdout",
     "output_type": "stream",
     "text": [
      "2\n"
     ]
    },
    {
     "name": "stdout",
     "output_type": "stream",
     "text": [
      "3\n"
     ]
    },
    {
     "name": "stdout",
     "output_type": "stream",
     "text": [
      "4\n"
     ]
    },
    {
     "name": "stdout",
     "output_type": "stream",
     "text": [
      "5\n"
     ]
    },
    {
     "name": "stdout",
     "output_type": "stream",
     "text": [
      "6\n"
     ]
    },
    {
     "name": "stdout",
     "output_type": "stream",
     "text": [
      "7\n"
     ]
    },
    {
     "name": "stdout",
     "output_type": "stream",
     "text": [
      "8\n"
     ]
    },
    {
     "name": "stdout",
     "output_type": "stream",
     "text": [
      "9\n"
     ]
    },
    {
     "name": "stdout",
     "output_type": "stream",
     "text": [
      "10\n"
     ]
    },
    {
     "name": "stdout",
     "output_type": "stream",
     "text": [
      "11\n"
     ]
    },
    {
     "name": "stdout",
     "output_type": "stream",
     "text": [
      "12\n"
     ]
    },
    {
     "name": "stdout",
     "output_type": "stream",
     "text": [
      "13\n"
     ]
    },
    {
     "name": "stdout",
     "output_type": "stream",
     "text": [
      "14\n"
     ]
    },
    {
     "name": "stdout",
     "output_type": "stream",
     "text": [
      "15\n"
     ]
    },
    {
     "name": "stdout",
     "output_type": "stream",
     "text": [
      "16\n"
     ]
    },
    {
     "name": "stdout",
     "output_type": "stream",
     "text": [
      "17\n"
     ]
    },
    {
     "name": "stdout",
     "output_type": "stream",
     "text": [
      "18\n"
     ]
    },
    {
     "name": "stdout",
     "output_type": "stream",
     "text": [
      "19\n"
     ]
    }
   ],
   "source": [
    "## generate nonparametric bootstrap datasets\n",
    "\n",
    "n_bootstraps = 20\n",
    "bootstrap_mles = []\n",
    "\n",
    "# split dataset into 100 equally sized blocks to resample\n",
    "chunked_data = data.chunk_data(100)\n",
    "\n",
    "#bootstrap_model = add_pulse_model.copy()\n",
    "model2_copy = model2.copy()\n",
    "add_pulse_copy = add_pulse_model.copy()\n",
    "for bootstrap_it in range(n_bootstraps):\n",
    "    print(bootstrap_it)\n",
    "    # bootstrap resample blocks\n",
    "    bootstrap_data = chunked_data.resample_chunks()\n",
    "    model2_copy.set_data(bootstrap_data)\n",
    "    add_pulse_copy.set_data(bootstrap_data)\n",
    "    \n",
    "    model2_copy.set_params(randomize=True)\n",
    "    model2_copy.optimize()\n",
    "    add_pulse_copy.set_params(model2_copy.get_params(), randomize=True)\n",
    "    add_pulse_copy.optimize()\n",
    "\n",
    "    #bootstrap_model.set_data(bootstrap_data)\n",
    "    #bootstrap_model.set_random_parameters()\n",
    "    #bootstrap_model.optimize()\n",
    "    # TODO use get_params() instead of get_x()\n",
    "    bootstrap_mles.append(add_pulse_copy.get_x())"
   ]
  },
  {
   "cell_type": "code",
   "execution_count": 29,
   "metadata": {
    "autoscroll": false,
    "collapsed": false,
    "ein.tags": "worksheet-0",
    "slideshow": {
     "slide_type": "-"
    }
   },
   "outputs": [
    {
     "ename": "AttributeError",
     "evalue": "'NoneType' object has no attribute 'ax'",
     "output_type": "error",
     "traceback": [
      "\u001b[0;31m---------------------------------------------------------------------------\u001b[0m",
      "\u001b[0;31mAttributeError\u001b[0m                            Traceback (most recent call last)",
      "\u001b[0;32m<ipython-input-29-38cb19362e7a>\u001b[0m in \u001b[0;36m<module>\u001b[0;34m()\u001b[0m\n\u001b[1;32m      2\u001b[0m                                      \u001b[0mfigsize\u001b[0m\u001b[0;34m=\u001b[0m\u001b[0;34m(\u001b[0m\u001b[0;36m8\u001b[0m\u001b[0;34m,\u001b[0m\u001b[0;36m10\u001b[0m\u001b[0;34m)\u001b[0m\u001b[0;34m,\u001b[0m\u001b[0;34m\u001b[0m\u001b[0m\n\u001b[1;32m      3\u001b[0m                                      \u001b[0myticks\u001b[0m\u001b[0;34m=\u001b[0m\u001b[0;34m[\u001b[0m\u001b[0;36m1e4\u001b[0m\u001b[0;34m,\u001b[0m \u001b[0;36m2.5e4\u001b[0m\u001b[0;34m,\u001b[0m \u001b[0;36m5e4\u001b[0m\u001b[0;34m,\u001b[0m \u001b[0;36m7.5e4\u001b[0m\u001b[0;34m,\u001b[0m \u001b[0;36m1e5\u001b[0m\u001b[0;34m,\u001b[0m \u001b[0;36m2.5e5\u001b[0m\u001b[0;34m,\u001b[0m \u001b[0;36m5e5\u001b[0m\u001b[0;34m,\u001b[0m \u001b[0;36m7.5e5\u001b[0m\u001b[0;34m]\u001b[0m\u001b[0;34m,\u001b[0m\u001b[0;34m\u001b[0m\u001b[0m\n\u001b[0;32m----> 4\u001b[0;31m                                      linthreshy=1e5, p_min=0, p_max=1) \n\u001b[0m",
      "\u001b[0;32m~/Source/private/momi_projects/momi2/momi/demo_model.py\u001b[0m in \u001b[0;36mdraw_with_bootstraps\u001b[0;34m(self, bootstrap_x, pop_x_positions, figsize, yticks, linthreshy, minor_yticks, major_yticks, p_min, p_max, p_cmap, p_rad, p_rad_rand, factr)\u001b[0m\n\u001b[1;32m    104\u001b[0m \u001b[0;34m\u001b[0m\u001b[0m\n\u001b[1;32m    105\u001b[0m         \u001b[0;32mif\u001b[0m \u001b[0mlinthreshy\u001b[0m\u001b[0;34m:\u001b[0m\u001b[0;34m\u001b[0m\u001b[0m\n\u001b[0;32m--> 106\u001b[0;31m             \u001b[0mdemo_plt\u001b[0m\u001b[0;34m.\u001b[0m\u001b[0max\u001b[0m\u001b[0;34m.\u001b[0m\u001b[0mset_yscale\u001b[0m\u001b[0;34m(\u001b[0m\u001b[0;34m'symlog'\u001b[0m\u001b[0;34m,\u001b[0m \u001b[0mlinthreshy\u001b[0m\u001b[0;34m=\u001b[0m\u001b[0mlinthreshy\u001b[0m\u001b[0;34m)\u001b[0m\u001b[0;34m\u001b[0m\u001b[0m\n\u001b[0m\u001b[1;32m    107\u001b[0m         \u001b[0;32mif\u001b[0m \u001b[0mminor_yticks\u001b[0m\u001b[0;34m:\u001b[0m\u001b[0;34m\u001b[0m\u001b[0m\n\u001b[1;32m    108\u001b[0m             \u001b[0mdemo_plt\u001b[0m\u001b[0;34m.\u001b[0m\u001b[0max\u001b[0m\u001b[0;34m.\u001b[0m\u001b[0mset_yticks\u001b[0m\u001b[0;34m(\u001b[0m\u001b[0mminor_yticks\u001b[0m\u001b[0;34m,\u001b[0m \u001b[0mminor\u001b[0m\u001b[0;34m=\u001b[0m\u001b[0;32mTrue\u001b[0m\u001b[0;34m)\u001b[0m\u001b[0;34m\u001b[0m\u001b[0m\n",
      "\u001b[0;31mAttributeError\u001b[0m: 'NoneType' object has no attribute 'ax'"
     ]
    },
    {
     "data": {
      "image/png": "[encoded data removed]",
      "text/plain": [
       "<matplotlib.figure.Figure at 0x7fa5b3918f98>"
      ]
     },
     "metadata": {},
     "output_type": "display_data"
    },
    {
     "ename": "AttributeError",
     "evalue": "'NoneType' object has no attribute 'ax'",
     "output_type": "error",
     "traceback": [
      "\u001b[0;31m---------------------------------------------------------------------------\u001b[0m",
      "\u001b[0;31mAttributeError\u001b[0m                            Traceback (most recent call last)",
      "\u001b[0;32m<ipython-input-29-38cb19362e7a>\u001b[0m in \u001b[0;36m<module>\u001b[0;34m()\u001b[0m\n\u001b[1;32m      2\u001b[0m                                      \u001b[0mfigsize\u001b[0m\u001b[0;34m=\u001b[0m\u001b[0;34m(\u001b[0m\u001b[0;36m8\u001b[0m\u001b[0;34m,\u001b[0m\u001b[0;36m10\u001b[0m\u001b[0;34m)\u001b[0m\u001b[0;34m,\u001b[0m\u001b[0;34m\u001b[0m\u001b[0m\n\u001b[1;32m      3\u001b[0m                                      \u001b[0myticks\u001b[0m\u001b[0;34m=\u001b[0m\u001b[0;34m[\u001b[0m\u001b[0;36m1e4\u001b[0m\u001b[0;34m,\u001b[0m \u001b[0;36m2.5e4\u001b[0m\u001b[0;34m,\u001b[0m \u001b[0;36m5e4\u001b[0m\u001b[0;34m,\u001b[0m \u001b[0;36m7.5e4\u001b[0m\u001b[0;34m,\u001b[0m \u001b[0;36m1e5\u001b[0m\u001b[0;34m,\u001b[0m \u001b[0;36m2.5e5\u001b[0m\u001b[0;34m,\u001b[0m \u001b[0;36m5e5\u001b[0m\u001b[0;34m,\u001b[0m \u001b[0;36m7.5e5\u001b[0m\u001b[0;34m]\u001b[0m\u001b[0;34m,\u001b[0m\u001b[0;34m\u001b[0m\u001b[0m\n\u001b[0;32m----> 4\u001b[0;31m                                      linthreshy=1e5, p_min=0, p_max=1) \n\u001b[0m",
      "\u001b[0;32m~/Source/private/momi_projects/momi2/momi/demo_model.py\u001b[0m in \u001b[0;36mdraw_with_bootstraps\u001b[0;34m(self, bootstrap_x, pop_x_positions, figsize, yticks, linthreshy, minor_yticks, major_yticks, p_min, p_max, p_cmap, p_rad, p_rad_rand, factr)\u001b[0m\n\u001b[1;32m    104\u001b[0m \u001b[0;34m\u001b[0m\u001b[0m\n\u001b[1;32m    105\u001b[0m         \u001b[0;32mif\u001b[0m \u001b[0mlinthreshy\u001b[0m\u001b[0;34m:\u001b[0m\u001b[0;34m\u001b[0m\u001b[0m\n\u001b[0;32m--> 106\u001b[0;31m             \u001b[0mdemo_plt\u001b[0m\u001b[0;34m.\u001b[0m\u001b[0max\u001b[0m\u001b[0;34m.\u001b[0m\u001b[0mset_yscale\u001b[0m\u001b[0;34m(\u001b[0m\u001b[0;34m'symlog'\u001b[0m\u001b[0;34m,\u001b[0m \u001b[0mlinthreshy\u001b[0m\u001b[0;34m=\u001b[0m\u001b[0mlinthreshy\u001b[0m\u001b[0;34m)\u001b[0m\u001b[0;34m\u001b[0m\u001b[0m\n\u001b[0m\u001b[1;32m    107\u001b[0m         \u001b[0;32mif\u001b[0m \u001b[0mminor_yticks\u001b[0m\u001b[0;34m:\u001b[0m\u001b[0;34m\u001b[0m\u001b[0m\n\u001b[1;32m    108\u001b[0m             \u001b[0mdemo_plt\u001b[0m\u001b[0;34m.\u001b[0m\u001b[0max\u001b[0m\u001b[0;34m.\u001b[0m\u001b[0mset_yticks\u001b[0m\u001b[0;34m(\u001b[0m\u001b[0mminor_yticks\u001b[0m\u001b[0;34m,\u001b[0m \u001b[0mminor\u001b[0m\u001b[0;34m=\u001b[0m\u001b[0;32mTrue\u001b[0m\u001b[0;34m)\u001b[0m\u001b[0;34m\u001b[0m\u001b[0m\n",
      "\u001b[0;31mAttributeError\u001b[0m: 'NoneType' object has no attribute 'ax'"
     ]
    }
   ],
   "source": [
    "add_pulse_model.draw_with_bootstraps(bootstrap_mles, [\"YRI\", \"CHB\", \"GhostNea\", \"NEA\"],\n",
    "                                     figsize=(8,10),\n",
    "                                     yticks=[1e4, 2.5e4, 5e4, 7.5e4, 1e5, 2.5e5, 5e5, 7.5e5],\n",
    "                                     linthreshy=1e5, p_min=0, p_max=1) "
   ]
  },
  {
   "cell_type": "code",
   "execution_count": null,
   "metadata": {
    "autoscroll": false,
    "collapsed": false,
    "ein.tags": "worksheet-0",
    "slideshow": {
     "slide_type": "-"
    }
   },
   "outputs": [
    {
     "ename": "TypeError",
     "evalue": "_demo_plotter() got multiple values for argument 'additional_times'",
     "output_type": "error",
     "traceback": [
      "\u001b[0;31m---------------------------------------------------------------------------\u001b[0m",
      "\u001b[0;31mTypeError\u001b[0m                                 Traceback (most recent call last)",
      "\u001b[0;32m<ipython-input-29-baa8b281ef40>\u001b[0m in \u001b[0;36m<module>\u001b[0;34m()\u001b[0m\n\u001b[1;32m      3\u001b[0m add_pulse_model.draw_with_bootstraps(bootstrap_mles,\n\u001b[1;32m      4\u001b[0m                                      \u001b[0;34m[\u001b[0m\u001b[0;34m\"YRI\"\u001b[0m\u001b[0;34m,\u001b[0m \u001b[0;34m\"CHB\"\u001b[0m\u001b[0;34m,\u001b[0m \u001b[0;34m\"GhostNea\"\u001b[0m\u001b[0;34m,\u001b[0m \u001b[0;34m\"NEA\"\u001b[0m\u001b[0;34m]\u001b[0m\u001b[0;34m,\u001b[0m\u001b[0;34m\u001b[0m\u001b[0m\n\u001b[0;32m----> 5\u001b[0;31m                                      linthreshy=1e5, p_min=0, p_max=1)\n\u001b[0m\u001b[1;32m      6\u001b[0m \u001b[0mplt\u001b[0m\u001b[0;34m.\u001b[0m\u001b[0mgca\u001b[0m\u001b[0;34m(\u001b[0m\u001b[0;34m)\u001b[0m\u001b[0;34m.\u001b[0m\u001b[0mset_yticks\u001b[0m\u001b[0;34m(\u001b[0m\u001b[0;34m[\u001b[0m\u001b[0;36m1e4\u001b[0m\u001b[0;34m,\u001b[0m \u001b[0;36m2.5e4\u001b[0m\u001b[0;34m,\u001b[0m \u001b[0;36m5e4\u001b[0m\u001b[0;34m,\u001b[0m \u001b[0;36m7.5e4\u001b[0m\u001b[0;34m,\u001b[0m \u001b[0;36m1e5\u001b[0m\u001b[0;34m,\u001b[0m \u001b[0;36m2.5e5\u001b[0m\u001b[0;34m,\u001b[0m \u001b[0;36m5e5\u001b[0m\u001b[0;34m,\u001b[0m \u001b[0;36m7.5e5\u001b[0m\u001b[0;34m]\u001b[0m\u001b[0;34m)\u001b[0m\u001b[0;34m\u001b[0m\u001b[0m\n",
      "\u001b[0;32m~/Source/private/momi_projects/momi2/momi/demo_model.py\u001b[0m in \u001b[0;36mdraw_with_bootstraps\u001b[0;34m(self, bootstrap_x, pop_x_positions, linthreshy, minor_yticks, major_yticks, p_min, p_max, p_cmap, p_rad, p_rad_rand, additional_times, factr)\u001b[0m\n\u001b[1;32m    101\u001b[0m         demo_plt = self.draw(pop_x_positions, additional_times=additional_times,\n\u001b[1;32m    102\u001b[0m                              \u001b[0mx_leafs_only\u001b[0m\u001b[0;34m=\u001b[0m\u001b[0;32mTrue\u001b[0m\u001b[0;34m,\u001b[0m \u001b[0mtree_only\u001b[0m\u001b[0;34m=\u001b[0m\u001b[0;32mTrue\u001b[0m\u001b[0;34m,\u001b[0m \u001b[0malpha\u001b[0m\u001b[0;34m=\u001b[0m\u001b[0;36m0\u001b[0m\u001b[0;34m,\u001b[0m\u001b[0;34m\u001b[0m\u001b[0m\n\u001b[0;32m--> 103\u001b[0;31m                              cm_scalar_mappable=cm_scalar_mappable)\n\u001b[0m\u001b[1;32m    104\u001b[0m \u001b[0;34m\u001b[0m\u001b[0m\n\u001b[1;32m    105\u001b[0m         \u001b[0;32mif\u001b[0m \u001b[0mlinthreshy\u001b[0m\u001b[0;34m:\u001b[0m\u001b[0;34m\u001b[0m\u001b[0m\n",
      "\u001b[0;32m~/Source/private/momi_projects/momi2/momi/demo_model.py\u001b[0m in \u001b[0;36mdraw\u001b[0;34m(self, pop_x_positions, figsize, yticks, tree_only, rad, legend_kwargs, xlab_rotation, x_leafs_only, pop_marker_kwargs, adjust_pulse_labels, add_to_existing, cm_scalar_mappable, alpha, **kwargs)\u001b[0m\n\u001b[1;32m     85\u001b[0m             \u001b[0mpop_marker_kwargs\u001b[0m\u001b[0;34m=\u001b[0m\u001b[0mpop_marker_kwargs\u001b[0m\u001b[0;34m,\u001b[0m\u001b[0;34m\u001b[0m\u001b[0m\n\u001b[1;32m     86\u001b[0m             \u001b[0madjust_pulse_labels\u001b[0m\u001b[0;34m=\u001b[0m\u001b[0madjust_pulse_labels\u001b[0m\u001b[0;34m,\u001b[0m\u001b[0;34m\u001b[0m\u001b[0m\n\u001b[0;32m---> 87\u001b[0;31m             ax=ax, min_N=min_N, cm_scalar_mappable=cm_scalar_mappable, alpha=alpha, **kwargs)\n\u001b[0m\u001b[1;32m     88\u001b[0m         \u001b[0mdemo_plt\u001b[0m\u001b[0;34m.\u001b[0m\u001b[0mdraw\u001b[0m\u001b[0;34m(\u001b[0m\u001b[0mtree_only\u001b[0m\u001b[0;34m=\u001b[0m\u001b[0mtree_only\u001b[0m\u001b[0;34m,\u001b[0m \u001b[0mrad\u001b[0m\u001b[0;34m=\u001b[0m\u001b[0mrad\u001b[0m\u001b[0;34m,\u001b[0m \u001b[0mno_ticks_legend\u001b[0m\u001b[0;34m=\u001b[0m\u001b[0mno_ticks_legend\u001b[0m\u001b[0;34m)\u001b[0m\u001b[0;34m\u001b[0m\u001b[0m\n\u001b[1;32m     89\u001b[0m \u001b[0;34m\u001b[0m\u001b[0m\n",
      "\u001b[0;31mTypeError\u001b[0m: _demo_plotter() got multiple values for argument 'additional_times'"
     ]
    },
    {
     "data": {
      "text/plain": [
       "<matplotlib.figure.Figure at 0x7f7f26497c50>"
      ]
     },
     "metadata": {},
     "output_type": "display_data"
    },
    {
     "ename": "TypeError",
     "evalue": "_demo_plotter() got multiple values for argument 'additional_times'",
     "output_type": "error",
     "traceback": [
      "\u001b[0;31m---------------------------------------------------------------------------\u001b[0m",
      "\u001b[0;31mTypeError\u001b[0m                                 Traceback (most recent call last)",
      "\u001b[0;32m<ipython-input-29-baa8b281ef40>\u001b[0m in \u001b[0;36m<module>\u001b[0;34m()\u001b[0m\n\u001b[1;32m      3\u001b[0m add_pulse_model.draw_with_bootstraps(bootstrap_mles,\n\u001b[1;32m      4\u001b[0m                                      \u001b[0;34m[\u001b[0m\u001b[0;34m\"YRI\"\u001b[0m\u001b[0;34m,\u001b[0m \u001b[0;34m\"CHB\"\u001b[0m\u001b[0;34m,\u001b[0m \u001b[0;34m\"GhostNea\"\u001b[0m\u001b[0;34m,\u001b[0m \u001b[0;34m\"NEA\"\u001b[0m\u001b[0;34m]\u001b[0m\u001b[0;34m,\u001b[0m\u001b[0;34m\u001b[0m\u001b[0m\n\u001b[0;32m----> 5\u001b[0;31m                                      linthreshy=1e5, p_min=0, p_max=1)\n\u001b[0m\u001b[1;32m      6\u001b[0m \u001b[0mplt\u001b[0m\u001b[0;34m.\u001b[0m\u001b[0mgca\u001b[0m\u001b[0;34m(\u001b[0m\u001b[0;34m)\u001b[0m\u001b[0;34m.\u001b[0m\u001b[0mset_yticks\u001b[0m\u001b[0;34m(\u001b[0m\u001b[0;34m[\u001b[0m\u001b[0;36m1e4\u001b[0m\u001b[0;34m,\u001b[0m \u001b[0;36m2.5e4\u001b[0m\u001b[0;34m,\u001b[0m \u001b[0;36m5e4\u001b[0m\u001b[0;34m,\u001b[0m \u001b[0;36m7.5e4\u001b[0m\u001b[0;34m,\u001b[0m \u001b[0;36m1e5\u001b[0m\u001b[0;34m,\u001b[0m \u001b[0;36m2.5e5\u001b[0m\u001b[0;34m,\u001b[0m \u001b[0;36m5e5\u001b[0m\u001b[0;34m,\u001b[0m \u001b[0;36m7.5e5\u001b[0m\u001b[0;34m]\u001b[0m\u001b[0;34m)\u001b[0m\u001b[0;34m\u001b[0m\u001b[0m\n",
      "\u001b[0;32m~/Source/private/momi_projects/momi2/momi/demo_model.py\u001b[0m in \u001b[0;36mdraw_with_bootstraps\u001b[0;34m(self, bootstrap_x, pop_x_positions, linthreshy, minor_yticks, major_yticks, p_min, p_max, p_cmap, p_rad, p_rad_rand, additional_times, factr)\u001b[0m\n\u001b[1;32m    101\u001b[0m         demo_plt = self.draw(pop_x_positions, additional_times=additional_times,\n\u001b[1;32m    102\u001b[0m                              \u001b[0mx_leafs_only\u001b[0m\u001b[0;34m=\u001b[0m\u001b[0;32mTrue\u001b[0m\u001b[0;34m,\u001b[0m \u001b[0mtree_only\u001b[0m\u001b[0;34m=\u001b[0m\u001b[0;32mTrue\u001b[0m\u001b[0;34m,\u001b[0m \u001b[0malpha\u001b[0m\u001b[0;34m=\u001b[0m\u001b[0;36m0\u001b[0m\u001b[0;34m,\u001b[0m\u001b[0;34m\u001b[0m\u001b[0m\n\u001b[0;32m--> 103\u001b[0;31m                              cm_scalar_mappable=cm_scalar_mappable)\n\u001b[0m\u001b[1;32m    104\u001b[0m \u001b[0;34m\u001b[0m\u001b[0m\n\u001b[1;32m    105\u001b[0m         \u001b[0;32mif\u001b[0m \u001b[0mlinthreshy\u001b[0m\u001b[0;34m:\u001b[0m\u001b[0;34m\u001b[0m\u001b[0m\n",
      "\u001b[0;32m~/Source/private/momi_projects/momi2/momi/demo_model.py\u001b[0m in \u001b[0;36mdraw\u001b[0;34m(self, pop_x_positions, figsize, yticks, tree_only, rad, legend_kwargs, xlab_rotation, x_leafs_only, pop_marker_kwargs, adjust_pulse_labels, add_to_existing, cm_scalar_mappable, alpha, **kwargs)\u001b[0m\n\u001b[1;32m     85\u001b[0m             \u001b[0mpop_marker_kwargs\u001b[0m\u001b[0;34m=\u001b[0m\u001b[0mpop_marker_kwargs\u001b[0m\u001b[0;34m,\u001b[0m\u001b[0;34m\u001b[0m\u001b[0m\n\u001b[1;32m     86\u001b[0m             \u001b[0madjust_pulse_labels\u001b[0m\u001b[0;34m=\u001b[0m\u001b[0madjust_pulse_labels\u001b[0m\u001b[0;34m,\u001b[0m\u001b[0;34m\u001b[0m\u001b[0m\n\u001b[0;32m---> 87\u001b[0;31m             ax=ax, min_N=min_N, cm_scalar_mappable=cm_scalar_mappable, alpha=alpha, **kwargs)\n\u001b[0m\u001b[1;32m     88\u001b[0m         \u001b[0mdemo_plt\u001b[0m\u001b[0;34m.\u001b[0m\u001b[0mdraw\u001b[0m\u001b[0;34m(\u001b[0m\u001b[0mtree_only\u001b[0m\u001b[0;34m=\u001b[0m\u001b[0mtree_only\u001b[0m\u001b[0;34m,\u001b[0m \u001b[0mrad\u001b[0m\u001b[0;34m=\u001b[0m\u001b[0mrad\u001b[0m\u001b[0;34m,\u001b[0m \u001b[0mno_ticks_legend\u001b[0m\u001b[0;34m=\u001b[0m\u001b[0mno_ticks_legend\u001b[0m\u001b[0;34m)\u001b[0m\u001b[0;34m\u001b[0m\u001b[0m\n\u001b[1;32m     89\u001b[0m \u001b[0;34m\u001b[0m\u001b[0m\n",
      "\u001b[0;31mTypeError\u001b[0m: _demo_plotter() got multiple values for argument 'additional_times'"
     ]
    }
   ],
   "source": [
    "from matplotlib import pyplot as plt\n",
    "plt.figure(figsize=(8,10))\n",
    "add_pulse_model.draw_with_bootstraps(bootstrap_mles,\n",
    "                                     [\"YRI\", \"CHB\", \"GhostNea\", \"NEA\"], \n",
    "                                     linthreshy=1e5, p_min=0, p_max=1)\n",
    "plt.gca().set_yticks([1e4, 2.5e4, 5e4, 7.5e4, 1e5, 2.5e5, 5e5, 7.5e5])"
   ]
  },
  {
   "cell_type": "code",
   "execution_count": null,
   "metadata": {
    "autoscroll": false,
    "collapsed": false,
    "ein.tags": "worksheet-0",
    "slideshow": {
     "slide_type": "-"
    }
   },
   "outputs": [
    {
     "name": "stderr",
     "output_type": "stream",
     "text": [
      "/home/jack/pythonpath/momi/demo_plotter.py:35: RuntimeWarning: invalid value encountered in double_scalars\n",
      "  -self.curr_g * (nxt_t - self.curr_t))\n"
     ]
    },
    {
     "data": {
      "text/plain": [
       "[<matplotlib.axis.YTick at 0x7f82e1a6e3c8>,\n",
       " <matplotlib.axis.YTick at 0x7f82e1a58c88>,\n",
       " <matplotlib.axis.YTick at 0x7f82e1a7b518>,\n",
       " <matplotlib.axis.YTick at 0x7f82e1a859b0>,\n",
       " <matplotlib.axis.YTick at 0x7f82e1aa53c8>,\n",
       " <matplotlib.axis.YTick at 0x7f82e1aa5da0>,\n",
       " <matplotlib.axis.YTick at 0x7f82e1aa37b8>]"
      ]
     },
     "execution_count": 23,
     "metadata": {},
     "output_type": "execute_result"
    },
    {
     "data": {
      "image/png": "[encoded data removed]",
      "text/plain": [
       "<matplotlib.figure.Figure at 0x7f82e1a82940>"
      ]
     },
     "metadata": {},
     "output_type": "display_data"
    }
   ],
   "source": [
    "plt.figure(figsize=(8,10))\n",
    "add_pulse_model.draw_with_bootstraps(bootstrap_mles,\n",
    "                                     [\"YRI\", \"CHB\", \"GhostNea\", \"NEA\"], \n",
    "                                     linthreshy=1e5, p_min=0, p_max=1)\n",
    "plt.gca().set_yticks([1e4, 2.5e4, 5e4, 7.5e4, 1e5, 2.5e5, 5e5])"
   ]
  }
 ],
 "metadata": {
  "kernelspec": {
   "display_name": "momi2-gAXri9wX",
   "name": "momi2-gaxri9wx"
  },
  "language_info": {
   "codemirror_mode": {
    "name": "ipython",
    "version": 3
   },
   "file_extension": ".py",
   "mimetype": "text/x-python",
   "name": "python",
   "nbconvert_exporter": "python",
   "pygments_lexer": "ipython3",
   "version": "3.6.4"
  },
  "name": "tutorial.ipynb"
 },
 "nbformat": 4,
 "nbformat_minor": 2
}
