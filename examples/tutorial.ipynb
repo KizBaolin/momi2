{
 "cells": [
  {
   "cell_type": "markdown",
   "metadata": {
    "ein.tags": "worksheet-0",
    "slideshow": {
     "slide_type": "-"
    }
   },
   "source": [
    "# Tutorial"
   ]
  },
  {
   "cell_type": "markdown",
   "metadata": {
    "ein.tags": "worksheet-0",
    "slideshow": {
     "slide_type": "-"
    }
   },
   "source": [
    "This is a tutorial for the `momi` package. You can run the ipython notebook that created this tutorial at `examples/tutorial.ipynb`.\n",
    "\n",
    "To get started, import the `momi` package:"
   ]
  },
  {
   "cell_type": "code",
   "execution_count": 1,
   "metadata": {
    "autoscroll": false,
    "collapsed": false,
    "ein.tags": "worksheet-0",
    "slideshow": {
     "slide_type": "-"
    }
   },
   "outputs": [],
   "source": [
    "import momi"
   ]
  },
  {
   "cell_type": "markdown",
   "metadata": {
    "ein.tags": "worksheet-0",
    "slideshow": {
     "slide_type": "-"
    }
   },
   "source": [
    "Some `momi` operations can take awhile complete, so it is useful to turn on status monitoring messages to check that everything is running normally. Here, we output logging messages to the file `tutorial.log`. See the [logging](https://docs.python.org/3/library/logging.html) module for more details."
   ]
  },
  {
   "cell_type": "code",
   "execution_count": 2,
   "metadata": {
    "autoscroll": false,
    "collapsed": false,
    "ein.tags": "worksheet-0",
    "slideshow": {
     "slide_type": "-"
    }
   },
   "outputs": [],
   "source": [
    "import logging\n",
    "logging.basicConfig(level=logging.INFO, filename=\"tutorial.log\")"
   ]
  },
  {
   "cell_type": "markdown",
   "metadata": {
    "ein.tags": "worksheet-0",
    "slideshow": {
     "slide_type": "-"
    }
   },
   "source": [
    "## Constructing a demographic history\n",
    "\n",
    "We will construct a demographic model loosely based on human history. To start, we need to specify `N_e`, which is the size of each population unless explicitly specified otherwise, and `gen_time`, the amount of time per generation.\n",
    "\n",
    "(TODO is `N_e` diploid or haploid???)\n",
    "\n",
    "We will measure time in years; the human generation time is approximately `gen_time=29` years per generation. The human effective population size is typically measured as $1.2 \\times 10^{4}$ so we set `N_e=1.2e4`.\n",
    "\n",
    "(Note the population size here is NOT the census size, but the population genetics concept of [effective population size](https://en.wikipedia.org/wiki/Effective_population_size) or $N_e$)."
   ]
  },
  {
   "cell_type": "code",
   "execution_count": 3,
   "metadata": {
    "autoscroll": false,
    "collapsed": false,
    "ein.tags": "worksheet-0",
    "slideshow": {
     "slide_type": "-"
    }
   },
   "outputs": [],
   "source": [
    "model = momi.DemographicModel(N_e=1.2e4, gen_time=29)"
   ]
  },
  {
   "cell_type": "markdown",
   "metadata": {
    "ein.tags": "worksheet-0",
    "slideshow": {
     "slide_type": "-"
    }
   },
   "source": [
    "We now specify the sampled (\"leaf\") populations of our demography. We specify three populations: YRI, CHB, and NEA. YRI and CHB are present-day populations at $t=0$, while NEA is an archaic population from $t=50,000$ years ago. We set YRI and NEA to have the default population sizes, and set CHB to have a size of $N=100,000$ growing at rate $.0005$ per year.\n",
    "\n",
    "TODO check is growth rate g or g/2"
   ]
  },
  {
   "cell_type": "code",
   "execution_count": 4,
   "metadata": {
    "autoscroll": false,
    "collapsed": false,
    "ein.tags": "worksheet-0",
    "slideshow": {
     "slide_type": "-"
    }
   },
   "outputs": [],
   "source": [
    "# add YRI leaf at t=0 and default_N\n",
    "model.add_leaf(\"YRI\")\n",
    "# add  CHB leaf at t=0, N=1e5, growing at rate 5e-4 per unit time (year)\n",
    "model.add_leaf(\"CHB\", N=1e5, g=5e-4)\n",
    "# add NEA leaf at 50kya\n",
    "model.add_leaf(\"NEA\", t=5e4) "
   ]
  },
  {
   "cell_type": "markdown",
   "metadata": {
    "ein.tags": "worksheet-0",
    "slideshow": {
     "slide_type": "-"
    }
   },
   "source": [
    "Demographic events are added to the model by the methods `set_size()` and `move_lineages()`. `set_size()` is used to change population size and growth rate, while `move_lineages()` is used for population split and admixture events. "
   ]
  },
  {
   "cell_type": "code",
   "execution_count": 5,
   "metadata": {
    "autoscroll": false,
    "collapsed": false,
    "ein.tags": "worksheet-0",
    "slideshow": {
     "slide_type": "-"
    }
   },
   "outputs": [],
   "source": [
    "# stop CHB growth at 10kya\n",
    "model.set_size(\"CHB\", g=0, t=1e4)\n",
    "\n",
    "# at 45kya CHB receive a 3% pulse from GhostNea\n",
    "model.move_lineages(\"CHB\", \"GhostNea\", t=4.5e4, p=.03)\n",
    "# at 55kya GhostNea joins onto NEA\n",
    "model.move_lineages(\"GhostNea\", \"NEA\", t=5.5e4)\n",
    "\n",
    "# at 80 kya CHB goes thru bottleneck\n",
    "model.set_size(\"CHB\", N=100, t=8e4)\n",
    "# at 85 kya CHB joins onto YRI\n",
    "model.move_lineages(\"CHB\", \"YRI\", t=8.5e4)\n",
    "\n",
    "# at 500 kya YRI joins onto NEA\n",
    "model.move_lineages(\"YRI\", \"NEA\", t=5e5)"
   ]
  },
  {
   "cell_type": "markdown",
   "metadata": {
    "ein.tags": "worksheet-0",
    "slideshow": {
     "slide_type": "-"
    }
   },
   "source": [
    "If you are familiar with the software [ms](http://home.uchicago.edu/rhudson1/source/mksamples.html), `set_size()` is analogous to the flags \"-en\" and \"-eg\", while `move_lineages()` is analogous to the flags \"-ej\" and \"-es\". If you are familiar with the package [msprime](https://msprime.readthedocs.io/en/stable/), then `set_size()` is analogous to `msprime.PopulationParametersChange`, while `move_lineages()` is analogous to `msprime.MassMigration`.\n",
    "\n",
    "Note that events can involve other populations aside from the 3 sampled populations YRI, CHB, and NEA. Unsampled populations are also known as \"ghost populations\". In this example, CHB receives a small amount of admixture from a population \"GhostNea\", which splits off from NEA at an earlier date."
   ]
  },
  {
   "cell_type": "markdown",
   "metadata": {
    "ein.tags": "worksheet-0",
    "slideshow": {
     "slide_type": "-"
    }
   },
   "source": [
    "## Plotting a demography\n"
   ]
  },
  {
   "cell_type": "code",
   "execution_count": 6,
   "metadata": {
    "autoscroll": false,
    "collapsed": false,
    "ein.tags": "worksheet-0",
    "slideshow": {
     "slide_type": "-"
    }
   },
   "outputs": [
    {
     "data": {
      "image/png": "[encoded data removed]",
      "text/plain": [
       "<matplotlib.figure.Figure at 0x7f836eccb9b0>"
      ]
     },
     "metadata": {},
     "output_type": "display_data"
    }
   ],
   "source": [
    "plt = momi.DemographyPlot(model, [\"YRI\", \"CHB\", \"GhostNea\", \"NEA\"],\n",
    "                          figsize=(6,8),\n",
    "                          major_yticks=[1e4, 2.5e4, 5e4, 7.5e4,\n",
    "                                        1e5, 2.5e5, 5e5, 7.5e5],\n",
    "                          linthreshy=1e5, pulse_bounds=(0,.25))\n",
    "plt.draw()"
   ]
  },
  {
   "cell_type": "markdown",
   "metadata": {
    "ein.tags": "worksheet-0",
    "slideshow": {
     "slide_type": "-"
    }
   },
   "source": [
    "Note the user needs to specify the order of all populations (including ghost populations) along the x-axis.\n",
    "\n",
    "The argument `linthreshy` is useful for visualizing demographic events at different scales. In our example, the split time of NEA is far above the other events. Times below `linthreshy` are plotted on a linear scale, while times above it are plotted on a log scale.\n",
    "\n",
    "### Additional plotting details\n",
    "\n",
    "If you are using Python outside a notebook environment, e.g. in a shell, then you need to call the following before making calls to `draw()`:\n",
    "\n",
    "```\n",
    "# call first if in a shell not a notebook:\n",
    "from matplotlib import pyplot as plt\n",
    "plt.ion()\n",
    "```\n",
    "\n",
    "`momi` uses [matplotlib](https://matplotlib.org/) for plotting. Users can make calls to `matplotlib` to adjust various aspects of the plotting.\n",
    "\n",
    "TODO simplify the plotting API, make it easier to interact with matplotlib"
   ]
  },
  {
   "cell_type": "markdown",
   "metadata": {
    "ein.tags": "worksheet-0",
    "slideshow": {
     "slide_type": "-"
    }
   },
   "source": [
    "## Reading and simulating data\n",
    "\n",
    "In this section we demonstrate how to read in data from a VCF file.\n",
    "\n",
    "Before we can read in a dataset we first need to create one. So we start by demonstrating how to simulate a VCF from our demography, then we read it in.\n",
    "\n",
    "### Simulating data "
   ]
  },
  {
   "cell_type": "code",
   "execution_count": 7,
   "metadata": {
    "autoscroll": false,
    "collapsed": false,
    "ein.tags": "worksheet-0",
    "slideshow": {
     "slide_type": "-"
    }
   },
   "outputs": [],
   "source": [
    "import os\n",
    "\n",
    "per_base_mut_rate = 1.25e-8\n",
    "per_base_recom_rate = 1.25e-8\n",
    "bases_per_locus = int(5e5)\n",
    "n_loci = 20\n",
    "ploidy = 2\n",
    "\n",
    "# number of alleles to sample per population\n",
    "sampled_n_dict = {\"NEA\":2, \"YRI\":4, \"CHB\":4}\n",
    "\n",
    "# create data directory if it doesn't exist\n",
    "os.makedirs(\"data\", exist_ok=True) "
   ]
  },
  {
   "cell_type": "code",
   "execution_count": 8,
   "metadata": {
    "autoscroll": false,
    "collapsed": false,
    "ein.tags": "worksheet-0",
    "slideshow": {
     "slide_type": "-"
    }
   },
   "outputs": [],
   "source": [
    "# simulate 20 \"chromosomes\", saving each in a separate gzipped vcf file\n",
    "for chrom in range(n_loci):\n",
    "      model.simulate_vcf(\n",
    "          \"data/{}.vcf.gz\".format(chrom),\n",
    "          mutation_rate=per_base_mut_rate,\n",
    "          recombination_rate=per_base_recom_rate,\n",
    "          length=bases_per_locus,\n",
    "          chrom_names=[\"chr{}\".format(chrom)],\n",
    "          ploidy=ploidy,\n",
    "          random_seed=1234+chrom,\n",
    "          sampled_n_dict=sampled_n_dict) "
   ]
  },
  {
   "cell_type": "code",
   "execution_count": 9,
   "metadata": {
    "autoscroll": false,
    "collapsed": false,
    "ein.tags": "worksheet-0",
    "slideshow": {
     "slide_type": "-"
    }
   },
   "outputs": [],
   "source": [
    "## read in data from vcf\n",
    "\n",
    "## first create a dict mapping samples to populations\n",
    "ind2pop = {}\n",
    "for pop, n in sampled_n_dict.items():\n",
    "    for i in range(int(n / ploidy)):\n",
    "        ## in the simulated vcfs, the samples are named like YRI_0, YRI_1, CHB_0, etc\n",
    "        ind2pop[\"{}_{}\".format(pop, i)] = pop\n",
    "\n",
    "# Read in each vcf in a for loop\n",
    "data = []\n",
    "for chrom in range(n_loci):\n",
    "    data.append(momi.SnpAlleleCounts.read_vcf(\"data/{}.vcf.gz\".format(chrom), ind2pop,\n",
    "                                              ancestral_alleles=True))\n",
    "\n",
    "# concatenate the 20 loci into a single dataset\n",
    "data = momi.SnpAlleleCounts.concatenate(data) "
   ]
  },
  {
   "cell_type": "code",
   "execution_count": 10,
   "metadata": {
    "autoscroll": false,
    "collapsed": false,
    "ein.tags": "worksheet-0",
    "slideshow": {
     "slide_type": "-"
    }
   },
   "outputs": [],
   "source": [
    "## dump the momi-style data to a gzipped json file\n",
    "data.dump(\"data/momi_data.json.gz\")\n",
    "\n",
    "## load the data back from the json file\n",
    "data2 = momi.SnpAlleleCounts.load(\"data/momi_data.json.gz\")\n",
    "\n",
    "assert data == data2"
   ]
  },
  {
   "cell_type": "code",
   "execution_count": 11,
   "metadata": {
    "autoscroll": false,
    "collapsed": false,
    "ein.tags": "worksheet-0",
    "slideshow": {
     "slide_type": "-"
    }
   },
   "outputs": [],
   "source": [
    "## INFERENCE\n",
    "\n",
    "## create a new model\n",
    "model2 = momi.DemographicModel(N_e=1.2e4, gen_time=29)\n",
    "\n",
    "## set the data\n",
    "model2.set_data(data,\n",
    "                # use multinomial model, unfolded SFS\n",
    "                muts_per_gen=None,\n",
    "                # splits data into 100 equally sized blocks\n",
    "                # used to compute standard deviation of f4 and other stats\n",
    "                # via block jackknife\n",
    "               n_blocks_jackknife=100)"
   ]
  },
  {
   "cell_type": "code",
   "execution_count": 12,
   "metadata": {
    "autoscroll": false,
    "collapsed": false,
    "ein.tags": "worksheet-0",
    "slideshow": {
     "slide_type": "-"
    }
   },
   "outputs": [],
   "source": [
    "## start by fitting CHB and YRI\n",
    "\n",
    "## define parameters of the model\n",
    "#model2.add_size_param(\"n_chb\", 1.2e4)\n",
    "#model2.add_growth_param(\"g_chb\", 0, lower=-1e-3, upper=1e-3)\n",
    "#model2.add_time_param(\"t_chb_yri\", 1e5, lower=1e4)\n",
    "model2.add_size_param(\"n_chb\")\n",
    "model2.add_growth_param(\"g_chb\", 0, lower=-1e-3, upper=1e-3)\n",
    "model2.add_time_param(\"t_chb_yri\", lower=1e4)\n",
    "\n",
    "## add demographic events\n",
    "model2.add_leaf(\"CHB\", N=\"n_chb\", g=\"g_chb\")\n",
    "model2.add_leaf(\"YRI\")\n",
    "model2.set_size(\"CHB\", t=1e4, g=0)\n",
    "model2.move_lineages(\"CHB\", \"YRI\", t=\"t_chb_yri\")"
   ]
  },
  {
   "cell_type": "code",
   "execution_count": 13,
   "metadata": {
    "autoscroll": false,
    "collapsed": false,
    "ein.tags": "worksheet-0",
    "slideshow": {
     "slide_type": "-"
    }
   },
   "outputs": [
    {
     "data": {
      "text/plain": [
       "        fun: 0.0012546564273718138\n        jac: array([ 1.02820235e-05, -1.16857699e-01,  1.38911767e-10])\n    message: 'Converged (|f_n-f_(n-1)| ~= 0)'\n       nfev: 42\n        nit: 18\n parameters: ParamsDict({'n_chb': 281125.8355498598, 'g_chb': 0.0005800857780728181, 't_chb_yri': 114179.60901827208})\n     status: 1\n    success: True\n          x: array([1.25465577e+01, 5.80085778e-04, 1.04179609e+05])"
      ]
     },
     "execution_count": 13,
     "metadata": {},
     "output_type": "execute_result"
    }
   ],
   "source": [
    "#model2.optimize(method=\"L-BFGS-B\")\n",
    "model2.optimize(method=\"TNC\")"
   ]
  },
  {
   "cell_type": "code",
   "execution_count": 14,
   "metadata": {
    "autoscroll": false,
    "collapsed": false,
    "ein.tags": "worksheet-0",
    "slideshow": {
     "slide_type": "-"
    }
   },
   "outputs": [
    {
     "name": "stdout",
     "output_type": "stream",
     "text": [
      "ParamsDict({'n_chb': 281125.8355498598, 'g_chb': 0.0005800857780728181, 't_chb_yri': 114179.60901827208})\n"
     ]
    }
   ],
   "source": [
    "print(model2.get_params())"
   ]
  },
  {
   "cell_type": "code",
   "execution_count": 15,
   "metadata": {
    "autoscroll": false,
    "collapsed": false,
    "ein.tags": "worksheet-0",
    "slideshow": {
     "slide_type": "-"
    }
   },
   "outputs": [
    {
     "data": {
      "image/png": "[encoded data removed]",
      "text/plain": [
       "<matplotlib.figure.Figure at 0x7f836c97fe48>"
      ]
     },
     "metadata": {},
     "output_type": "display_data"
    }
   ],
   "source": [
    "# plot the model\n",
    "plt = momi.DemographyPlot(model2, [\"YRI\", \"CHB\"],\n",
    "                          figsize=(6,8), linthreshy=1e5,\n",
    "                          major_yticks=[1e4, 2.5e4, 5e4, 7.5e4,\n",
    "                          1e5, 1.25e5],\n",
    "                          pulse_bounds=(0,.25))\n",
    "plt.draw()"
   ]
  },
  {
   "cell_type": "code",
   "execution_count": 24,
   "metadata": {
    "autoscroll": false,
    "collapsed": false,
    "ein.tags": "worksheet-0",
    "slideshow": {
     "slide_type": "-"
    }
   },
   "outputs": [],
   "source": [
    "## add NEA to the model\n",
    "\n",
    "model2.add_leaf(\"NEA\", t=5e4)\n",
    "\n",
    "#model2.add_time_param(\"t_anc\", 5e5,\n",
    "#                      lower_constraints=[\"t_chb_yri\"])\n",
    "model2.add_time_param(\"t_anc\", lower=5e4, lower_constraints=[\"t_chb_yri\"])\n",
    "\n",
    "model2.move_lineages(\"YRI\", \"NEA\", t=\"t_anc\")"
   ]
  },
  {
   "cell_type": "code",
   "execution_count": 25,
   "metadata": {
    "autoscroll": false,
    "collapsed": false,
    "ein.tags": "worksheet-0",
    "slideshow": {
     "slide_type": "-"
    }
   },
   "outputs": [
    {
     "data": {
      "text/plain": [
       "        fun: 0.012567780549339786\n        jac: array([-2.33891115e-05,  4.68964256e-01,  3.17434766e-11,  1.85415259e-11])\n    message: 'Converged (|f_n-f_(n-1)| ~= 0)'\n       nfev: 21\n        nit: 6\n parameters: ParamsDict({'n_chb': 72300.22943747952, 'g_chb': 0.0004486283311144402, 't_chb_yri': 105634.92097451002, 't_anc': 441831.8138366812})\n     status: 1\n    success: True\n          x: array([1.11885826e+01, 4.48628331e-04, 9.56349210e+04, 3.36196893e+05])"
      ]
     },
     "execution_count": 25,
     "metadata": {},
     "output_type": "execute_result"
    }
   ],
   "source": [
    "model2.optimize()"
   ]
  },
  {
   "cell_type": "code",
   "execution_count": 26,
   "metadata": {
    "autoscroll": false,
    "collapsed": false,
    "ein.tags": "worksheet-0",
    "slideshow": {
     "slide_type": "-"
    }
   },
   "outputs": [
    {
     "data": {
      "image/png": "[encoded data removed]",
      "text/plain": [
       "<matplotlib.figure.Figure at 0x7f39515b8ba8>"
      ]
     },
     "metadata": {},
     "output_type": "display_data"
    }
   ],
   "source": [
    "# plot the model\n",
    "plt = momi.DemographyPlot(model2, [\"YRI\", \"CHB\", \"NEA\"], figsize=(6,8), linthreshy=1e5, major_yticks=[1e4, 2.5e4, 5e4, 7.5e4, 1e5, 2.5e5, 5e5])\n",
    "plt.draw()"
   ]
  },
  {
   "cell_type": "code",
   "execution_count": 27,
   "metadata": {
    "autoscroll": false,
    "collapsed": false,
    "ein.tags": "worksheet-0",
    "slideshow": {
     "slide_type": "-"
    }
   },
   "outputs": [
    {
     "name": "stdout",
     "output_type": "stream",
     "text": [
      "ModelFitArray(expected=1.3877787807814457e-17, observed=-0.005661024702653249, sd=0.0028238767826156788, z_score=-2.004699616323065)\n"
     ]
    }
   ],
   "source": [
    "# model diagnostics\n",
    "fstats = model2.fstats()\n",
    "# f4(YRI, CHB, NEA, AncestralAllele) < 0 because of unmodeled Neanderthal admixture\n",
    "# z_score is not significant because we only have a small dataset here\n",
    "print(fstats.f4(\"YRI\", \"CHB\", \"NEA\", None))\n",
    "\n",
    "# also some functionality to check other statistics\n",
    "# e.g. f2, f3, distance between every pair of populations\n",
    "# (TODO: easily plot residuals of all pairwise distances)"
   ]
  },
  {
   "cell_type": "code",
   "execution_count": 28,
   "metadata": {
    "autoscroll": false,
    "collapsed": false,
    "ein.tags": "worksheet-0",
    "slideshow": {
     "slide_type": "-"
    }
   },
   "outputs": [
    {
     "name": "stderr",
     "output_type": "stream",
     "text": [
      "/home/jack/.local/share/virtualenvs/momi2-gAXri9wX/lib/python3.6/site-packages/autograd/tracer.py:48: RuntimeWarning: divide by zero encountered in log\n",
      "  return f_raw(*args, **kwargs)\n"
     ]
    }
   ],
   "source": [
    "## create a new model with added NEA->CHB pulse\n",
    "\n",
    "add_pulse_model = model2.copy()\n",
    "\n",
    "#add_pulse_model.add_pulse_param(\"p_pulse\", .1)\n",
    "#add_pulse_model.add_time_param(\"t_pulse\", 5e4, upper_constraints=[\"t_chb_yri\"])\n",
    "add_pulse_model.add_pulse_param(\"p_pulse\", upper=.25)\n",
    "add_pulse_model.add_time_param(\"t_pulse\", upper_constraints=[\"t_chb_yri\"])\n",
    "\n",
    "add_pulse_model.move_lineages(\"CHB\", \"GhostNea\", t=\"t_pulse\", p=\"p_pulse\")\n",
    "\n",
    "#add_pulse_model.add_time_param(\"t_ghost\", 1e5, lower=5e4, lower_constraints=[\"t_pulse\"], upper_constraints=[\"t_anc\"])\n",
    "add_pulse_model.add_time_param(\"t_ghost\", lower=5e4, lower_constraints=[\"t_pulse\"], upper_constraints=[\"t_anc\"])\n",
    "add_pulse_model.move_lineages(\"GhostNea\", \"NEA\", t=\"t_ghost\")"
   ]
  },
  {
   "cell_type": "code",
   "execution_count": 29,
   "metadata": {
    "autoscroll": false,
    "collapsed": false,
    "ein.tags": "worksheet-0",
    "scrolled": true,
    "slideshow": {
     "slide_type": "-"
    }
   },
   "outputs": [
    {
     "data": {
      "text/plain": [
       "     fun: 3.6632631774468223\n     jac: array([ 6.23355965e-04, -6.45199005e-01, -2.41776334e-07, -1.55331724e-07,\n        4.38569176e-02,  4.39832951e-05, -1.95178640e-03])\n message: 'Maximum number of iterations reached'\n     nit: 9\n success: False\n       x: array([ 1.09332978e+01, -1.00000000e-03,  9.56350850e+04,  3.36197641e+05,\n       -2.65029550e+00,  1.30921249e+00,  1.75620922e+00])"
      ]
     },
     "execution_count": 29,
     "metadata": {},
     "output_type": "execute_result"
    }
   ],
   "source": [
    "# stochastic gradient descent (ADAM+SVRG)\n",
    "add_pulse_model.stochastic_optimize(snps_per_minibatch=1000, num_iters=10, svrg_epoch=3)"
   ]
  },
  {
   "cell_type": "code",
   "execution_count": 31,
   "metadata": {
    "autoscroll": false,
    "collapsed": false,
    "ein.tags": "worksheet-0",
    "scrolled": true,
    "slideshow": {
     "slide_type": "-"
    }
   },
   "outputs": [
    {
     "data": {
      "text/plain": [
       "        fun: 0.004355791428034317\n        jac: array([-1.73940159e-04,  1.58434604e+00,  5.17170400e-10,  1.47989229e-10,\n       -1.50146684e-05, -6.88282911e-07,  3.77005658e-07])\n    message: 'Max. number of function evaluations reached'\n       nfev: 100\n        nit: 22\n parameters: ParamsDict({'n_chb': 244818.63833313898, 'g_chb': 0.0006165904675987588, 't_chb_yri': 88577.73730448686, 't_anc': 468912.33770190115, 'p_pulse': 0.06693793959866504, 't_pulse': 36492.73787168908, 't_ghost': 50158.39989079467})\n     status: 3\n    success: False\n          x: array([ 1.24082730e+01,  6.16590468e-04,  7.85777373e+04,  3.80334600e+05,\n       -2.63470580e+00, -3.55763710e-01, -7.87991598e+00])"
      ]
     },
     "execution_count": 31,
     "metadata": {},
     "output_type": "execute_result"
    }
   ],
   "source": [
    "# full gradient descent\n",
    "add_pulse_model.optimize(method=\"TNC\")"
   ]
  },
  {
   "cell_type": "code",
   "execution_count": 32,
   "metadata": {
    "autoscroll": false,
    "collapsed": false,
    "ein.tags": "worksheet-0",
    "slideshow": {
     "slide_type": "-"
    }
   },
   "outputs": [
    {
     "data": {
      "image/png": "[encoded data removed]",
      "text/plain": [
       "<matplotlib.figure.Figure at 0x7f394f738358>"
      ]
     },
     "metadata": {},
     "output_type": "display_data"
    }
   ],
   "source": [
    "# plot the model\n",
    "plt = momi.DemographyPlot(add_pulse_model, [\"YRI\", \"CHB\", \"GhostNea\", \"NEA\"], linthreshy=1e5, figsize=(6,8), major_yticks=[1e4, 2.5e4, 5e4, 7.5e4, 1e5, 2.5e5, 5e5, 7.5e5])\n",
    "plt.draw()"
   ]
  },
  {
   "cell_type": "code",
   "execution_count": 33,
   "metadata": {
    "autoscroll": false,
    "collapsed": false,
    "ein.tags": "worksheet-0",
    "slideshow": {
     "slide_type": "-"
    }
   },
   "outputs": [
    {
     "name": "stdout",
     "output_type": "stream",
     "text": [
      "Automatic pdb calling has been turned ON\n"
     ]
    }
   ],
   "source": [
    "%pdb"
   ]
  },
  {
   "cell_type": "code",
   "execution_count": 34,
   "metadata": {
    "autoscroll": false,
    "collapsed": false,
    "ein.tags": "worksheet-0",
    "scrolled": true,
    "slideshow": {
     "slide_type": "-"
    }
   },
   "outputs": [
    {
     "name": "stdout",
     "output_type": "stream",
     "text": [
      "0\n"
     ]
    },
    {
     "name": "stdout",
     "output_type": "stream",
     "text": [
      "1\n"
     ]
    },
    {
     "name": "stdout",
     "output_type": "stream",
     "text": [
      "2\n"
     ]
    },
    {
     "name": "stderr",
     "output_type": "stream",
     "text": [
      "/home/jack/.local/share/virtualenvs/momi2-gAXri9wX/lib/python3.6/site-packages/autograd/tracer.py:48: RuntimeWarning: divide by zero encountered in log\n",
      "  return f_raw(*args, **kwargs)\n"
     ]
    },
    {
     "name": "stdout",
     "output_type": "stream",
     "text": [
      "3\n"
     ]
    },
    {
     "name": "stdout",
     "output_type": "stream",
     "text": [
      "4\n"
     ]
    },
    {
     "data": {
      "image/png": "[encoded data removed]",
      "text/plain": [
       "<matplotlib.figure.Figure at 0x7f39514426a0>"
      ]
     },
     "metadata": {},
     "output_type": "display_data"
    }
   ],
   "source": [
    "## generate nonparametric bootstrap datasets\n",
    "\n",
    "n_bootstraps = 5\n",
    "#n_bootstraps = 20\n",
    "#bootstrap_mles = []\n",
    "\n",
    "# split dataset into 100 equally sized blocks to resample\n",
    "chunked_data = data.chunk_data(100)\n",
    "\n",
    "plt = momi.DemographyPlot(add_pulse_model, [\"YRI\", \"CHB\", \"GhostNea\", \"NEA\"], linthreshy=1e5, figsize=(6,8), major_yticks=[1e4, 2.5e4, 5e4, 7.5e4, 1e5, 2.5e5, 5e5, 7.5e5])\n",
    "\n",
    "#bootstrap_model = add_pulse_model.copy()\n",
    "model2_copy = model2.copy()\n",
    "add_pulse_copy = add_pulse_model.copy()\n",
    "for bootstrap_it in range(n_bootstraps):\n",
    "    print(bootstrap_it)\n",
    "    # bootstrap resample blocks\n",
    "    bootstrap_data = chunked_data.resample_chunks()\n",
    "    model2_copy.set_data(bootstrap_data)\n",
    "    add_pulse_copy.set_data(bootstrap_data)\n",
    "    \n",
    "    model2_copy.set_params(randomize=True)\n",
    "    model2_copy.optimize()\n",
    "    add_pulse_copy.set_params(model2_copy.get_params(), randomize=True)\n",
    "    add_pulse_copy.optimize()\n",
    "\n",
    "    plt.add_bootstrap(add_pulse_copy.get_params(), alpha=1./n_bootstraps)\n",
    "\n",
    "plt.draw()\n"
   ]
  },
  {
   "cell_type": "code",
   "execution_count": null,
   "metadata": {
    "autoscroll": false,
    "collapsed": false,
    "ein.tags": "worksheet-0",
    "slideshow": {
     "slide_type": "-"
    }
   },
   "outputs": [
    {
     "name": "stderr",
     "output_type": "stream",
     "text": [
      "/home/jack/pythonpath/momi/demo_plotter.py:35: RuntimeWarning: invalid value encountered in double_scalars\n",
      "  -self.curr_g * (nxt_t - self.curr_t))\n"
     ]
    },
    {
     "data": {
      "text/plain": [
       "[<matplotlib.axis.YTick at 0x7f82e1a6e3c8>,\n",
       " <matplotlib.axis.YTick at 0x7f82e1a58c88>,\n",
       " <matplotlib.axis.YTick at 0x7f82e1a7b518>,\n",
       " <matplotlib.axis.YTick at 0x7f82e1a859b0>,\n",
       " <matplotlib.axis.YTick at 0x7f82e1aa53c8>,\n",
       " <matplotlib.axis.YTick at 0x7f82e1aa5da0>,\n",
       " <matplotlib.axis.YTick at 0x7f82e1aa37b8>]"
      ]
     },
     "execution_count": 23,
     "metadata": {},
     "output_type": "execute_result"
    },
    {
     "data": {
      "image/png": "[encoded data removed]",
      "text/plain": [
       "<matplotlib.figure.Figure at 0x7f82e1a82940>"
      ]
     },
     "metadata": {},
     "output_type": "display_data"
    }
   ],
   "source": [
    "plt.figure(figsize=(8,10))\n",
    "add_pulse_model.draw_with_bootstraps(bootstrap_mles,\n",
    "                                     [\"YRI\", \"CHB\", \"GhostNea\", \"NEA\"], \n",
    "                                     linthreshy=1e5, p_min=0, p_max=1)\n",
    "plt.gca().set_yticks([1e4, 2.5e4, 5e4, 7.5e4, 1e5, 2.5e5, 5e5])"
   ]
  }
 ],
 "metadata": {
  "kernelspec": {
   "display_name": "momi2-gAXri9wX",
   "name": "momi2-gaxri9wx"
  },
  "language_info": {
   "codemirror_mode": {
    "name": "ipython",
    "version": 3
   },
   "file_extension": ".py",
   "mimetype": "text/x-python",
   "name": "python",
   "nbconvert_exporter": "python",
   "pygments_lexer": "ipython3",
   "version": "3.6.4"
  },
  "name": "tutorial.ipynb"
 },
 "nbformat": 4,
 "nbformat_minor": 2
}
