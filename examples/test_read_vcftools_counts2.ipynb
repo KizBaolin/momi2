{
 "cells": [
  {
   "cell_type": "code",
   "execution_count": 1,
   "metadata": {
    "collapsed": true
   },
   "outputs": [],
   "source": [
    "import momi\n",
    "import itertools as it"
   ]
  },
  {
   "cell_type": "code",
   "execution_count": 8,
   "metadata": {
    "collapsed": false
   },
   "outputs": [
    {
     "name": "stdout",
     "output_type": "stream",
     "text": [
      "parse-vcftools-counts  read-plink\r\n"
     ]
    }
   ],
   "source": [
    "!mkdir /nfs/users/nfs_j/jk21/lustre/scratch110/momi2/parse-vcftools-counts\n",
    "!ls /nfs/users/nfs_j/jk21/lustre/scratch110/momi2"
   ]
  },
  {
   "cell_type": "code",
   "execution_count": 5,
   "metadata": {
    "collapsed": false,
    "scrolled": true
   },
   "outputs": [
    {
     "name": "stdout",
     "output_type": "stream",
     "text": [
      "163_master_table_excl_library.csv\r\n",
      "163_UG_ref3500_CAE10_snp_pass.vcf.gz\r\n",
      "163_UG_ref3500_CAE10_snp_pass.vcf.gz.tbi\r\n",
      "163_UG_ref3500_CAE10_snp_pass.vcf.gz.vcfidx\r\n",
      "163_UG_ref3500_CAE11_snp_pass.vcf.gz\r\n",
      "163_UG_ref3500_CAE11_snp_pass.vcf.gz.tbi\r\n",
      "163_UG_ref3500_CAE11_snp_pass.vcf.gz.vcfidx\r\n",
      "163_UG_ref3500_CAE12_snp_pass.vcf.gz\r\n",
      "163_UG_ref3500_CAE12_snp_pass.vcf.gz.tbi\r\n",
      "163_UG_ref3500_CAE12_snp_pass.vcf.gz.vcfidx\r\n",
      "163_UG_ref3500_CAE13_snp_pass.vcf.gz\r\n",
      "163_UG_ref3500_CAE13_snp_pass.vcf.gz.tbi\r\n",
      "163_UG_ref3500_CAE13_snp_pass.vcf.gz.vcfidx\r\n",
      "163_UG_ref3500_CAE14_snp_pass.vcf.gz\r\n",
      "163_UG_ref3500_CAE14_snp_pass.vcf.gz.tbi\r\n",
      "163_UG_ref3500_CAE14_snp_pass.vcf.gz.vcfidx\r\n",
      "163_UG_ref3500_CAE15_snp_pass.vcf.gz\r\n",
      "163_UG_ref3500_CAE15_snp_pass.vcf.gz.tbi\r\n",
      "163_UG_ref3500_CAE15_snp_pass.vcf.gz.vcfidx\r\n",
      "163_UG_ref3500_CAE16_snp_pass.vcf.gz\r\n",
      "163_UG_ref3500_CAE16_snp_pass.vcf.gz.tbi\r\n",
      "163_UG_ref3500_CAE16_snp_pass.vcf.gz.vcfidx\r\n",
      "163_UG_ref3500_CAE17_snp_pass.vcf.gz\r\n",
      "163_UG_ref3500_CAE17_snp_pass.vcf.gz.tbi\r\n",
      "163_UG_ref3500_CAE17_snp_pass.vcf.gz.vcfidx\r\n",
      "163_UG_ref3500_CAE18_snp_pass.vcf.gz\r\n",
      "163_UG_ref3500_CAE18_snp_pass.vcf.gz.tbi\r\n",
      "163_UG_ref3500_CAE18_snp_pass.vcf.gz.vcfidx\r\n",
      "163_UG_ref3500_CAE19_snp_pass.vcf.gz\r\n",
      "163_UG_ref3500_CAE19_snp_pass.vcf.gz.tbi\r\n",
      "163_UG_ref3500_CAE19_snp_pass.vcf.gz.vcfidx\r\n",
      "163_UG_ref3500_CAE1_snp_pass.vcf.gz\r\n",
      "163_UG_ref3500_CAE1_snp_pass.vcf.gz.tbi\r\n",
      "163_UG_ref3500_CAE1_snp_pass.vcf.gz.vcfidx\r\n",
      "163_UG_ref3500_CAE20_snp_pass.vcf.gz\r\n",
      "163_UG_ref3500_CAE20_snp_pass.vcf.gz.tbi\r\n",
      "163_UG_ref3500_CAE20_snp_pass.vcf.gz.vcfidx\r\n",
      "163_UG_ref3500_CAE21_snp_pass.vcf.gz\r\n",
      "163_UG_ref3500_CAE21_snp_pass.vcf.gz.tbi\r\n",
      "163_UG_ref3500_CAE21_snp_pass.vcf.gz.vcfidx\r\n",
      "163_UG_ref3500_CAE22_snp_pass.vcf.gz\r\n",
      "163_UG_ref3500_CAE22_snp_pass.vcf.gz.tbi\r\n",
      "163_UG_ref3500_CAE22_snp_pass.vcf.gz.vcfidx\r\n",
      "163_UG_ref3500_CAE23_snp_pass.vcf.gz\r\n",
      "163_UG_ref3500_CAE23_snp_pass.vcf.gz.tbi\r\n",
      "163_UG_ref3500_CAE23_snp_pass.vcf.gz.vcfidx\r\n",
      "163_UG_ref3500_CAE24_snp_pass.vcf.gz\r\n",
      "163_UG_ref3500_CAE24_snp_pass.vcf.gz.tbi\r\n",
      "163_UG_ref3500_CAE24_snp_pass.vcf.gz.vcfidx\r\n",
      "163_UG_ref3500_CAE25_snp_pass.vcf.gz\r\n",
      "163_UG_ref3500_CAE25_snp_pass.vcf.gz.tbi\r\n",
      "163_UG_ref3500_CAE25_snp_pass.vcf.gz.vcfidx\r\n",
      "163_UG_ref3500_CAE26_snp_pass.vcf.gz\r\n",
      "163_UG_ref3500_CAE26_snp_pass.vcf.gz.tbi\r\n",
      "163_UG_ref3500_CAE26_snp_pass.vcf.gz.vcfidx\r\n",
      "163_UG_ref3500_CAE27_snp_pass.vcf.gz\r\n",
      "163_UG_ref3500_CAE27_snp_pass.vcf.gz.tbi\r\n",
      "163_UG_ref3500_CAE27_snp_pass.vcf.gz.vcfidx\r\n",
      "163_UG_ref3500_CAE28_snp_pass.vcf.gz\r\n",
      "163_UG_ref3500_CAE28_snp_pass.vcf.gz.tbi\r\n",
      "163_UG_ref3500_CAE28_snp_pass.vcf.gz.vcfidx\r\n",
      "163_UG_ref3500_CAE29_snp_pass.vcf.gz\r\n",
      "163_UG_ref3500_CAE29_snp_pass.vcf.gz.tbi\r\n",
      "163_UG_ref3500_CAE29_snp_pass.vcf.gz.vcfidx\r\n",
      "163_UG_ref3500_CAE2_snp_pass.vcf.gz\r\n",
      "163_UG_ref3500_CAE2_snp_pass.vcf.gz.tbi\r\n",
      "163_UG_ref3500_CAE2_snp_pass.vcf.gz.vcfidx\r\n",
      "163_UG_ref3500_CAE3_snp_pass.vcf.gz\r\n",
      "163_UG_ref3500_CAE3_snp_pass.vcf.gz.tbi\r\n",
      "163_UG_ref3500_CAE3_snp_pass.vcf.gz.vcfidx\r\n",
      "163_UG_ref3500_CAE4_snp_pass.vcf.gz\r\n",
      "163_UG_ref3500_CAE4_snp_pass.vcf.gz.tbi\r\n",
      "163_UG_ref3500_CAE4_snp_pass.vcf.gz.vcfidx\r\n",
      "163_UG_ref3500_CAE5_snp_pass.vcf.gz\r\n",
      "163_UG_ref3500_CAE5_snp_pass.vcf.gz.tbi\r\n",
      "163_UG_ref3500_CAE5_snp_pass.vcf.gz.vcfidx\r\n",
      "163_UG_ref3500_CAE6_snp_pass.vcf.gz\r\n",
      "163_UG_ref3500_CAE6_snp_pass.vcf.gz.tbi\r\n",
      "163_UG_ref3500_CAE6_snp_pass.vcf.gz.vcfidx\r\n",
      "163_UG_ref3500_CAE7_snp_pass.vcf.gz\r\n",
      "163_UG_ref3500_CAE7_snp_pass.vcf.gz.tbi\r\n",
      "163_UG_ref3500_CAE7_snp_pass.vcf.gz.vcfidx\r\n",
      "163_UG_ref3500_CAE8_snp_pass.vcf.gz\r\n",
      "163_UG_ref3500_CAE8_snp_pass.vcf.gz.tbi\r\n",
      "163_UG_ref3500_CAE8_snp_pass.vcf.gz.vcfidx\r\n",
      "163_UG_ref3500_CAE9_snp_pass.vcf.gz\r\n",
      "163_UG_ref3500_CAE9_snp_pass.vcf.gz.tbi\r\n",
      "163_UG_ref3500_CAE9_snp_pass.vcf.gz.vcfidx\r\n",
      "163_UG_ref3500_CAEX_snp_pass.vcf.gz\r\n",
      "163_UG_ref3500_CAEX_snp_pass.vcf.gz.tbi\r\n",
      "163_UG_ref3500_CAEX_snp_pass.vcf.gz.vcfidx\r\n",
      "163_UG_ref3500_CAEY_snp_pass.vcf.gz\r\n",
      "163_UG_ref3500_CAEY_snp_pass.vcf.gz.tbi\r\n",
      "163_UG_ref3500_CAEY_snp_pass.vcf.gz.vcfidx\r\n",
      "GATK_UG_163NonVRC_ref3500_CAE10_snp_pass_beagle4_shapeit_notrb.vcf.gz\r\n",
      "GATK_UG_163NonVRC_ref3500_CAE10_snp_pass_beagle4_shapeit_notrb.vcf.gz.tbi\r\n",
      "GATK_UG_163NonVRC_ref3500_CAE11_snp_pass_beagle4_shapeit_notrb.vcf.gz\r\n",
      "GATK_UG_163NonVRC_ref3500_CAE11_snp_pass_beagle4_shapeit_notrb.vcf.gz.tbi\r\n",
      "GATK_UG_163NonVRC_ref3500_CAE12_snp_pass_beagle4_shapeit_notrb.vcf.gz\r\n",
      "GATK_UG_163NonVRC_ref3500_CAE12_snp_pass_beagle4_shapeit_notrb.vcf.gz.tbi\r\n",
      "GATK_UG_163NonVRC_ref3500_CAE13_snp_pass_beagle4_shapeit_notrb.vcf.gz\r\n",
      "GATK_UG_163NonVRC_ref3500_CAE13_snp_pass_beagle4_shapeit_notrb.vcf.gz.tbi\r\n",
      "GATK_UG_163NonVRC_ref3500_CAE14_snp_pass_beagle4_shapeit_notrb.vcf.gz\r\n",
      "GATK_UG_163NonVRC_ref3500_CAE14_snp_pass_beagle4_shapeit_notrb.vcf.gz.tbi\r\n",
      "GATK_UG_163NonVRC_ref3500_CAE15_snp_pass_beagle4_shapeit_notrb.vcf.gz\r\n",
      "GATK_UG_163NonVRC_ref3500_CAE15_snp_pass_beagle4_shapeit_notrb.vcf.gz.tbi\r\n",
      "GATK_UG_163NonVRC_ref3500_CAE16_snp_pass_beagle4_shapeit_notrb.vcf.gz\r\n",
      "GATK_UG_163NonVRC_ref3500_CAE16_snp_pass_beagle4_shapeit_notrb.vcf.gz.tbi\r\n",
      "GATK_UG_163NonVRC_ref3500_CAE17_snp_pass_beagle4_shapeit_notrb.vcf.gz\r\n",
      "GATK_UG_163NonVRC_ref3500_CAE17_snp_pass_beagle4_shapeit_notrb.vcf.gz.tbi\r\n",
      "GATK_UG_163NonVRC_ref3500_CAE18_snp_pass_beagle4_shapeit_notrb.vcf.gz\r\n",
      "GATK_UG_163NonVRC_ref3500_CAE18_snp_pass_beagle4_shapeit_notrb.vcf.gz.tbi\r\n",
      "GATK_UG_163NonVRC_ref3500_CAE19_snp_pass_beagle4_shapeit_notrb.vcf.gz\r\n",
      "GATK_UG_163NonVRC_ref3500_CAE19_snp_pass_beagle4_shapeit_notrb.vcf.gz.tbi\r\n",
      "GATK_UG_163NonVRC_ref3500_CAE1_snp_pass_beagle4_shapeit_notrb.vcf.gz\r\n",
      "GATK_UG_163NonVRC_ref3500_CAE1_snp_pass_beagle4_shapeit_notrb.vcf.gz.tbi\r\n",
      "GATK_UG_163NonVRC_ref3500_CAE20_snp_pass_beagle4_shapeit_notrb.vcf.gz\r\n",
      "GATK_UG_163NonVRC_ref3500_CAE20_snp_pass_beagle4_shapeit_notrb.vcf.gz.tbi\r\n",
      "GATK_UG_163NonVRC_ref3500_CAE21_snp_pass_beagle4_shapeit_notrb.vcf.gz\r\n",
      "GATK_UG_163NonVRC_ref3500_CAE21_snp_pass_beagle4_shapeit_notrb.vcf.gz.tbi\r\n",
      "GATK_UG_163NonVRC_ref3500_CAE22_snp_pass_beagle4_shapeit_notrb.vcf.gz\r\n",
      "GATK_UG_163NonVRC_ref3500_CAE22_snp_pass_beagle4_shapeit_notrb.vcf.gz.tbi\r\n",
      "GATK_UG_163NonVRC_ref3500_CAE23_snp_pass_beagle4_shapeit_notrb.vcf.gz\r\n",
      "GATK_UG_163NonVRC_ref3500_CAE23_snp_pass_beagle4_shapeit_notrb.vcf.gz.tbi\r\n",
      "GATK_UG_163NonVRC_ref3500_CAE24_snp_pass_beagle4_shapeit_notrb.vcf.gz\r\n",
      "GATK_UG_163NonVRC_ref3500_CAE24_snp_pass_beagle4_shapeit_notrb.vcf.gz.tbi\r\n",
      "GATK_UG_163NonVRC_ref3500_CAE25_snp_pass_beagle4_shapeit_notrb.vcf.gz\r\n",
      "GATK_UG_163NonVRC_ref3500_CAE25_snp_pass_beagle4_shapeit_notrb.vcf.gz.tbi\r\n",
      "GATK_UG_163NonVRC_ref3500_CAE26_snp_pass_beagle4_shapeit_notrb.vcf.gz\r\n",
      "GATK_UG_163NonVRC_ref3500_CAE26_snp_pass_beagle4_shapeit_notrb.vcf.gz.tbi\r\n",
      "GATK_UG_163NonVRC_ref3500_CAE27_snp_pass_beagle4_shapeit_notrb.vcf.gz\r\n",
      "GATK_UG_163NonVRC_ref3500_CAE27_snp_pass_beagle4_shapeit_notrb.vcf.gz.tbi\r\n",
      "GATK_UG_163NonVRC_ref3500_CAE28_snp_pass_beagle4_shapeit_notrb.vcf.gz\r\n",
      "GATK_UG_163NonVRC_ref3500_CAE28_snp_pass_beagle4_shapeit_notrb.vcf.gz.tbi\r\n",
      "GATK_UG_163NonVRC_ref3500_CAE29_snp_pass_beagle4_shapeit_notrb.vcf.gz\r\n",
      "GATK_UG_163NonVRC_ref3500_CAE29_snp_pass_beagle4_shapeit_notrb.vcf.gz.tbi\r\n",
      "GATK_UG_163NonVRC_ref3500_CAE2_snp_pass_beagle4_shapeit_notrb.vcf.gz\r\n",
      "GATK_UG_163NonVRC_ref3500_CAE2_snp_pass_beagle4_shapeit_notrb.vcf.gz.tbi\r\n",
      "GATK_UG_163NonVRC_ref3500_CAE3_snp_pass_beagle4_shapeit_notrb.vcf.gz\r\n",
      "GATK_UG_163NonVRC_ref3500_CAE3_snp_pass_beagle4_shapeit_notrb.vcf.gz.tbi\r\n",
      "GATK_UG_163NonVRC_ref3500_CAE4_snp_pass_beagle4_shapeit_notrb.vcf.gz\r\n",
      "GATK_UG_163NonVRC_ref3500_CAE4_snp_pass_beagle4_shapeit_notrb.vcf.gz.tbi\r\n",
      "GATK_UG_163NonVRC_ref3500_CAE5_snp_pass_beagle4_shapeit_notrb.vcf.gz\r\n",
      "GATK_UG_163NonVRC_ref3500_CAE5_snp_pass_beagle4_shapeit_notrb.vcf.gz.tbi\r\n",
      "GATK_UG_163NonVRC_ref3500_CAE6_snp_pass_beagle4_shapeit_notrb.vcf.gz\r\n",
      "GATK_UG_163NonVRC_ref3500_CAE6_snp_pass_beagle4_shapeit_notrb.vcf.gz.tbi\r\n",
      "GATK_UG_163NonVRC_ref3500_CAE7_snp_pass_beagle4_shapeit_notrb.vcf.gz\r\n",
      "GATK_UG_163NonVRC_ref3500_CAE7_snp_pass_beagle4_shapeit_notrb.vcf.gz.tbi\r\n",
      "GATK_UG_163NonVRC_ref3500_CAE8_snp_pass_beagle4_shapeit_notrb.vcf.gz\r\n",
      "GATK_UG_163NonVRC_ref3500_CAE8_snp_pass_beagle4_shapeit_notrb.vcf.gz.tbi\r\n",
      "GATK_UG_163NonVRC_ref3500_CAE9_snp_pass_beagle4_shapeit_notrb.vcf.gz\r\n",
      "GATK_UG_163NonVRC_ref3500_CAE9_snp_pass_beagle4_shapeit_notrb.vcf.gz.tbi\r\n",
      "GATK_UG_163NonVRC_ref3500_CAEX_snp_pass_beagle4_shapeit_notrb.vcf.gz\r\n",
      "GATK_UG_163NonVRC_ref3500_CAEX_snp_pass_beagle4_shapeit_notrb.vcf.gz.tbi\r\n"
     ]
    }
   ],
   "source": [
    "!ls /nfs/users/nfs_j/jk21/Documents/vervet/explore/raw"
   ]
  },
  {
   "cell_type": "code",
   "execution_count": 24,
   "metadata": {
    "collapsed": false
   },
   "outputs": [
    {
     "name": "stdout",
     "output_type": "stream",
     "text": [
      "vcf-concat ~/Documents/vervet/explore/raw/163_UG_ref3500_CAE26_snp_pass.vcf.gz ~/Documents/vervet/explore/raw/163_UG_ref3500_CAE27_snp_pass.vcf.gz ~/Documents/vervet/explore/raw/163_UG_ref3500_CAE28_snp_pass.vcf.gz | vcftools --vcf - --keep ~/Documents/vervet/explore/scratch/populations/{pop}.txt --out ~/lustre/scratch110/momi2/parse-vcftools-counts/{pop}.counts --counts2\n"
     ]
    }
   ],
   "source": [
    "cmd = \"vcf-concat {0} {0} {0}\".format(\"~/Documents/vervet/explore/raw/163_UG_ref3500_CAE{}_snp_pass.vcf.gz\")\n",
    "cmd = cmd.format(26, 27, 28)\n",
    "cmd += \" | vcftools --vcf - --keep ~/Documents/vervet/explore/scratch/populations/{pop}.txt\"\n",
    "cmd += \" --out ~/lustre/scratch110/momi2/parse-vcftools-counts/{pop}.counts\"\n",
    "cmd += \" --counts2\"\n",
    "print(cmd)"
   ]
  },
  {
   "cell_type": "code",
   "execution_count": 25,
   "metadata": {
    "collapsed": false
   },
   "outputs": [
    {
     "name": "stdout",
     "output_type": "stream",
     "text": [
      "\n",
      "VCFtools - 0.1.14\n",
      "(C) Adam Auton and Anthony Marcketta 2009\n",
      "\n",
      "Parameters as interpreted:\n",
      "\t--vcf [stdin]\n",
      "\t--keep /nfs/users/nfs_j/jk21/Documents/vervet/explore/scratch/populations/Gambia.txt\n",
      "\t--counts2\n",
      "\t--out /nfs/users/nfs_j/jk21/lustre/scratch110/momi2/parse-vcftools-counts/Gambia.counts\n",
      "\n",
      "Keeping individuals in 'keep' list\n",
      "After filtering, kept 22 out of 163 Individuals\n",
      "Outputting Frequency Statistics...\n",
      "After filtering, kept 3053808 out of a possible 3053808 Sites\n",
      "Run Time = 176.00 seconds\n"
     ]
    }
   ],
   "source": [
    "gambia_cmd = cmd.format(pop=\"Gambia\")\n",
    "!{gambia_cmd}"
   ]
  },
  {
   "cell_type": "code",
   "execution_count": 26,
   "metadata": {
    "collapsed": false
   },
   "outputs": [
    {
     "name": "stdout",
     "output_type": "stream",
     "text": [
      "\n",
      "VCFtools - 0.1.14\n",
      "(C) Adam Auton and Anthony Marcketta 2009\n",
      "\n",
      "Parameters as interpreted:\n",
      "\t--vcf [stdin]\n",
      "\t--keep /nfs/users/nfs_j/jk21/Documents/vervet/explore/scratch/populations/Barbados.txt\n",
      "\t--counts2\n",
      "\t--out /nfs/users/nfs_j/jk21/lustre/scratch110/momi2/parse-vcftools-counts/Barbados.counts\n",
      "\n",
      "Keeping individuals in 'keep' list\n",
      "After filtering, kept 5 out of 163 Individuals\n",
      "Outputting Frequency Statistics...\n",
      "After filtering, kept 3053808 out of a possible 3053808 Sites\n",
      "Run Time = 188.00 seconds\n"
     ]
    }
   ],
   "source": [
    "barbados_cmd = cmd.format(pop=\"Barbados\")\n",
    "!{barbados_cmd}"
   ]
  },
  {
   "cell_type": "code",
   "execution_count": 2,
   "metadata": {
    "collapsed": true
   },
   "outputs": [],
   "source": [
    "def parse_vcftools_counts2(count_files_dict):\n",
    "    def get_lines(count_fname):\n",
    "        with open(count_fname) as f:\n",
    "            header = next(f).split()\n",
    "            expected_header = [\"CHROM\", \"POS\", \"N_ALLELES\", \"N_CHR\",  \"{COUNT}\"]\n",
    "            if header != expected_header:\n",
    "                raise IOError(\"Header {} does not match expected header {}\".format(header, expected_header))\n",
    "            for line in f:\n",
    "                yield line.split()\n",
    "\n",
    "    count_files_dict = {k: get_lines(v) for k,v in count_files_dict.items()}\n",
    "    sampled_pops, lines_list = zip(*count_files_dict.items())\n",
    "    def get_counts(lines_list):\n",
    "        zipped_lines = it.zip_longest(*lines_list)\n",
    "        for zline in zipped_lines:\n",
    "            chrom, snp, n_alleles = zline[0][:3]\n",
    "            if not all(l[:3] == zline[0][:3] for l in zline):\n",
    "                raise IOError(\"Non-matching lines {}\".format(zline))\n",
    "            if int(n_alleles) != 2:\n",
    "                continue\n",
    "            ancestral = tuple(int(l[4]) for l in zline)\n",
    "            derived = tuple(int(l[5]) for l in zline)\n",
    "            assert (a+d == int(l[3]) for l,a,d in zip(ancestral, derived, zline))\n",
    "            if all(a == 0 for a in ancestral) or all(d == 0 for d in derived):\n",
    "                continue\n",
    "            yield chrom, tuple(zip(ancestral, derived))\n",
    "    lines_list = get_counts(lines_list)\n",
    "    lines_list = it.groupby(lines_list, key=lambda x: x[0])\n",
    "\n",
    "    return momi.seg_site_configs(sampled_pops, \n",
    "                                 ((config for c, config in chrom_lines) for chrom, chrom_lines in lines_list))    "
   ]
  },
  {
   "cell_type": "code",
   "execution_count": 3,
   "metadata": {
    "collapsed": true
   },
   "outputs": [],
   "source": [
    "count_files_dict = {\"Barbados\" : \"/nfs/users/nfs_j/jk21/lustre/scratch110/momi2/parse-vcftools-counts/Barbados.counts.frq.count\",\n",
    "                   \"Gambia\" : \"/nfs/users/nfs_j/jk21/lustre/scratch110/momi2/parse-vcftools-counts/Gambia.counts.frq.count\"}\n",
    "\n",
    "segsites = parse_vcftools_counts2(count_files_dict)"
   ]
  },
  {
   "cell_type": "code",
   "execution_count": 75,
   "metadata": {
    "collapsed": true
   },
   "outputs": [],
   "source": [
    "count_files_dict = {\"Barbados\" : \"/nfs/users/nfs_j/jk21/lustre/scratch110/momi2/parse-vcftools-counts/Barbados.counts.frq.count\",\n",
    "                   \"Gambia\" : \"/nfs/users/nfs_j/jk21/lustre/scratch110/momi2/parse-vcftools-counts/Gambia.counts.frq.count\"}\n",
    "\n",
    "def get_lines(count_fname):\n",
    "    with open(count_fname) as f:\n",
    "        header = next(f).split()\n",
    "        expected_header = [\"CHROM\", \"POS\", \"N_ALLELES\", \"N_CHR\",  \"{COUNT}\"]\n",
    "        if header != expected_header:\n",
    "            raise IOError(\"Header {} does not match expected header {}\".format(header, expected_header))\n",
    "        for line in f:\n",
    "            yield line.split()\n",
    "            \n",
    "count_files_dict = {k: get_lines(v) for k,v in count_files_dict.items()}\n",
    "sampled_pops, lines_list = zip(*count_files_dict.items())\n",
    "def get_counts(lines_list):\n",
    "    zipped_lines = it.zip_longest(*lines_list)\n",
    "    for zline in zipped_lines:\n",
    "        chrom, snp, n_alleles = zline[0][:3]\n",
    "        if not all(l[:3] == zline[0][:3] for l in zline):\n",
    "            raise IOError(\"Non-matching lines {}\".format(zline))\n",
    "        if int(n_alleles) != 2:\n",
    "            continue\n",
    "        ancestral = tuple(int(l[4]) for l in zline)\n",
    "        derived = tuple(int(l[5]) for l in zline)\n",
    "        assert (a+d == int(l[3]) for l,a,d in zip(ancestral, derived, zline))\n",
    "        if all(a == 0 for a in ancestral) or all(d == 0 for d in derived):\n",
    "            continue\n",
    "        yield chrom, tuple(zip(ancestral, derived))\n",
    "lines_list = get_counts(lines_list)\n",
    "lines_list = it.groupby(lines_list, key=lambda x: x[0])\n",
    "\n",
    "segsites = momi.seg_site_configs(sampled_pops, ((config for c, config in chrom_lines) for chrom, chrom_lines in lines_list))"
   ]
  },
  {
   "cell_type": "code",
   "execution_count": 4,
   "metadata": {
    "collapsed": false
   },
   "outputs": [
    {
     "data": {
      "text/plain": [
       "<momi.data_structure.SegSites at 0x7f0f299ae898>"
      ]
     },
     "execution_count": 4,
     "metadata": {},
     "output_type": "execute_result"
    }
   ],
   "source": [
    "segsites"
   ]
  },
  {
   "cell_type": "code",
   "execution_count": 5,
   "metadata": {
    "collapsed": false
   },
   "outputs": [
    {
     "data": {
      "text/plain": [
       "3"
      ]
     },
     "execution_count": 5,
     "metadata": {},
     "output_type": "execute_result"
    }
   ],
   "source": [
    "len(segsites)"
   ]
  },
  {
   "cell_type": "code",
   "execution_count": 6,
   "metadata": {
    "collapsed": false
   },
   "outputs": [
    {
     "data": {
      "text/plain": [
       "1000548"
      ]
     },
     "execution_count": 6,
     "metadata": {},
     "output_type": "execute_result"
    }
   ],
   "source": [
    "segsites.sfs.n_snps()"
   ]
  },
  {
   "cell_type": "code",
   "execution_count": 7,
   "metadata": {
    "collapsed": false
   },
   "outputs": [
    {
     "data": {
      "text/plain": [
       "8307"
      ]
     },
     "execution_count": 7,
     "metadata": {},
     "output_type": "execute_result"
    }
   ],
   "source": [
    "len(segsites.configs)"
   ]
  },
  {
   "cell_type": "code",
   "execution_count": 8,
   "metadata": {
    "collapsed": false
   },
   "outputs": [
    {
     "data": {
      "text/plain": [
       "array([[[37,  1],\n",
       "        [ 9,  1]],\n",
       "\n",
       "       [[40,  2],\n",
       "        [10,  0]],\n",
       "\n",
       "       [[35,  1],\n",
       "        [10,  0]],\n",
       "\n",
       "       [[35,  1],\n",
       "        [10,  0]],\n",
       "\n",
       "       [[39,  1],\n",
       "        [10,  0]],\n",
       "\n",
       "       [[32,  4],\n",
       "        [10,  0]],\n",
       "\n",
       "       [[24, 18],\n",
       "        [ 7,  3]],\n",
       "\n",
       "       [[22, 22],\n",
       "        [ 6,  4]],\n",
       "\n",
       "       [[19, 23],\n",
       "        [ 7,  3]],\n",
       "\n",
       "       [[21, 23],\n",
       "        [ 9,  1]]])"
      ]
     },
     "execution_count": 8,
     "metadata": {},
     "output_type": "execute_result"
    }
   ],
   "source": [
    "segsites[0][:10]"
   ]
  },
  {
   "cell_type": "code",
   "execution_count": 9,
   "metadata": {
    "collapsed": false
   },
   "outputs": [
    {
     "name": "stdout",
     "output_type": "stream",
     "text": [
      "CHROM\tPOS\tN_ALLELES\tN_CHR\t{COUNT}\n",
      "CAE26\t1000070\t2\t10\t9\t1\n",
      "CAE26\t1000482\t2\t10\t10\t0\n",
      "CAE26\t1000485\t2\t10\t10\t0\n",
      "CAE26\t1000493\t2\t10\t10\t0\n",
      "CAE26\t1000589\t2\t10\t10\t0\n",
      "CAE26\t1000594\t2\t10\t10\t0\n",
      "CAE26\t1001067\t2\t10\t10\t0\n",
      "CAE26\t1001085\t2\t10\t10\t0\n",
      "CAE26\t1001430\t2\t10\t10\t0\n",
      "CHROM\tPOS\tN_ALLELES\tN_CHR\t{COUNT}\n",
      "CAE26\t1000070\t2\t38\t37\t1\n",
      "CAE26\t1000482\t2\t42\t42\t0\n",
      "CAE26\t1000485\t2\t42\t40\t2\n",
      "CAE26\t1000493\t2\t42\t42\t0\n",
      "CAE26\t1000589\t2\t36\t35\t1\n",
      "CAE26\t1000594\t2\t36\t35\t1\n",
      "CAE26\t1001067\t2\t44\t44\t0\n",
      "CAE26\t1001085\t2\t44\t44\t0\n",
      "CAE26\t1001430\t2\t44\t44\t0\n"
     ]
    }
   ],
   "source": [
    "!head ~/lustre/scratch110/momi2/parse-vcftools-counts/Barbados.counts.frq.count\n",
    "!head ~/lustre/scratch110/momi2/parse-vcftools-counts/Gambia.counts.frq.count"
   ]
  },
  {
   "cell_type": "code",
   "execution_count": 10,
   "metadata": {
    "collapsed": false
   },
   "outputs": [
    {
     "data": {
      "text/plain": [
       "('Gambia', 'Barbados')"
      ]
     },
     "execution_count": 10,
     "metadata": {},
     "output_type": "execute_result"
    }
   ],
   "source": [
    "segsites.sampled_pops"
   ]
  },
  {
   "cell_type": "code",
   "execution_count": 11,
   "metadata": {
    "collapsed": false
   },
   "outputs": [
    {
     "name": "stdout",
     "output_type": "stream",
     "text": [
      "CAE28\t21530756\t2\t10\t10\t0\n",
      "CAE28\t21530894\t2\t8\t8\t0\n",
      "CAE28\t21530899\t2\t8\t6\t2\n",
      "CAE28\t21530909\t2\t8\t8\t0\n",
      "CAE28\t21530929\t2\t6\t6\t0\n",
      "CAE28\t21531017\t2\t8\t8\t0\n",
      "CAE28\t21531023\t2\t8\t8\t0\n",
      "CAE28\t21531055\t2\t6\t6\t0\n",
      "CAE28\t21531189\t2\t10\t10\t0\n",
      "CAE28\t21531196\t2\t10\t10\t0\n",
      "CAE28\t21530756\t2\t44\t44\t0\n",
      "CAE28\t21530894\t2\t44\t44\t0\n",
      "CAE28\t21530899\t2\t44\t41\t3\n",
      "CAE28\t21530909\t2\t42\t42\t0\n",
      "CAE28\t21530929\t2\t40\t40\t0\n",
      "CAE28\t21531017\t2\t44\t39\t5\n",
      "CAE28\t21531023\t2\t44\t44\t0\n",
      "CAE28\t21531055\t2\t42\t42\t0\n",
      "CAE28\t21531189\t2\t42\t42\t0\n",
      "CAE28\t21531196\t2\t42\t42\t0\n"
     ]
    }
   ],
   "source": [
    "!tail ~/lustre/scratch110/momi2/parse-vcftools-counts/Barbados.counts.frq.count\n",
    "!tail ~/lustre/scratch110/momi2/parse-vcftools-counts/Gambia.counts.frq.count"
   ]
  },
  {
   "cell_type": "code",
   "execution_count": 12,
   "metadata": {
    "collapsed": false
   },
   "outputs": [
    {
     "data": {
      "text/plain": [
       "array([[[41,  1],\n",
       "        [10,  0]],\n",
       "\n",
       "       [[21, 23],\n",
       "        [ 9,  1]],\n",
       "\n",
       "       [[37,  7],\n",
       "        [10,  0]],\n",
       "\n",
       "       [[40,  4],\n",
       "        [10,  0]],\n",
       "\n",
       "       [[36,  8],\n",
       "        [10,  0]],\n",
       "\n",
       "       [[30, 14],\n",
       "        [10,  0]],\n",
       "\n",
       "       [[26, 16],\n",
       "        [ 9,  1]],\n",
       "\n",
       "       [[39,  1],\n",
       "        [10,  0]],\n",
       "\n",
       "       [[41,  3],\n",
       "        [ 6,  2]],\n",
       "\n",
       "       [[39,  5],\n",
       "        [ 8,  0]]])"
      ]
     },
     "execution_count": 12,
     "metadata": {},
     "output_type": "execute_result"
    }
   ],
   "source": [
    "segsites[-1][-10:]"
   ]
  },
  {
   "cell_type": "code",
   "execution_count": null,
   "metadata": {
    "collapsed": true
   },
   "outputs": [],
   "source": []
  }
 ],
 "metadata": {
  "anaconda-cloud": {},
  "kernelspec": {
   "display_name": "Python [default]",
   "language": "python",
   "name": "python3"
  },
  "language_info": {
   "codemirror_mode": {
    "name": "ipython",
    "version": 3
   },
   "file_extension": ".py",
   "mimetype": "text/x-python",
   "name": "python",
   "nbconvert_exporter": "python",
   "pygments_lexer": "ipython3",
   "version": "3.5.2"
  }
 },
 "nbformat": 4,
 "nbformat_minor": 1
}
